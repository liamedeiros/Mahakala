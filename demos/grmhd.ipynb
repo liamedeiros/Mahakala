{
 "cells": [
  {
   "cell_type": "code",
   "execution_count": 1,
   "metadata": {},
   "outputs": [],
   "source": [
    "%load_ext autoreload\n",
    "%autoreload 2"
   ]
  },
  {
   "cell_type": "code",
   "execution_count": 363,
   "metadata": {},
   "outputs": [],
   "source": [
    "import numpy as np\n",
    "import matplotlib.pyplot as plt\n",
    "\n",
    "import mahakala as ma\n",
    "from mahakala.grmhd.athenak import AthenakFluidModel, vec_metric, vec_imetric\n",
    "from mahakala.electrons import rlow_rhigh_model"
   ]
  },
  {
   "cell_type": "code",
   "execution_count": 364,
   "metadata": {},
   "outputs": [
    {
     "name": "stderr",
     "output_type": "stream",
     "text": [
      "100%|██████████| 456/456 [00:00<00:00, 521.94it/s]\n"
     ]
    }
   ],
   "source": [
    "fname = '../data/torus.mhd_w_bcc.01500.athdf'\n",
    "bhspin = 0.9\n",
    "fluid_gamma = 13./9\n",
    "\n",
    "fluid_model = AthenakFluidModel(fname, bhspin)"
   ]
  },
  {
   "cell_type": "code",
   "execution_count": 335,
   "metadata": {},
   "outputs": [],
   "source": [
    "observing_frequency = 230.e9\n",
    "Mass_scale = 5e+24\n",
    "M_bh = 6.2e9 * 1.989e33\n",
    "r_high = 40\n",
    "\n",
    "inclination_in_degrees = 60\n",
    "distance_in_rg = 1000\n",
    "\n",
    "fov = 10\n",
    "number_pixels_across = 80\n",
    "\n",
    "s0 = ma.initialize_geodesics_at_camera(bhspin, inclination_in_degrees, distance_in_rg, -fov, fov, number_pixels_across)"
   ]
  },
  {
   "cell_type": "code",
   "execution_count": 321,
   "metadata": {},
   "outputs": [],
   "source": [
    "S, final_dt = ma.geodesic_integrator(10000, s0, 40, 1e-4, bhspin)"
   ]
  },
  {
   "cell_type": "code",
   "execution_count": 344,
   "metadata": {},
   "outputs": [
    {
     "name": "stderr",
     "output_type": "stream",
     "text": [
      "100%|██████████| 456/456 [00:05<00:00, 85.54it/s]\n"
     ]
    }
   ],
   "source": [
    "prim_data = fluid_model.get_prims_from_geodesics(S)"
   ]
  },
  {
   "cell_type": "code",
   "execution_count": 322,
   "metadata": {},
   "outputs": [
    {
     "name": "stderr",
     "output_type": "stream",
     "text": [
      "  0%|          | 0/456 [00:00<?, ?it/s]"
     ]
    },
    {
     "name": "stderr",
     "output_type": "stream",
     "text": [
      "100%|██████████| 456/456 [00:05<00:00, 84.40it/s]\n"
     ]
    }
   ],
   "source": [
    "fluid_scalars = fluid_model.get_fluid_scalars_from_geodesics(S)"
   ]
  },
  {
   "cell_type": "code",
   "execution_count": 336,
   "metadata": {},
   "outputs": [],
   "source": [
    "# compute supplementary quantities from fluid data\n",
    "\n",
    "bsq = fluid_scalars['b'] * fluid_scalars['b']\n",
    "\n",
    "beta = fluid_scalars['u'] * (fluid_gamma - 1.) / bsq / 0.5\n",
    "beta.at[np.isnan(beta)].set(0.)\n",
    "\n",
    "sigma = bsq / fluid_scalars['dens']\n",
    "sigma.at[np.isnan(sigma)].set(0.)\n",
    "\n",
    "Theta_e = rlow_rhigh_model(fluid_scalars['dens'], fluid_scalars['u'], beta, r_high=r_high)"
   ]
  },
  {
   "cell_type": "code",
   "execution_count": 378,
   "metadata": {},
   "outputs": [],
   "source": [
    "local_nu = - fluid_scalars['kdotu'] * observing_frequency\n",
    "gamma_inv_data = local_nu / observing_frequency\n",
    "\n",
    "units = fluid_model.get_units(M_BH, Mass_scale)\n",
    "\n",
    "B_in_gauss = units['B_unit'] * fluid_scalars['b']\n",
    "Ne_in_cgs = units['Ne_unit'] * fluid_scalars['dens']"
   ]
  },
  {
   "cell_type": "code",
   "execution_count": 411,
   "metadata": {},
   "outputs": [
    {
     "name": "stderr",
     "output_type": "stream",
     "text": [
      "  0%|          | 0/2121 [00:00<?, ?it/s]"
     ]
    },
    {
     "name": "stderr",
     "output_type": "stream",
     "text": [
      " 17%|█▋        | 361/2121 [00:01<00:07, 224.34it/s]/home/george/sites/liamedeiros/Mahakala/mahakala/transfer.py:80: RuntimeWarning: invalid value encountered in power\n",
      "  var = np.exp(-np.power(X, 1./3.))\n",
      "/home/george/sites/liamedeiros/Mahakala/mahakala/transfer.py:81: RuntimeWarning: invalid value encountered in power\n",
      "  synemiss = Ne*nus*np.power(jnp.sqrt(X)+np.power(2., 11./12.)*np.power(X, 1./6.), 2.)/(special.kn(2,1./Theta_e))\n",
      "100%|██████████| 2121/2121 [00:07<00:00, 271.01it/s]\n"
     ]
    }
   ],
   "source": [
    "nsteps, npx, _ = S.shape\n",
    "\n",
    "from tqdm import tqdm\n",
    "\n",
    "from mahakala.transfer import synchrotron_emissivity\n",
    "\n",
    "synemiss_data = np.empty((nsteps, npx))\n",
    "for i in tqdm(range(nsteps)):\n",
    "    synemiss_data[i] = synchrotron_emissivity(Ne_in_cgs[i], Theta_e[i], B_in_gauss[i], local_nu[i], fluid_scalars['pitch_angle'][i])\n",
    "    #synemiss_data[i] = emission_coefficient(ne_data[i], Theta_e[i], bfield[i], local_nu[i], beta[i], fluid_scalars['pitch_angle'][i])\n",
    "index = np.where(np.isnan(synemiss_data) == True)  # is the == True needed?\n",
    "synemiss_data[index[0], index[1]] = 0.0\n",
    "del index\n"
   ]
  },
  {
   "cell_type": "code",
   "execution_count": 413,
   "metadata": {},
   "outputs": [
    {
     "data": {
      "text/plain": [
       "((2121, 6400), (2121, 6400))"
      ]
     },
     "execution_count": 413,
     "metadata": {},
     "output_type": "execute_result"
    }
   ],
   "source": [
    "synemiss_data.shape, synemiss_data_old.shape"
   ]
  },
  {
   "cell_type": "code",
   "execution_count": 414,
   "metadata": {},
   "outputs": [
    {
     "data": {
      "text/plain": [
       "True"
      ]
     },
     "execution_count": 414,
     "metadata": {},
     "output_type": "execute_result"
    }
   ],
   "source": [
    "np.allclose(synemiss_data, synemiss_data_old)"
   ]
  },
  {
   "cell_type": "code",
   "execution_count": null,
   "metadata": {},
   "outputs": [],
   "source": []
  },
  {
   "cell_type": "code",
   "execution_count": 397,
   "metadata": {},
   "outputs": [
    {
     "data": {
      "text/plain": [
       "<matplotlib.image.AxesImage at 0x7f791ac345d0>"
      ]
     },
     "execution_count": 397,
     "metadata": {},
     "output_type": "execute_result"
    },
    {
     "data": {
      "image/png": "[encoded data removed]",
      "text/plain": [
       "<Figure size 640x480 with 1 Axes>"
      ]
     },
     "metadata": {},
     "output_type": "display_data"
    }
   ],
   "source": [
    "plt.imshow(synemiss_data.sum(axis=0).reshape((80, 80)))"
   ]
  },
  {
   "cell_type": "code",
   "execution_count": null,
   "metadata": {},
   "outputs": [],
   "source": []
  },
  {
   "cell_type": "code",
   "execution_count": null,
   "metadata": {},
   "outputs": [],
   "source": [
    "\n",
    "absorption_data = np.zeros((nsteps, npx))\n",
    "for i in tqdm(range(nsteps)):\n",
    "    absorption_data[i] = mahakala.transfer.absorption_coefficient(t_electron[i,:], synemiss_data[i,:], local_nu[i,:], beta_data[i,:])\n",
    "index = np.where(np.isnan(absorption_data) == True)\n",
    "absorption_data[index[0], index[1]] = 0.0\n",
    "del index"
   ]
  },
  {
   "cell_type": "code",
   "execution_count": null,
   "metadata": {},
   "outputs": [],
   "source": []
  },
  {
   "cell_type": "code",
   "execution_count": null,
   "metadata": {},
   "outputs": [],
   "source": []
  },
  {
   "cell_type": "code",
   "execution_count": null,
   "metadata": {},
   "outputs": [],
   "source": []
  },
  {
   "cell_type": "code",
   "execution_count": null,
   "metadata": {},
   "outputs": [],
   "source": []
  },
  {
   "cell_type": "code",
   "execution_count": null,
   "metadata": {},
   "outputs": [],
   "source": []
  },
  {
   "cell_type": "code",
   "execution_count": 383,
   "metadata": {},
   "outputs": [
    {
     "data": {
      "image/png": "[encoded data removed]",
      "text/plain": [
       "<Figure size 640x480 with 1 Axes>"
      ]
     },
     "metadata": {},
     "output_type": "display_data"
    }
   ],
   "source": [
    "pidx = 174\n",
    "\n",
    "plt.plot(ne_data[:, pidx], '.')\n",
    "plt.plot(Ne_in_cgs[:, pidx], '.')\n",
    "\n",
    "#plt.plot(B_in_gauss[:, pidx])\n",
    "#plt.plot(bfield[:, pidx])\n",
    "\n",
    "#plt.plot(beta[:, pidx])\n",
    "#plt.plot(beta_data[:, pidx])\n",
    "\n",
    "plt.yscale('log')\n",
    "#plt.ylim(1.e2, 3)"
   ]
  },
  {
   "cell_type": "code",
   "execution_count": null,
   "metadata": {},
   "outputs": [],
   "source": []
  },
  {
   "cell_type": "code",
   "execution_count": null,
   "metadata": {},
   "outputs": [],
   "source": []
  },
  {
   "cell_type": "code",
   "execution_count": null,
   "metadata": {},
   "outputs": [],
   "source": []
  },
  {
   "cell_type": "code",
   "execution_count": null,
   "metadata": {},
   "outputs": [],
   "source": []
  },
  {
   "cell_type": "code",
   "execution_count": 325,
   "metadata": {},
   "outputs": [
    {
     "name": "stderr",
     "output_type": "stream",
     "text": [
      "100%|██████████| 456/456 [00:05<00:00, 89.85it/s]\n"
     ]
    },
    {
     "name": "stdout",
     "output_type": "stream",
     "text": [
      "Time to compute meshblock indices: 5.092602968215942\n",
      "Time to compute primitives: 0.5080239772796631\n"
     ]
    }
   ],
   "source": [
    "prim_data = fluid_model.get_prims_from_geodesics(S, profile=True)"
   ]
  },
  {
   "cell_type": "code",
   "execution_count": 342,
   "metadata": {},
   "outputs": [
    {
     "ename": "AttributeError",
     "evalue": "'AthenakFluidModel' object has no attribute 'compute_tensorial'",
     "output_type": "error",
     "traceback": [
      "\u001b[0;31m---------------------------------------------------------------------------\u001b[0m",
      "\u001b[0;31mAttributeError\u001b[0m                            Traceback (most recent call last)",
      "Cell \u001b[0;32mIn[342], line 1\u001b[0m\n\u001b[0;32m----> 1\u001b[0m tensorial_data \u001b[38;5;241m=\u001b[39m fluid_model\u001b[38;5;241m.\u001b[39mcompute_tensorial(S, prim_data)\n",
      "\u001b[0;31mAttributeError\u001b[0m: 'AthenakFluidModel' object has no attribute 'compute_tensorial'"
     ]
    }
   ],
   "source": [
    "tensorial_data = fluid_model.compute_tensorial(S, prim_data)"
   ]
  },
  {
   "cell_type": "code",
   "execution_count": 326,
   "metadata": {},
   "outputs": [
    {
     "name": "stderr",
     "output_type": "stream",
     "text": [
      "  0%|          | 0/456 [00:00<?, ?it/s]"
     ]
    },
    {
     "name": "stderr",
     "output_type": "stream",
     "text": [
      "100%|██████████| 456/456 [00:05<00:00, 85.63it/s]\n"
     ]
    },
    {
     "name": "stdout",
     "output_type": "stream",
     "text": [
      "Time to compute meshblock indices: 5.343536853790283\n",
      "Time to compute scalar data: 0.7264771461486816\n"
     ]
    }
   ],
   "source": [
    "fluid_scalars = fluid_model.get_fluid_scalars_from_geodesics(S, profile=True)\n",
    "\n",
    "# [prims[:, irho], prims[:, iu], pitch_angle, kdotu, kdotb, bdotb]\n",
    "# checked: kdotu, kdotb, bdotb"
   ]
  },
  {
   "cell_type": "code",
   "execution_count": 200,
   "metadata": {},
   "outputs": [
    {
     "data": {
      "text/plain": [
       "dict_keys(['dens', 'u', 'pitch_angle', 'kdotu', 'b'])"
      ]
     },
     "execution_count": 200,
     "metadata": {},
     "output_type": "execute_result"
    }
   ],
   "source": [
    "fluid_scalars.keys()"
   ]
  },
  {
   "cell_type": "code",
   "execution_count": null,
   "metadata": {},
   "outputs": [],
   "source": []
  },
  {
   "cell_type": "code",
   "execution_count": 201,
   "metadata": {},
   "outputs": [
    {
     "data": {
      "text/plain": [
       "dict_keys(['ucon', 'bcon', 'pitch_angle', 'udotu', 'kdotu', 'kdotb', 'bdotb', 'UuUu', 'final_M'])"
      ]
     },
     "execution_count": 201,
     "metadata": {},
     "output_type": "execute_result"
    }
   ],
   "source": [
    "tensorial_data.keys()"
   ]
  },
  {
   "cell_type": "code",
   "execution_count": 205,
   "metadata": {},
   "outputs": [
    {
     "data": {
      "text/plain": [
       "((1588, 1600), (1588, 1600))"
      ]
     },
     "execution_count": 205,
     "metadata": {},
     "output_type": "execute_result"
    }
   ],
   "source": [
    "tensorial_data['pitch_angle'].shape, fluid_scalars['pitch_angle'].shape"
   ]
  },
  {
   "cell_type": "code",
   "execution_count": 265,
   "metadata": {},
   "outputs": [
    {
     "name": "stdout",
     "output_type": "stream",
     "text": [
      "70 False True True\n"
     ]
    }
   ],
   "source": [
    "for step in range(1588):\n",
    "    diff_pa = np.allclose(tensorial_data['pitch_angle'][step], fluid_scalars['pitch_angle'][step])\n",
    "    diff_kdotu = np.allclose(tensorial_data['kdotu'][step], fluid_scalars['kdotu'][step])\n",
    "    diff_b = np.allclose(np.sqrt(tensorial_data['bdotb'][step]), fluid_scalars['b'][step])\n",
    "\n",
    "    if not diff_pa or not diff_kdotu or not diff_b:\n",
    "        print(step, diff_pa, diff_kdotu, diff_b)\n",
    "        \n",
    "        break"
   ]
  },
  {
   "cell_type": "code",
   "execution_count": 274,
   "metadata": {},
   "outputs": [
    {
     "data": {
      "text/plain": [
       "[<matplotlib.lines.Line2D at 0x7f741f0f0e10>]"
      ]
     },
     "execution_count": 274,
     "metadata": {},
     "output_type": "execute_result"
    },
    {
     "data": {
      "image/png": "[encoded data removed]",
      "text/plain": [
       "<Figure size 640x480 with 1 Axes>"
      ]
     },
     "metadata": {},
     "output_type": "display_data"
    }
   ],
   "source": [
    "diffs = []\n",
    "for step in range(tensorial_data['bdotb'].shape[0]):\n",
    "    diffs.append(np.max(np.abs(tensorial_data['kdotu'][step] - fluid_scalars['kdotu'][step])))\n",
    "    #diffs.append(np.max(np.abs(tensorial_data['pitch_angle'][step] - fluid_scalars['pitch_angle'][step])))\n",
    "    #diffs.append(np.max(np.abs(np.sqrt(tensorial_data['bdotb'][step]) - fluid_scalars['b'][step])))\n",
    "plt.plot(diffs)"
   ]
  },
  {
   "cell_type": "code",
   "execution_count": 288,
   "metadata": {},
   "outputs": [
    {
     "data": {
      "text/plain": [
       "(0.0, 2.0)"
      ]
     },
     "execution_count": 288,
     "metadata": {},
     "output_type": "execute_result"
    },
    {
     "data": {
      "image/png": "[encoded data removed]",
      "text/plain": [
       "<Figure size 640x480 with 2 Axes>"
      ]
     },
     "metadata": {},
     "output_type": "display_data"
    }
   ],
   "source": [
    "ax1 = plt.subplot(2, 1, 1)\n",
    "ax2 = plt.subplot(2, 1, 2)\n",
    "\n",
    "ax1.plot(tensorial_data['kdotu'][:, 1024])\n",
    "ax1.plot(fluid_scalars['kdotu'][:, 1024])\n",
    "\n",
    "ax1.set_ylim(-20000, 0)\n",
    "\n",
    "#ax2.plot(S[:, 1024, 0])\n",
    "\n",
    "ax2.plot(fluid_scalars['dens'][:, 1024])\n",
    "\n",
    "ax2.plot(S[:, 1024, 1])\n",
    "ax2.set_ylim(0, 2)\n"
   ]
  },
  {
   "cell_type": "code",
   "execution_count": 280,
   "metadata": {},
   "outputs": [
    {
     "data": {
      "text/plain": [
       "(1020.0, 1040.0)"
      ]
     },
     "execution_count": 280,
     "metadata": {},
     "output_type": "execute_result"
    },
    {
     "data": {
      "image/png": "[encoded data removed]",
      "text/plain": [
       "<Figure size 640x480 with 1 Axes>"
      ]
     },
     "metadata": {},
     "output_type": "display_data"
    }
   ],
   "source": [
    "step = 600\n",
    "plt.plot(tensorial_data['kdotu'][step] - fluid_scalars['kdotu'][step])\n",
    "plt.xlim(1020, 1040)\n",
    "\n",
    "#tensorial_data['pitch_angle'][step] - fluid_scalars['pitch_angle'][step].shape\n",
    "\n",
    "#fluid_scalars['pitch_angle'][step][1058]"
   ]
  },
  {
   "cell_type": "code",
   "execution_count": 262,
   "metadata": {},
   "outputs": [
    {
     "data": {
      "text/plain": [
       "(0.0, Array(0.00034527, dtype=float32))"
      ]
     },
     "execution_count": 262,
     "metadata": {},
     "output_type": "execute_result"
    }
   ],
   "source": [
    "npx = 1058\n",
    "tensorial_data['pitch_angle'][step][npx], fluid_scalars['pitch_angle'][step][npx]"
   ]
  },
  {
   "cell_type": "code",
   "execution_count": null,
   "metadata": {},
   "outputs": [],
   "source": []
  },
  {
   "cell_type": "code",
   "execution_count": null,
   "metadata": {},
   "outputs": [],
   "source": []
  },
  {
   "cell_type": "code",
   "execution_count": 231,
   "metadata": {},
   "outputs": [
    {
     "name": "stdout",
     "output_type": "stream",
     "text": [
      "False\n",
      "False\n"
     ]
    }
   ],
   "source": [
    "\n",
    "ipx = 400\n",
    "\n",
    "for key in ['pitch_angle', 'kdotu']:\n",
    "    print(np.allclose(tensorial_data[key][:ipx], fluid_scalars[key][:ipx], atol=1e-5))"
   ]
  },
  {
   "cell_type": "code",
   "execution_count": 226,
   "metadata": {},
   "outputs": [],
   "source": [
    "for i in range(1600):\n",
    "    if not np.allclose(tensorial_data['pitch_angle'][70][i], fluid_scalars['pitch_angle'][70][i], atol=1e-4):\n",
    "        print(i, tensorial_data['pitch_angle'][70][i], fluid_scalars['pitch_angle'][70][i])"
   ]
  },
  {
   "cell_type": "code",
   "execution_count": null,
   "metadata": {},
   "outputs": [],
   "source": []
  },
  {
   "cell_type": "code",
   "execution_count": 174,
   "metadata": {},
   "outputs": [
    {
     "data": {
      "text/plain": [
       "Array(-0.8300037, dtype=float32)"
      ]
     },
     "execution_count": 174,
     "metadata": {},
     "output_type": "execute_result"
    }
   ],
   "source": [
    "fluid_scalars[:, :, 2][10, 254]"
   ]
  },
  {
   "cell_type": "code",
   "execution_count": 173,
   "metadata": {},
   "outputs": [
    {
     "data": {
      "text/plain": [
       "2.549910327614144"
      ]
     },
     "execution_count": 173,
     "metadata": {},
     "output_type": "execute_result"
    }
   ],
   "source": [
    "tensorial_data['pitch_angle'][10, 254]"
   ]
  },
  {
   "cell_type": "code",
   "execution_count": null,
   "metadata": {},
   "outputs": [],
   "source": []
  },
  {
   "cell_type": "code",
   "execution_count": 162,
   "metadata": {},
   "outputs": [
    {
     "data": {
      "text/plain": [
       "dict_keys(['ucon', 'bcon', 'pitch_angle', 'udotu', 'kdotu', 'kdotb', 'bdotb', 'UuUu', 'final_M'])"
      ]
     },
     "execution_count": 162,
     "metadata": {},
     "output_type": "execute_result"
    }
   ],
   "source": [
    "tensorial_data.keys()"
   ]
  },
  {
   "cell_type": "code",
   "execution_count": 161,
   "metadata": {},
   "outputs": [
    {
     "data": {
      "text/plain": [
       "(Array([-1.4163232e-06, -1.3280218e-04, -5.2296702e-05, -3.0110543e-06,\n",
       "         1.1159096e-06, -1.3306091e-04, -5.2293599e-05, -3.1636741e-06],      dtype=float32),\n",
       " array([-1.41632347e-06, -1.32802175e-04, -5.22966984e-05, -3.01105410e-06]))"
      ]
     },
     "execution_count": 161,
     "metadata": {},
     "output_type": "execute_result"
    }
   ],
   "source": [
    "istep = 10\n",
    "ipx = 234\n",
    "\n",
    "fluid_scalars['prims'][istep, ipx], tensorial_data['bcon'][:, istep, ipx]"
   ]
  },
  {
   "cell_type": "code",
   "execution_count": null,
   "metadata": {},
   "outputs": [],
   "source": []
  },
  {
   "cell_type": "code",
   "execution_count": null,
   "metadata": {},
   "outputs": [],
   "source": [
    "## end scratch"
   ]
  },
  {
   "cell_type": "code",
   "execution_count": 398,
   "metadata": {},
   "outputs": [],
   "source": [
    "import mahakala.transfer\n",
    "\n",
    "from tqdm import tqdm"
   ]
  },
  {
   "cell_type": "code",
   "execution_count": 409,
   "metadata": {},
   "outputs": [
    {
     "name": "stderr",
     "output_type": "stream",
     "text": [
      "  0%|          | 0/2121 [00:00<?, ?it/s]"
     ]
    },
    {
     "name": "stderr",
     "output_type": "stream",
     "text": [
      " 17%|█▋        | 363/2121 [00:01<00:08, 198.74it/s]/home/george/sites/liamedeiros/Mahakala/mahakala/transfer.py:98: RuntimeWarning: invalid value encountered in power\n",
      "  var = np.exp(-np.power(X,1./3.))\n",
      "/home/george/sites/liamedeiros/Mahakala/mahakala/transfer.py:99: RuntimeWarning: invalid value encountered in power\n",
      "  synemiss = Ne*nus*np.power(jnp.sqrt(X)+np.power(2., 11./12.)*np.power(X,1./6.),2.)/(special.kn(2,1./thetae))\n",
      "100%|██████████| 2121/2121 [00:08<00:00, 240.63it/s]\n",
      "100%|██████████| 2121/2121 [00:05<00:00, 353.60it/s]\n"
     ]
    }
   ],
   "source": [
    "nsteps, npx, _ = S.shape\n",
    "\n",
    "synemiss_data = np.empty((nsteps, npx))\n",
    "for i in tqdm(range(nsteps)):\n",
    "    synemiss_data[i] = mahakala.transfer.emission_coefficient_old(ne_data[i], t_electron[i], bfield[i], local_nu[i], beta_data[i], fluid_scalars['pitch_angle'][i])\n",
    "index = np.where(np.isnan(synemiss_data) == True)  # is the == True needed?\n",
    "synemiss_data[index[0], index[1]] = 0.0\n",
    "del index\n",
    "\n",
    "absorption_data = np.zeros((nsteps, npx))\n",
    "for i in tqdm(range(nsteps)):\n",
    "    absorption_data[i] = mahakala.transfer.absorption_coefficient(t_electron[i,:], synemiss_data[i,:], local_nu[i,:], beta_data[i,:])\n",
    "index = np.where(np.isnan(absorption_data) == True)\n",
    "absorption_data[index[0], index[1]] = 0.0\n",
    "del index"
   ]
  },
  {
   "cell_type": "code",
   "execution_count": 410,
   "metadata": {},
   "outputs": [],
   "source": [
    "synemiss_data_old = synemiss_data.copy()"
   ]
  },
  {
   "cell_type": "code",
   "execution_count": null,
   "metadata": {},
   "outputs": [],
   "source": []
  },
  {
   "cell_type": "code",
   "execution_count": 406,
   "metadata": {},
   "outputs": [
    {
     "data": {
      "text/plain": [
       "<matplotlib.image.AxesImage at 0x7f791ab20ad0>"
      ]
     },
     "execution_count": 406,
     "metadata": {},
     "output_type": "execute_result"
    },
    {
     "data": {
      "image/png": "[encoded data removed]",
      "text/plain": [
       "<Figure size 640x480 with 1 Axes>"
      ]
     },
     "metadata": {},
     "output_type": "display_data"
    }
   ],
   "source": [
    "plt.imshow(synemiss_data.sum(axis=0).reshape((80, 80)))\n",
    "plt.imshow(absorption_data.sum(axis=0).reshape((80, 80)))"
   ]
  },
  {
   "cell_type": "code",
   "execution_count": null,
   "metadata": {},
   "outputs": [],
   "source": []
  },
  {
   "cell_type": "code",
   "execution_count": null,
   "metadata": {},
   "outputs": [],
   "source": []
  },
  {
   "cell_type": "code",
   "execution_count": 19,
   "metadata": {},
   "outputs": [
    {
     "name": "stderr",
     "output_type": "stream",
     "text": [
      "  0%|          | 0/10001 [00:00<?, ?it/s]"
     ]
    },
    {
     "name": "stderr",
     "output_type": "stream",
     "text": [
      "  3%|▎         | 318/10001 [00:00<00:15, 629.66it/s]/home/george/sites/liamedeiros/Mahakala/mahakala/transfer.py:56: RuntimeWarning: invalid value encountered in power\n",
      "  var = np.exp(-np.power(X,1./3.))\n",
      "/home/george/sites/liamedeiros/Mahakala/mahakala/transfer.py:57: RuntimeWarning: invalid value encountered in power\n",
      "  synemiss = Ne*nus*np.power(jnp.sqrt(X)+np.power(2., 11./12.)*np.power(X,1./6.),2.)/(special.kn(2,1./thetae))\n",
      "/home/george/sites/liamedeiros/Mahakala/mahakala/transfer.py:54: RuntimeWarning: divide by zero encountered in divide\n",
      "  X=nu/nus\n",
      "/home/george/sites/liamedeiros/Mahakala/mahakala/transfer.py:57: RuntimeWarning: invalid value encountered in multiply\n",
      "  synemiss = Ne*nus*np.power(jnp.sqrt(X)+np.power(2., 11./12.)*np.power(X,1./6.),2.)/(special.kn(2,1./thetae))\n",
      "100%|██████████| 10001/10001 [00:06<00:00, 1573.47it/s]\n",
      "  0%|          | 0/10001 [00:00<?, ?it/s]/home/george/sites/liamedeiros/Mahakala/mahakala/transfer.py:64: RuntimeWarning: divide by zero encountered in divide\n",
      "  B_nu = (2*HPL*nu**3/CL**2)/(pow(np.e,HPL*nu/(KB*t_electron)) - 1)\n",
      "100%|██████████| 10001/10001 [00:00<00:00, 15488.66it/s]\n"
     ]
    }
   ],
   "source": [
    "nsteps, npx, _ = S.shape\n",
    "\n",
    "synemiss_data = np.empty((nsteps, npx))\n",
    "for i in tqdm(range(nsteps)):\n",
    "    synemiss_data[i] = mahakala.transfer.emission_coefficient(ne_data[i], t_electron[i], bfield[i], local_nu[i], beta_data[i], tensorial_data['pitch_angle'][i])\n",
    "index = np.where(np.isnan(synemiss_data) == True)  # is the == True needed?\n",
    "synemiss_data[index[0], index[1]] = 0.0\n",
    "del index\n",
    "\n",
    "absorption_data = np.zeros((nsteps, npx))\n",
    "for i in tqdm(range(nsteps)):\n",
    "    absorption_data[i] = mahakala.transfer.absorption_coefficient(t_electron[i,:], synemiss_data[i,:], local_nu[i,:], beta_data[i,:])\n",
    "index = np.where(np.isnan(absorption_data) == True)\n",
    "absorption_data[index[0], index[1]] = 0.0\n",
    "del index"
   ]
  },
  {
   "cell_type": "code",
   "execution_count": 20,
   "metadata": {},
   "outputs": [],
   "source": [
    "final_I = mahakala.transfer.solve_specific_intensity(nsteps, synemiss_data, absorption_data, local_nu, tensorial_data['kdotu'], final_dt, M_BH)"
   ]
  },
  {
   "cell_type": "code",
   "execution_count": 22,
   "metadata": {},
   "outputs": [],
   "source": [
    "final_image = final_I.reshape((40, 40))"
   ]
  },
  {
   "cell_type": "code",
   "execution_count": 42,
   "metadata": {},
   "outputs": [
    {
     "ename": "UnboundLocalError",
     "evalue": "cannot access local variable 'val' where it is not associated with a value",
     "output_type": "error",
     "traceback": [
      "\u001b[0;31m---------------------------------------------------------------------------\u001b[0m",
      "\u001b[0;31mUnboundLocalError\u001b[0m                         Traceback (most recent call last)",
      "Cell \u001b[0;32mIn[42], line 1\u001b[0m\n\u001b[0;32m----> 1\u001b[0m final_I2 \u001b[38;5;241m=\u001b[39m mahakala\u001b[38;5;241m.\u001b[39mtransfer\u001b[38;5;241m.\u001b[39msolve_specific_intensity_new2(nsteps, synemiss_data, absorption_data, tensorial_data[\u001b[38;5;124m'\u001b[39m\u001b[38;5;124mkdotu\u001b[39m\u001b[38;5;124m'\u001b[39m], final_dt, M_BH)\n",
      "File \u001b[0;32m~/sites/liamedeiros/Mahakala/mahakala/transfer.py:49\u001b[0m, in \u001b[0;36msolve_specific_intensity_new2\u001b[0;34m(N, synemiss_data, absorption_data, KuUu, dt, M_BH)\u001b[0m\n\u001b[1;32m     45\u001b[0m def emission_coefficient(Ne, t_electron, B, nu, beta, angle):\n\u001b[1;32m     47\u001b[0m     thetae = (KB * t_electron)/( ME * CL**2)\n\u001b[0;32m---> 49\u001b[0m     # Eq [2]\n\u001b[1;32m     50\u001b[0m     nuc = 2.79925e6*B\n\u001b[1;32m     51\u001b[0m     nus = (2./9.)*nuc*thetae*thetae*np.sin(angle)\n",
      "\u001b[0;31mUnboundLocalError\u001b[0m: cannot access local variable 'val' where it is not associated with a value"
     ]
    }
   ],
   "source": [
    "final_I2 = mahakala.transfer.solve_specific_intensity_new2(nsteps, synemiss_data, absorption_data, tensorial_data['kdotu'], final_dt, M_BH)"
   ]
  },
  {
   "cell_type": "code",
   "execution_count": 33,
   "metadata": {},
   "outputs": [
    {
     "data": {
      "text/plain": [
       "<matplotlib.image.AxesImage at 0x7fa333df1ad0>"
      ]
     },
     "execution_count": 33,
     "metadata": {},
     "output_type": "execute_result"
    },
    {
     "data": {
      "image/png": "[encoded data removed]",
      "text/plain": [
       "<Figure size 800x800 with 1 Axes>"
      ]
     },
     "metadata": {},
     "output_type": "display_data"
    }
   ],
   "source": [
    "fig = plt.figure(figsize=(8, 8), facecolor='w')\n",
    "\n",
    "final_image = final_image / np.max(final_image)\n",
    "\n",
    "ax1 = plt.subplot(1, 1, 1)\n",
    "ax1.imshow(np.log10(final_image).T, cmap='afmhot', vmin=-4, vmax=0, origin='lower')"
   ]
  },
  {
   "cell_type": "markdown",
   "metadata": {},
   "source": [
    "# tests below"
   ]
  },
  {
   "cell_type": "code",
   "execution_count": null,
   "metadata": {},
   "outputs": [],
   "source": []
  },
  {
   "cell_type": "code",
   "execution_count": 228,
   "metadata": {},
   "outputs": [
    {
     "data": {
      "text/plain": [
       "<matplotlib.image.AxesImage at 0x7fd32e76aa30>"
      ]
     },
     "execution_count": 228,
     "metadata": {},
     "output_type": "execute_result"
    },
    {
     "data": {
      "image/png": "[encoded data removed]",
      "text/plain": [
       "<Figure size 432x288 with 1 Axes>"
      ]
     },
     "metadata": {
      "needs_background": "light"
     },
     "output_type": "display_data"
    }
   ],
   "source": [
    "ax1 = plt.subplot(1, 1, 1)\n",
    "\n",
    "ax1.imshow(tensorial_data['pitch_angle'].min(axis=0).reshape((10, 10)))"
   ]
  },
  {
   "cell_type": "code",
   "execution_count": null,
   "metadata": {},
   "outputs": [],
   "source": []
  },
  {
   "cell_type": "code",
   "execution_count": 101,
   "metadata": {},
   "outputs": [],
   "source": [
    "from jax import jit, vmap\n",
    "\n",
    "@jit\n",
    "def vec_metric(X, bhspin):\n",
    "    return vmap(mahakala.geodesics.metric, in_axes=(0, None))(X, bhspin)\n",
    "\n",
    "@jit\n",
    "def vec_imetric(X, bhspin):\n",
    "    return vmap(mahakala.geodesics.imetric, in_axes=(0, None))(X, bhspin)"
   ]
  },
  {
   "cell_type": "code",
   "execution_count": null,
   "metadata": {},
   "outputs": [],
   "source": []
  },
  {
   "cell_type": "code",
   "execution_count": 102,
   "metadata": {},
   "outputs": [
    {
     "name": "stderr",
     "output_type": "stream",
     "text": [
      "100%|██████████| 10001/10001 [00:04<00:00, 2123.72it/s]\n"
     ]
    }
   ],
   "source": [
    "final_M = np.zeros((len(S),len(S[0]),4))\n",
    "for i in tqdm(range(0,len(S))):\n",
    "    final_M[i,:,:] = vec_imetric(S[i,:,:4], bhspin)[:,0,:]"
   ]
  },
  {
   "cell_type": "code",
   "execution_count": 205,
   "metadata": {},
   "outputs": [
    {
     "name": "stdout",
     "output_type": "stream",
     "text": [
      "65\n",
      "74\n"
     ]
    }
   ],
   "source": [
    "xpos_vec = S[:, :, :4]\n",
    "\n",
    "xs = xpos_vec[:, :, 1]\n",
    "ys = xpos_vec[:, :, 2]\n",
    "zs = xpos_vec[:, :, 3]\n",
    "\n",
    "for j in range(100):\n",
    "    if np.isnan(np.min(xs[:, j])):\n",
    "        print(j)\n",
    "    #print(j, np.min(xs[:, j]))"
   ]
  },
  {
   "cell_type": "code",
   "execution_count": 206,
   "metadata": {},
   "outputs": [
    {
     "data": {
      "text/plain": [
       "419"
      ]
     },
     "execution_count": 206,
     "metadata": {},
     "output_type": "execute_result"
    }
   ],
   "source": [
    "len(select_geodesic[:, 0, 1])"
   ]
  },
  {
   "cell_type": "code",
   "execution_count": 207,
   "metadata": {},
   "outputs": [
    {
     "data": {
      "text/plain": [
       "10000"
      ]
     },
     "execution_count": 207,
     "metadata": {},
     "output_type": "execute_result"
    }
   ],
   "source": [
    "len(final_dt[:, 64])"
   ]
  },
  {
   "cell_type": "code",
   "execution_count": 208,
   "metadata": {},
   "outputs": [
    {
     "data": {
      "text/plain": [
       "(-1.8132638931274414, 0.0)"
      ]
     },
     "execution_count": 208,
     "metadata": {},
     "output_type": "execute_result"
    }
   ],
   "source": [
    "tidx = 417\n",
    "xs[tidx, 65], final_dt[tidx, 65]"
   ]
  },
  {
   "cell_type": "code",
   "execution_count": 211,
   "metadata": {},
   "outputs": [
    {
     "data": {
      "text/plain": [
       "array([-24.96421991, -24.34260941, -23.7364769 , ...,          nan,\n",
       "                nan,          nan])"
      ]
     },
     "execution_count": 211,
     "metadata": {},
     "output_type": "execute_result"
    }
   ],
   "source": [
    "final_dt[:, 65]"
   ]
  },
  {
   "cell_type": "code",
   "execution_count": 232,
   "metadata": {},
   "outputs": [
    {
     "data": {
      "text/plain": [
       "(410.0, 425.0)"
      ]
     },
     "execution_count": 232,
     "metadata": {},
     "output_type": "execute_result"
    },
    {
     "data": {
      "image/png": "[encoded data removed]",
      "text/plain": [
       "<Figure size 432x288 with 2 Axes>"
      ]
     },
     "metadata": {
      "needs_background": "light"
     },
     "output_type": "display_data"
    }
   ],
   "source": [
    "ax1 = plt.subplot(2, 1, 1)\n",
    "ax2 = plt.subplot(2, 1, 2)\n",
    "\n",
    "ax1.plot(xs[:, 65])\n",
    "ax2.plot(final_dt[:, 65])\n",
    "ax1.plot(select_geodesic[:, 0, 1])\n",
    "ax2.plot(select_dt_final[:, 0])\n",
    "\n",
    "xlim = [410, 425]\n",
    "\n",
    "ax1.set_xlim(*xlim)\n",
    "ax2.set_xlim(*xlim)"
   ]
  },
  {
   "cell_type": "code",
   "execution_count": 152,
   "metadata": {},
   "outputs": [
    {
     "data": {
      "text/plain": [
       "(419, 1, 8)"
      ]
     },
     "execution_count": 152,
     "metadata": {},
     "output_type": "execute_result"
    }
   ],
   "source": [
    "select_geodesic.shape"
   ]
  },
  {
   "cell_type": "code",
   "execution_count": 155,
   "metadata": {},
   "outputs": [
    {
     "data": {
      "text/plain": [
       "-1.7934848070144653"
      ]
     },
     "execution_count": 155,
     "metadata": {},
     "output_type": "execute_result"
    }
   ],
   "source": [
    "np.nanmin(select_geodesic[:, 0, 1])"
   ]
  },
  {
   "cell_type": "code",
   "execution_count": 233,
   "metadata": {},
   "outputs": [
    {
     "data": {
      "image/png": "[encoded data removed]",
      "text/plain": [
       "<Figure size 720x720 with 1 Axes>"
      ]
     },
     "metadata": {},
     "output_type": "display_data"
    }
   ],
   "source": [
    "plt.figure(figsize=(10, 10), facecolor='w')\n",
    "\n",
    "ax1 = plt.subplot(1, 1, 1)\n",
    "\n",
    "ax1.plot(xs[:, 65], ys[:, 65], '-o')\n",
    "\n",
    "plim = 10\n",
    "ax1.set_xlim(-plim, plim)\n",
    "ax1.set_ylim(-plim, plim)\n",
    "\n",
    "ax1.set_aspect('equal')"
   ]
  },
  {
   "cell_type": "code",
   "execution_count": null,
   "metadata": {},
   "outputs": [],
   "source": []
  },
  {
   "cell_type": "code",
   "execution_count": null,
   "metadata": {},
   "outputs": [],
   "source": []
  },
  {
   "cell_type": "code",
   "execution_count": 76,
   "metadata": {},
   "outputs": [
    {
     "data": {
      "text/plain": [
       "<matplotlib.image.AxesImage at 0x7fd32ac02e20>"
      ]
     },
     "execution_count": 76,
     "metadata": {},
     "output_type": "execute_result"
    },
    {
     "data": {
      "image/png": "[encoded data removed]",
      "text/plain": [
       "<Figure size 432x288 with 1 Axes>"
      ]
     },
     "metadata": {
      "needs_background": "light"
     },
     "output_type": "display_data"
    }
   ],
   "source": [
    "ax1 = plt.subplot(1, 1, 1)\n",
    "\n",
    "ax1.imshow(local_nu.sum(axis=0).reshape((10, 10)))"
   ]
  },
  {
   "cell_type": "code",
   "execution_count": null,
   "metadata": {},
   "outputs": [],
   "source": []
  },
  {
   "cell_type": "code",
   "execution_count": 204,
   "metadata": {},
   "outputs": [
    {
     "data": {
      "text/plain": [
       "<matplotlib.image.AxesImage at 0x7fd32cdb4940>"
      ]
     },
     "execution_count": 204,
     "metadata": {},
     "output_type": "execute_result"
    },
    {
     "data": {
      "image/png": "[encoded data removed]",
      "text/plain": [
       "<Figure size 576x576 with 1 Axes>"
      ]
     },
     "metadata": {},
     "output_type": "display_data"
    }
   ],
   "source": []
  },
  {
   "cell_type": "code",
   "execution_count": null,
   "metadata": {},
   "outputs": [],
   "source": []
  },
  {
   "cell_type": "code",
   "execution_count": null,
   "metadata": {},
   "outputs": [],
   "source": []
  },
  {
   "cell_type": "code",
   "execution_count": null,
   "metadata": {},
   "outputs": [],
   "source": []
  },
  {
   "cell_type": "code",
   "execution_count": null,
   "metadata": {},
   "outputs": [],
   "source": []
  },
  {
   "cell_type": "code",
   "execution_count": null,
   "metadata": {},
   "outputs": [],
   "source": [
    "\n",
    "        Mass_scale = 5e+24\n",
    "\n",
    "        bfield = np.sqrt(BuBu) *  c * np.sqrt(pow(G*M_BH/c**2,-3) * Mass_scale * 4 * np.pi)\n",
    "\n",
    "        ne_data = Mass_scale * densff_data * pow(G*M_BH/c**2,-3)  * 1/(1.67 * 1e-24 +  9.1094 * 1e-28)\n",
    "\n",
    "        R_imp = ((R_high * (beta_data)**2/(1 + (beta_data)**2)) + 1/(1+(beta_data)**2))\n",
    "\n",
    "        t_electron = c**2 * (m_p  * internal_u_data * (4/3 -1) * (5/3-1))/(Kb * densff_data * ((5/3-1) + (4/3-1) * R_imp))\n",
    "\n",
    "        thetae = Kb * t_electron/(m_e*c**2)\n",
    "\n",
    "        #index = np.where(np.isnan(t_electron)== True)\n",
    "        #t_electron[index[0],index[1]] = 0\n",
    "\n",
    "        del R_imp\n",
    "\n",
    "        synemiss_data = np.empty((len(S),LEN))\n",
    "\n",
    "        for i in range(len(S)):\n",
    "            synemiss_data[i,:] = synemiss(ne_data[i,:], t_electron[i,:],bfield[i,:],nu[i,:],beta_data[i,:], observer_angle[i,:])\n",
    "\n",
    "        index = np.where(np.isnan(synemiss_data)==True)\n",
    "        synemiss_data[index[0],index[1]] = 0.0\n",
    "\n",
    "        del index\n",
    "        absorption_data   = np.zeros((len(S), LEN))\n",
    "\n",
    "        #for i in range(len(S)):\n",
    "        #    absorption_data[i,:] = absorption_coeff(t_electron[i,:], synemiss_data[i,:], nu[i,:],beta_data[i,:])\n",
    "\n",
    "\n",
    "\n",
    "        index = np.where(np.isnan(absorption_data)==True)\n",
    "        absorption_data[index[0],index[1]] = 0.0\n",
    "\n",
    "        del index\n",
    "\n",
    "        grav_synchrotron = synemiss_data/nu**2\n",
    "\n",
    "        index = np.where(np.isnan(grav_synchrotron) == True)\n",
    "\n",
    "        grav_synchrotron[index[0],index[1]] = 0.0\n",
    "\n",
    "\n",
    "        index = np.where(np.isnan(gamma_inv_data) == True)\n",
    "        gamma_inv_data[index[0],index[1]] = 0.0\n",
    "\n",
    "\n",
    "        index = np.where(sigma_data > 1)\n",
    "        ne_data[index[0],index[1]] = 0.0\n",
    "        grav_synchrotron[index[0],index[1]] = 0.0\n",
    "        absorption_data[index[0],index[1]] = 0.0\n",
    "        synemiss_data[index[0],index[1]] = 0.0\n",
    "\n",
    "        index = np.where(nu < 0)\n",
    "        nu[index[0],index[1]] = 0.0\n",
    "\n",
    "        index = np.where(grav_synchrotron < 0)\n",
    "        grav_synchrotron[index[0],index[1]] = 0.0\n",
    "\n",
    "        index = np.where(absorption_data < 0)\n",
    "        absorption_data[index[0],index[1]] = 0.0\n",
    "\n",
    "        N = len(S)\n",
    "\n",
    "        final_I,I_list = specific_intensity(N,synemiss_data,absorption_data,nu,KuUu,final_dt)\n"
   ]
  },
  {
   "cell_type": "code",
   "execution_count": null,
   "metadata": {},
   "outputs": [],
   "source": []
  },
  {
   "cell_type": "code",
   "execution_count": null,
   "metadata": {},
   "outputs": [],
   "source": []
  },
  {
   "cell_type": "code",
   "execution_count": 45,
   "metadata": {},
   "outputs": [],
   "source": [
    "local_nu = -tensorial_data['kdotu'] * 230e9\n",
    "gamma_inv_data = local_nu / 230.e9\n",
    "\n",
    "\"\"\"\n",
    "beta_data       = internal_u_data/BuBu * (((fluid_gamma) - 1)/0.5)\n",
    "sigma_data      = BuBu/densff_data\n",
    "\n",
    "index = np.where(np.isnan(beta_data) == True)\n",
    "beta_data[index[0],index[1]] = 0\n",
    "index = np.where(np.isnan(sigma_data) == True)\n",
    "sigma_data[index[0],index[1]] = 0    \"\"\""
   ]
  },
  {
   "cell_type": "code",
   "execution_count": null,
   "metadata": {},
   "outputs": [],
   "source": [
    "\n",
    "    beta_data       = internal_u_data/BuBu * (((fluid_gamma) - 1)/0.5)\n",
    "    sigma_data      = BuBu/densff_data\n",
    "\n",
    "    index = np.where(np.isnan(beta_data) == True)\n",
    "    beta_data[index[0],index[1]] = 0\n",
    "    index = np.where(np.isnan(sigma_data) == True)\n",
    "    sigma_data[index[0],index[1]] = 0\n",
    "\n",
    "    #return S,ne_data,thetae,bfield_data_pmag,num.sqrt(BuBu),sigma_data,beta_data,-KuUu * 230e9\n",
    "\n",
    "    def pitch_angle(KuUu,KuBu,BuBu):\n",
    "\n",
    "        angle = KuBu/(abs(KuUu) * np.sqrt(BuBu))\n",
    "\n",
    "        index = np.where(BuBu == 0)\n",
    "        angle[index[0],index[1]] = np.cos(np.pi/2)\n",
    "\n",
    "        index = np.where(abs(angle) > 1.0)\n",
    "        angle[index[0],index[1]] = angle[index[0],index[1]]/abs(angle[index[0],index[1]])\n",
    "\n",
    "        return np.arccos(angle)\n",
    "\n",
    "    observer_angle = pitch_angle(KuUu,KuBu,BuBu)\n",
    "\n",
    "    del KuBu\n",
    "\n",
    "    nu = -KuUu * 230e9\n",
    "\n",
    "    gamma_inv_data = nu/230e9\n",
    "\n",
    "\n",
    "    R_high_list = [80]\n",
    "\n",
    "    for R_high in R_high_list:\n",
    "\n",
    "        Mass_scale = 5e+24\n",
    "\n",
    "        bfield = np.sqrt(BuBu) *  c * np.sqrt(pow(G*M_BH/c**2,-3) * Mass_scale * 4 * np.pi)\n",
    "\n",
    "        ne_data = Mass_scale * densff_data * pow(G*M_BH/c**2,-3)  * 1/(1.67 * 1e-24 +  9.1094 * 1e-28)\n",
    "\n",
    "        R_imp = ((R_high * (beta_data)**2/(1 + (beta_data)**2)) + 1/(1+(beta_data)**2))\n",
    "\n",
    "        t_electron = c**2 * (m_p  * internal_u_data * (4/3 -1) * (5/3-1))/(Kb * densff_data * ((5/3-1) + (4/3-1) * R_imp))\n",
    "\n",
    "        thetae = Kb * t_electron/(m_e*c**2)\n",
    "\n",
    "        #index = np.where(np.isnan(t_electron)== True)\n",
    "        #t_electron[index[0],index[1]] = 0\n",
    "\n",
    "        del R_imp\n",
    "\n",
    "        synemiss_data = np.empty((len(S),LEN))\n",
    "\n",
    "        for i in range(len(S)):\n",
    "            synemiss_data[i,:] = synemiss(ne_data[i,:], t_electron[i,:],bfield[i,:],nu[i,:],beta_data[i,:], observer_angle[i,:])\n",
    "\n",
    "        index = np.where(np.isnan(synemiss_data)==True)\n",
    "        synemiss_data[index[0],index[1]] = 0.0\n",
    "\n",
    "        del index\n",
    "        absorption_data   = np.zeros((len(S), LEN))\n",
    "\n",
    "        #for i in range(len(S)):\n",
    "        #    absorption_data[i,:] = absorption_coeff(t_electron[i,:], synemiss_data[i,:], nu[i,:],beta_data[i,:])\n",
    "\n",
    "\n",
    "\n",
    "        index = np.where(np.isnan(absorption_data)==True)\n",
    "        absorption_data[index[0],index[1]] = 0.0\n",
    "\n",
    "        del index\n",
    "\n",
    "        grav_synchrotron = synemiss_data/nu**2\n",
    "\n",
    "        index = np.where(np.isnan(grav_synchrotron) == True)\n",
    "\n",
    "        grav_synchrotron[index[0],index[1]] = 0.0\n",
    "\n",
    "\n",
    "        index = np.where(np.isnan(gamma_inv_data) == True)\n",
    "        gamma_inv_data[index[0],index[1]] = 0.0\n",
    "\n",
    "\n",
    "        index = np.where(sigma_data > 1)\n",
    "        ne_data[index[0],index[1]] = 0.0\n",
    "        grav_synchrotron[index[0],index[1]] = 0.0\n",
    "        absorption_data[index[0],index[1]] = 0.0\n",
    "        synemiss_data[index[0],index[1]] = 0.0\n",
    "\n",
    "        index = np.where(nu < 0)\n",
    "        nu[index[0],index[1]] = 0.0\n",
    "\n",
    "        index = np.where(grav_synchrotron < 0)\n",
    "        grav_synchrotron[index[0],index[1]] = 0.0\n",
    "\n",
    "        index = np.where(absorption_data < 0)\n",
    "        absorption_data[index[0],index[1]] = 0.0\n",
    "\n",
    "        N = len(S)\n",
    "\n",
    "        final_I,I_list = specific_intensity(N,synemiss_data,absorption_data,nu,KuUu,final_dt)\n",
    "\n",
    "        np.save(\"/xdisk/chanc/home/anikets/Checking_shell/I_inv_{}_SANE/I_trial_{}.npy\".format(R_high,lower_limit/8),final_I)\n",
    "\n",
    "        '''\n",
    "        I_inv_val = []\n",
    "        I_len_iteration = []\n",
    "        j_inv_val = []\n",
    "        j_len_iteration = []\n",
    "\n",
    "\n",
    "        for shell_radii_val in range(97):\n",
    "\n",
    "            shell_index = np.load(\"/xdisk/chanc/home/anikets/Checking_shell/new_sims/Radius_Shells/Radius_{}/Radii_Shell_i{}_{}.npy\".format(lower_limit/8, inclination, shell_radii_val))\n",
    "            j_inv_sum = sum(grav_synchrotron[shell_index[0], shell_index[1]])\n",
    "\n",
    "            if len(shell_index[0]) == 0:\n",
    "                j_inv_avg = 0\n",
    "            else:\n",
    "                j_inv_avg = j_inv_sum\n",
    "\n",
    "            j_len_iteration.append(len(shell_index[0]))\n",
    "            j_inv_val.append(j_inv_avg)\n",
    "\n",
    "            shell_index = np.load(\"/xdisk/chanc/home/anikets/Checking_shell/new_sims/Inv_Radius_Shells/Inv_Radius_{}/Inv_Radii_Shell_i{}_{}.npy\".format(lower_limit/8, inclination, shell_radii_val))\n",
    "\n",
    "            I_inv_sum = sum(I_list[shell_index[0], shell_index[1]])\n",
    "\n",
    "            if len(shell_index[0]) == 0:\n",
    "                I_inv_avg = 0\n",
    "            else:\n",
    "                I_inv_avg = I_inv_sum\n",
    "\n",
    "            I_len_iteration.append(len(shell_index[0]))\n",
    "            I_inv_val.append(I_inv_avg)\n",
    "\n",
    "        j_inv_val = np.array(j_inv_val)\n",
    "        j_len_iteration = np.array(j_len_iteration)\n",
    "\n",
    "        I_inv_val = np.array(I_inv_val)\n",
    "        I_len_iteration = np.array(I_len_iteration)\n",
    "\n",
    "        np.save(\"/xdisk/chanc/home/anikets/Checking_shell/j_inv_{}_SANE/GRMHD_000{}/j_inv_{}_RADIUS_i{}.npy\".format(R_high,GRMHD_file, lower_limit/8, inclination), j_inv_val)\n",
    "            # Now j_inv_val is an array of shape (485,)\n",
    "\n",
    "        np.save(\"/xdisk/chanc/home/anikets/Checking_shell/j_inv_{}_SANE/GRMHD_000{}/j_len_iteration_{}_RADIUS_i{}.npy\".format(R_high,GRMHD_file,lower_limit/8, inclination),j_len_iteration)\n",
    "\n",
    "\n",
    "        np.save(\"/xdisk/chanc/home/anikets/Checking_shell/I_inv_{}_SANE/GRMHD_000{}/I_inv_{}_RADIUS_i{}.npy\".format(R_high,GRMHD_file, lower_limit/8, inclination), I_inv_val)\n",
    "        # Now j_inv_val is an array of shape (485,)\n",
    "\n",
    "        np.save(\"/xdisk/chanc/home/anikets/Checking_shell/I_inv_{}_SANE/GRMHD_000{}/I_len_iteration_{}_RADIUS_i{}.npy\".format(R_high,GRMHD_file,lower_limit/8, inclination),I_len_iteration)\n",
    "\n",
    "\n",
    "        '''\n",
    "\n",
    "        I_inv_val = []\n",
    "        I_len_iteration = []\n",
    "        j_inv_val = []\n",
    "        j_len_iteration = []\n",
    "\n",
    "\n",
    "\n",
    "        for shell_theta_val in range(89):\n",
    "\n",
    "            shell_index = np.load(\"/xdisk/chanc/home/anikets/Checking_shell/new_sims/Theta_Shells/Theta_{}/Theta_Shell_i{}_{}.npy\".format(lower_limit/8,inclination,  shell_theta_val))\n",
    "            j_inv_sum = sum(grav_synchrotron[shell_index[0], shell_index[1]])\n",
    "\n",
    "            if len(shell_index[0]) == 0:\n",
    "                j_inv_avg = 0\n",
    "            else:\n",
    "                j_inv_avg = j_inv_sum\n",
    "\n",
    "            j_len_iteration.append(len(shell_index[0]))\n",
    "            j_inv_val.append(j_inv_avg)\n",
    "\n",
    "\n",
    "            shell_index = np.load(\"/xdisk/chanc/home/anikets/Checking_shell/new_sims/Inv_Theta_Shells/Inv_Theta_{}/Inv_Theta_Shell_i{}_{}.npy\".format(lower_limit/8, inclination, shell_theta_val))\n",
    "\n",
    "\n",
    "            I_inv_sum = sum(I_list[shell_index[0], shell_index[1]])\n",
    "\n",
    "            if len(shell_index[0]) == 0:\n",
    "                I_inv_avg = 0\n",
    "            else:\n",
    "                I_inv_avg = I_inv_sum\n",
    "\n",
    "            I_len_iteration.append(len(shell_index[0]))\n",
    "            I_inv_val.append(I_inv_avg)\n",
    "\n",
    "\n",
    "        j_inv_val = np.array(j_inv_val)\n",
    "        j_len_iteration = np.array(j_len_iteration)\n",
    "\n",
    "        I_inv_val = np.array(I_inv_val)\n",
    "        I_len_iteration = np.array(I_len_iteration)\n",
    "\n",
    "        np.save(\"/xdisk/chanc/home/anikets/Checking_shell/j_inv_{}_SANE/GRMHD_000{}/j_trial_inv_{}_THETA_i{}.npy\".format(R_high,GRMHD_file, lower_limit/8, inclination), j_inv_val)\n",
    "            # Now j_inv_val is an array of shape (485,)\n",
    "\n",
    "        np.save(\"/xdisk/chanc/home/anikets/Checking_shell/j_inv_{}_SANE/GRMHD_000{}/j_trial_len_iteration_{}_THETA_i{}.npy\".format(R_high,GRMHD_file,lower_limit/8, inclination),j_len_iteration)\n",
    "\n",
    "\n",
    "        np.save(\"/xdisk/chanc/home/anikets/Checking_shell/I_inv_{}_SANE/GRMHD_000{}/I_trial_inv_{}_THETA_i{}.npy\".format(R_high,GRMHD_file, lower_limit/8, inclination), I_inv_val)\n",
    "        # Now j_inv_val is an array of shape (485,)\n",
    "\n",
    "        np.save(\"/xdisk/chanc/home/anikets/Checking_shell/I_inv_{}_SANE/GRMHD_000{}/I_trial_len_iteration_{}_THETA_i{}.npy\".format(R_high,GRMHD_file,lower_limit/8, inclination),I_len_iteration)\n",
    "\n",
    "        del j_inv_val\n",
    "        del j_len_iteration\n",
    "        del I_inv_val\n",
    "        del I_len_iteration\n"
   ]
  },
  {
   "cell_type": "code",
   "execution_count": null,
   "metadata": {},
   "outputs": [],
   "source": []
  },
  {
   "cell_type": "code",
   "execution_count": null,
   "metadata": {},
   "outputs": [],
   "source": []
  },
  {
   "cell_type": "code",
   "execution_count": null,
   "metadata": {},
   "outputs": [],
   "source": []
  },
  {
   "cell_type": "code",
   "execution_count": null,
   "metadata": {},
   "outputs": [],
   "source": []
  },
  {
   "cell_type": "code",
   "execution_count": null,
   "metadata": {},
   "outputs": [],
   "source": []
  },
  {
   "cell_type": "code",
   "execution_count": null,
   "metadata": {},
   "outputs": [],
   "source": []
  },
  {
   "cell_type": "code",
   "execution_count": 39,
   "metadata": {},
   "outputs": [
    {
     "data": {
      "image/png": "[encoded data removed]",
      "text/plain": [
       "<Figure size 432x288 with 1 Axes>"
      ]
     },
     "metadata": {
      "needs_background": "light"
     },
     "output_type": "display_data"
    }
   ],
   "source": [
    "ax = plt.subplot(1, 1, 1)\n",
    "ax.imshow(tensorial_data['udotu'], vmin=-1.1, vmax=-0.9)\n",
    "ax.set_aspect('auto')"
   ]
  },
  {
   "cell_type": "code",
   "execution_count": 11,
   "metadata": {},
   "outputs": [
    {
     "data": {
      "text/plain": [
       "{'dens': array([[0.00035382, 0.00035143, 0.00034922, ..., 0.0003502 , 0.00034913,\n",
       "         0.00034809],\n",
       "        [0.00035363, 0.0003516 , 0.00034957, ..., 0.00035468, 0.00035259,\n",
       "         0.00035063],\n",
       "        [0.00036961, 0.00036636, 0.00036316, ..., 0.00036952, 0.000368  ,\n",
       "         0.00036669],\n",
       "        ...,\n",
       "        [0.        , 0.        , 0.        , ..., 0.00010271, 0.        ,\n",
       "         0.        ],\n",
       "        [0.        , 0.        , 0.        , ..., 0.00010271, 0.        ,\n",
       "         0.        ],\n",
       "        [0.        , 0.        , 0.        , ..., 0.00010271, 0.        ,\n",
       "         0.        ]]),\n",
       " 'u': array([[1.81947625e-07, 1.81436338e-07, 1.80930167e-07, ...,\n",
       "         1.80517710e-07, 1.80515483e-07, 1.80485449e-07],\n",
       "        [1.83419867e-07, 1.82482650e-07, 1.81472962e-07, ...,\n",
       "         1.82362056e-07, 1.81680947e-07, 1.80986693e-07],\n",
       "        [1.86342759e-07, 1.84656829e-07, 1.82999950e-07, ...,\n",
       "         1.83183285e-07, 1.82365834e-07, 1.81623227e-07],\n",
       "        ...,\n",
       "        [0.00000000e+00, 0.00000000e+00, 0.00000000e+00, ...,\n",
       "         1.74068241e-08, 0.00000000e+00, 0.00000000e+00],\n",
       "        [0.00000000e+00, 0.00000000e+00, 0.00000000e+00, ...,\n",
       "         1.74068241e-08, 0.00000000e+00, 0.00000000e+00],\n",
       "        [0.00000000e+00, 0.00000000e+00, 0.00000000e+00, ...,\n",
       "         1.74068241e-08, 0.00000000e+00, 0.00000000e+00]]),\n",
       " 'U1': array([[ 0.01824237,  0.01839613,  0.01853806, ...,  0.01794963,\n",
       "          0.01803534,  0.01811985],\n",
       "        [ 0.0186525 ,  0.01864488,  0.01863719, ...,  0.01710563,\n",
       "          0.01718614,  0.01725662],\n",
       "        [ 0.0181389 ,  0.01807687,  0.01801764, ...,  0.01697281,\n",
       "          0.01697101,  0.01697549],\n",
       "        ...,\n",
       "        [ 0.        ,  0.        ,  0.        , ..., -0.00972553,\n",
       "          0.        ,  0.        ],\n",
       "        [ 0.        ,  0.        ,  0.        , ..., -0.00972553,\n",
       "          0.        ,  0.        ],\n",
       "        [ 0.        ,  0.        ,  0.        , ..., -0.00972553,\n",
       "          0.        ,  0.        ]]),\n",
       " 'U2': array([[ 0.00895578,  0.00888047,  0.0088106 , ...,  0.00929357,\n",
       "          0.00920539,  0.00911749],\n",
       "        [ 0.0073601 ,  0.00730868,  0.00725284, ...,  0.00813175,\n",
       "          0.00802067,  0.0079134 ],\n",
       "        [ 0.00679162,  0.00673392,  0.00667343, ...,  0.00716003,\n",
       "          0.00706928,  0.00697914],\n",
       "        ...,\n",
       "        [ 0.        ,  0.        ,  0.        , ..., -0.02090335,\n",
       "          0.        ,  0.        ],\n",
       "        [ 0.        ,  0.        ,  0.        , ..., -0.02090335,\n",
       "          0.        ,  0.        ],\n",
       "        [ 0.        ,  0.        ,  0.        , ..., -0.02090335,\n",
       "          0.        ,  0.        ]]),\n",
       " 'U3': array([[ 0.00291816,  0.00292802,  0.00294037, ...,  0.00326592,\n",
       "          0.0032564 ,  0.00325012],\n",
       "        [ 0.0025738 ,  0.00262185,  0.00266571, ...,  0.00269454,\n",
       "          0.00271384,  0.00273526],\n",
       "        [ 0.00288733,  0.00290497,  0.00292098, ...,  0.00257411,\n",
       "          0.00256414,  0.00255373],\n",
       "        ...,\n",
       "        [ 0.        ,  0.        ,  0.        , ..., -0.01760322,\n",
       "          0.        ,  0.        ],\n",
       "        [ 0.        ,  0.        ,  0.        , ..., -0.01760322,\n",
       "          0.        ,  0.        ],\n",
       "        [ 0.        ,  0.        ,  0.        , ..., -0.01760322,\n",
       "          0.        ,  0.        ]]),\n",
       " 'B1': array([[5.35987528e-05, 5.26830853e-05, 5.18224518e-05, ...,\n",
       "         5.71952255e-05, 5.54188304e-05, 5.37315650e-05],\n",
       "        [3.60522829e-05, 3.64335601e-05, 3.68157627e-05, ...,\n",
       "         4.38477372e-05, 4.33958489e-05, 4.29811064e-05],\n",
       "        [2.91176872e-05, 3.07035916e-05, 3.22849739e-05, ...,\n",
       "         4.06005259e-05, 4.12917806e-05, 4.19866908e-05],\n",
       "        ...,\n",
       "        [0.00000000e+00, 0.00000000e+00, 0.00000000e+00, ...,\n",
       "         1.29959618e-04, 0.00000000e+00, 0.00000000e+00],\n",
       "        [0.00000000e+00, 0.00000000e+00, 0.00000000e+00, ...,\n",
       "         1.29959618e-04, 0.00000000e+00, 0.00000000e+00],\n",
       "        [0.00000000e+00, 0.00000000e+00, 0.00000000e+00, ...,\n",
       "         1.29959618e-04, 0.00000000e+00, 0.00000000e+00]]),\n",
       " 'B2': array([[-5.39981818e-05, -5.25777595e-05, -5.11803287e-05, ...,\n",
       "         -5.56178250e-05, -5.38828610e-05, -5.22308225e-05],\n",
       "        [-3.73719109e-05, -3.70869292e-05, -3.68244774e-05, ...,\n",
       "         -3.97764927e-05, -3.88951027e-05, -3.80917394e-05],\n",
       "        [-3.42548014e-05, -3.46576112e-05, -3.50374955e-05, ...,\n",
       "         -3.58911023e-05, -3.61281498e-05, -3.63680388e-05],\n",
       "        ...,\n",
       "        [ 0.00000000e+00,  0.00000000e+00,  0.00000000e+00, ...,\n",
       "         -7.37260254e-05,  0.00000000e+00,  0.00000000e+00],\n",
       "        [ 0.00000000e+00,  0.00000000e+00,  0.00000000e+00, ...,\n",
       "         -7.37260254e-05,  0.00000000e+00,  0.00000000e+00],\n",
       "        [ 0.00000000e+00,  0.00000000e+00,  0.00000000e+00, ...,\n",
       "         -7.37260254e-05,  0.00000000e+00,  0.00000000e+00]]),\n",
       " 'B3': array([[ 2.95625504e-05,  3.04799787e-05,  3.14237012e-05, ...,\n",
       "          2.11898557e-05,  2.17277237e-05,  2.22688010e-05],\n",
       "        [ 5.47673211e-05,  5.58063333e-05,  5.68835594e-05, ...,\n",
       "          4.26549797e-05,  4.36508163e-05,  4.46487537e-05],\n",
       "        [ 6.30112577e-05,  6.36378488e-05,  6.42842656e-05, ...,\n",
       "          5.19851143e-05,  5.22670806e-05,  5.25511356e-05],\n",
       "        ...,\n",
       "        [ 0.00000000e+00,  0.00000000e+00,  0.00000000e+00, ...,\n",
       "         -1.46906077e-05,  0.00000000e+00,  0.00000000e+00],\n",
       "        [ 0.00000000e+00,  0.00000000e+00,  0.00000000e+00, ...,\n",
       "         -1.46906077e-05,  0.00000000e+00,  0.00000000e+00],\n",
       "        [ 0.00000000e+00,  0.00000000e+00,  0.00000000e+00, ...,\n",
       "         -1.46906077e-05,  0.00000000e+00,  0.00000000e+00]])}"
      ]
     },
     "execution_count": 11,
     "metadata": {},
     "output_type": "execute_result"
    }
   ],
   "source": [
    "primitive_data"
   ]
  },
  {
   "cell_type": "code",
   "execution_count": null,
   "metadata": {},
   "outputs": [],
   "source": [
    "ne_along_S, B_along_S, ..."
   ]
  },
  {
   "cell_type": "code",
   "execution_count": null,
   "metadata": {},
   "outputs": [],
   "source": [
    "\n",
    "LEN = len(S[0])\n",
    "\n",
    "h_BL = np.sqrt(1 - a_spin**2)\n",
    "r_m = 1 - h_BL\n",
    "r_p = 1 + h_BL\n",
    "\n"
   ]
  },
  {
   "cell_type": "code",
   "execution_count": null,
   "metadata": {},
   "outputs": [],
   "source": []
  },
  {
   "cell_type": "code",
   "execution_count": null,
   "metadata": {},
   "outputs": [],
   "source": []
  },
  {
   "cell_type": "code",
   "execution_count": null,
   "metadata": {},
   "outputs": [],
   "source": []
  },
  {
   "cell_type": "code",
   "execution_count": null,
   "metadata": {},
   "outputs": [],
   "source": []
  },
  {
   "cell_type": "code",
   "execution_count": 15,
   "metadata": {},
   "outputs": [
    {
     "data": {
      "image/png": "[encoded data removed]",
      "text/plain": [
       "<Figure size 432x288 with 1 Axes>"
      ]
     },
     "metadata": {
      "needs_background": "light"
     },
     "output_type": "display_data"
    }
   ],
   "source": [
    "ax1 = plt.subplot(1, 1, 1)\n",
    "\n",
    "x = S[:, :, 1]\n",
    "y = S[:, :, 2]\n",
    "z = S[:, :, 3]\n",
    "\n",
    "ax1.plot(x, y)\n",
    "\n",
    "plim = [-10, 10]\n",
    "ax1.set_xlim(*plim)\n",
    "ax1.set_ylim(*plim)\n",
    "\n",
    "ax1.set_aspect('equal')"
   ]
  },
  {
   "cell_type": "code",
   "execution_count": null,
   "metadata": {},
   "outputs": [],
   "source": []
  },
  {
   "cell_type": "code",
   "execution_count": null,
   "metadata": {},
   "outputs": [],
   "source": []
  },
  {
   "cell_type": "code",
   "execution_count": null,
   "metadata": {},
   "outputs": [],
   "source": []
  },
  {
   "cell_type": "markdown",
   "metadata": {},
   "source": [
    "# checks"
   ]
  },
  {
   "cell_type": "code",
   "execution_count": null,
   "metadata": {},
   "outputs": [],
   "source": [
    "primitive_data_og_40sq = np.load('prim_data_og_40sq.npy', allow_pickle=True).item()\n",
    "\n",
    "print(np.allclose(primitive_data_og_40sq['dens'], prim_data['dens'], atol=1e-3))\n",
    "print(np.allclose(primitive_data_og_40sq['u'], prim_data['u'], atol=1e-3))\n",
    "print(np.allclose(primitive_data_og_40sq['U1'], prim_data['U1'], atol=1e-3))\n",
    "print(np.allclose(primitive_data_og_40sq['U2'], prim_data['U2'], atol=1e-3))\n",
    "print(np.allclose(primitive_data_og_40sq['U3'], prim_data['U3'], atol=1e-3))\n",
    "print(np.allclose(primitive_data_og_40sq['B1'], prim_data['B1'], atol=1e-3))\n",
    "print(np.allclose(primitive_data_og_40sq['B2'], prim_data['B2'], atol=1e-3))\n",
    "print(np.allclose(primitive_data_og_40sq['B3'], prim_data['B3'], atol=1e-3))"
   ]
  }
 ],
 "metadata": {
  "kernelspec": {
   "display_name": "base",
   "language": "python",
   "name": "python3"
  },
  "language_info": {
   "codemirror_mode": {
    "name": "ipython",
    "version": 3
   },
   "file_extension": ".py",
   "mimetype": "text/x-python",
   "name": "python",
   "nbconvert_exporter": "python",
   "pygments_lexer": "ipython3",
   "version": "3.11.5"
  }
 },
 "nbformat": 4,
 "nbformat_minor": 2
}
