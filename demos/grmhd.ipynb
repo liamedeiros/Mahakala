{
 "cells": [
  {
   "cell_type": "code",
   "execution_count": 1,
   "metadata": {},
   "outputs": [],
   "source": [
    "%load_ext autoreload\n",
    "%autoreload 2"
   ]
  },
  {
   "cell_type": "code",
   "execution_count": 2,
   "metadata": {},
   "outputs": [],
   "source": [
    "import numpy as np\n",
    "import matplotlib.pyplot as plt"
   ]
  },
  {
   "cell_type": "code",
   "execution_count": 3,
   "metadata": {},
   "outputs": [
    {
     "name": "stdout",
     "output_type": "stream",
     "text": [
      "gpu\n"
     ]
    }
   ],
   "source": [
    "import mahakala as ma\n",
    "\n",
    "from mahakala.grmhd.athenak import AthenakFluidModel"
   ]
  },
  {
   "cell_type": "code",
   "execution_count": 4,
   "metadata": {},
   "outputs": [],
   "source": [
    "fname = '../data/torus.mhd_w_bcc.01500.athdf'"
   ]
  },
  {
   "cell_type": "code",
   "execution_count": 5,
   "metadata": {},
   "outputs": [
    {
     "name": "stderr",
     "output_type": "stream",
     "text": [
      "100%|██████████| 456/456 [00:00<00:00, 461.94it/s]\n"
     ]
    }
   ],
   "source": [
    "bhspin = 0.9\n",
    "fluid_model = AthenakFluidModel(fname, bhspin)"
   ]
  },
  {
   "cell_type": "code",
   "execution_count": 21,
   "metadata": {},
   "outputs": [],
   "source": [
    "bhspin = 0.9\n",
    "inclination_in_degrees = 60\n",
    "distance_in_rg = 1000\n",
    "\n",
    "fov = 10\n",
    "number_pixels_across = 160\n",
    "\n",
    "s0 = ma.initialize_geodesics_at_camera(bhspin, inclination_in_degrees, distance_in_rg, -fov, fov, number_pixels_across)"
   ]
  },
  {
   "cell_type": "code",
   "execution_count": 23,
   "metadata": {},
   "outputs": [],
   "source": [
    "S, final_dt = ma.geodesic_integrator(10000, s0, 40, 1e-4, bhspin)"
   ]
  },
  {
   "cell_type": "code",
   "execution_count": 18,
   "metadata": {},
   "outputs": [
    {
     "data": {
      "text/plain": [
       "8.388608"
      ]
     },
     "execution_count": 18,
     "metadata": {},
     "output_type": "execute_result"
    }
   ],
   "source": [
    "512*512 * 1000 * (4 + 4) * 4 / 1.e9"
   ]
  },
  {
   "cell_type": "code",
   "execution_count": null,
   "metadata": {},
   "outputs": [],
   "source": []
  },
  {
   "cell_type": "code",
   "execution_count": null,
   "metadata": {},
   "outputs": [],
   "source": [
    "## scratch space"
   ]
  },
  {
   "cell_type": "code",
   "execution_count": 8,
   "metadata": {},
   "outputs": [],
   "source": []
  },
  {
   "cell_type": "code",
   "execution_count": null,
   "metadata": {},
   "outputs": [],
   "source": []
  },
  {
   "cell_type": "code",
   "execution_count": null,
   "metadata": {},
   "outputs": [],
   "source": []
  },
  {
   "cell_type": "code",
   "execution_count": null,
   "metadata": {},
   "outputs": [],
   "source": [
    "## end scratch"
   ]
  },
  {
   "cell_type": "code",
   "execution_count": 13,
   "metadata": {},
   "outputs": [
    {
     "name": "stderr",
     "output_type": "stream",
     "text": [
      "  9%|▉         | 42/456 [01:13<13:26,  1.95s/it]E1005 00:00:21.828867    9917 hlo_lexer.cc:443] Failed to parse int literal: 597036521247241063592967\n",
      " 14%|█▍        | 63/456 [01:50<11:21,  1.73s/it]E1005 00:00:58.743472    9917 hlo_lexer.cc:443] Failed to parse int literal: 64343933147753236789578\n",
      " 48%|████▊     | 219/456 [06:10<06:29,  1.64s/it]E1005 00:05:18.366220    9917 hlo_lexer.cc:443] Failed to parse int literal: 780039670884717198980\n",
      "100%|██████████| 456/456 [12:41<00:00,  1.67s/it]\n"
     ]
    }
   ],
   "source": [
    "primitive_data = fluid_model.get_prims_from_geodesics(S)"
   ]
  },
  {
   "cell_type": "code",
   "execution_count": 14,
   "metadata": {},
   "outputs": [
    {
     "name": "stderr",
     "output_type": "stream",
     "text": [
      "100%|██████████| 10001/10001 [00:08<00:00, 1207.54it/s]\n",
      "100%|██████████| 10001/10001 [00:06<00:00, 1633.66it/s]\n",
      "100%|██████████| 10001/10001 [00:08<00:00, 1230.18it/s]\n",
      "100%|██████████| 10001/10001 [00:05<00:00, 1751.71it/s]\n",
      "100%|██████████| 10001/10001 [00:05<00:00, 1713.67it/s]\n",
      "100%|██████████| 10001/10001 [00:05<00:00, 1737.16it/s]\n",
      "100%|██████████| 10001/10001 [00:05<00:00, 1787.38it/s]\n",
      "/home/george/sites/liamedeiros/Mahakala/mahakala/grmhd/athenak.py:720: RuntimeWarning: invalid value encountered in divide\n",
      "  angle = KuBu/(np.abs(KuUu) * np.sqrt(BuBu))\n"
     ]
    }
   ],
   "source": [
    "tensorial_data = fluid_model.compute_tensorial(S, primitive_data)"
   ]
  },
  {
   "cell_type": "code",
   "execution_count": 15,
   "metadata": {},
   "outputs": [
    {
     "name": "stderr",
     "output_type": "stream",
     "text": [
      "/tmp/ipykernel_9917/2893603202.py:7: RuntimeWarning: invalid value encountered in divide\n",
      "  beta_data = primitive_data['u']/tensorial_data['bdotb'] * (((fluid_params['fluid_gamma']) - 1)/0.5)\n"
     ]
    }
   ],
   "source": [
    "local_nu = -tensorial_data['kdotu'] * 230e9\n",
    "gamma_inv_data = local_nu / 230.e9\n",
    "\n",
    "fluid_params = dict()\n",
    "fluid_params['fluid_gamma'] = 13./9\n",
    "\n",
    "beta_data = primitive_data['u']/tensorial_data['bdotb'] * (((fluid_params['fluid_gamma']) - 1)/0.5)\n",
    "index = np.where(np.isnan(beta_data) == True)\n",
    "beta_data[index[0],index[1]] = 0"
   ]
  },
  {
   "cell_type": "code",
   "execution_count": 16,
   "metadata": {},
   "outputs": [],
   "source": [
    "KB = 1.3807e-16\n",
    "CL = 2.99792458e10\n",
    "ME = 9.1094e-28\n",
    "MP = 1.6726e-24\n",
    "EC = 4.8032e-10\n",
    "HPL = 6.6261e-27\n",
    "GNEWT = 6.6743e-8"
   ]
  },
  {
   "cell_type": "code",
   "execution_count": 17,
   "metadata": {},
   "outputs": [
    {
     "name": "stderr",
     "output_type": "stream",
     "text": [
      "/tmp/ipykernel_9917/2118307643.py:10: RuntimeWarning: invalid value encountered in divide\n",
      "  t_electron = CL**2 * (MP  * primitive_data['u'] * (4/3 -1) * (5/3-1))/(KB * primitive_data['dens'] * ((5/3-1) + (4/3-1) * R_imp))\n"
     ]
    }
   ],
   "source": [
    "Mass_scale = 5e+24\n",
    "M_BH = 6.2e9 * 1.989e33\n",
    "\n",
    "R_high = 40\n",
    "\n",
    "bfield = np.sqrt(tensorial_data['bdotb']) * CL * np.sqrt(np.power(GNEWT*M_BH/CL**2,-3) * Mass_scale * 4 * np.pi)\n",
    "ne_data = Mass_scale * primitive_data['dens'] * pow(GNEWT*M_BH/CL**2,-3) * 1/(1.67 * 1e-24 +  9.1094 * 1e-28)\n",
    "\n",
    "R_imp = ((R_high * (beta_data)**2/(1 + (beta_data)**2)) + 1/(1+(beta_data)**2))\n",
    "t_electron = CL**2 * (MP  * primitive_data['u'] * (4/3 -1) * (5/3-1))/(KB * primitive_data['dens'] * ((5/3-1) + (4/3-1) * R_imp))\n",
    "thetae = KB * t_electron/(ME*CL*CL)\n",
    "\n",
    "del R_imp"
   ]
  },
  {
   "cell_type": "code",
   "execution_count": 18,
   "metadata": {},
   "outputs": [],
   "source": [
    "import mahakala.transfer\n",
    "\n",
    "from tqdm import tqdm"
   ]
  },
  {
   "cell_type": "code",
   "execution_count": 19,
   "metadata": {},
   "outputs": [
    {
     "name": "stderr",
     "output_type": "stream",
     "text": [
      "  0%|          | 0/10001 [00:00<?, ?it/s]"
     ]
    },
    {
     "name": "stderr",
     "output_type": "stream",
     "text": [
      "  3%|▎         | 318/10001 [00:00<00:15, 629.66it/s]/home/george/sites/liamedeiros/Mahakala/mahakala/transfer.py:56: RuntimeWarning: invalid value encountered in power\n",
      "  var = np.exp(-np.power(X,1./3.))\n",
      "/home/george/sites/liamedeiros/Mahakala/mahakala/transfer.py:57: RuntimeWarning: invalid value encountered in power\n",
      "  synemiss = Ne*nus*np.power(jnp.sqrt(X)+np.power(2., 11./12.)*np.power(X,1./6.),2.)/(special.kn(2,1./thetae))\n",
      "/home/george/sites/liamedeiros/Mahakala/mahakala/transfer.py:54: RuntimeWarning: divide by zero encountered in divide\n",
      "  X=nu/nus\n",
      "/home/george/sites/liamedeiros/Mahakala/mahakala/transfer.py:57: RuntimeWarning: invalid value encountered in multiply\n",
      "  synemiss = Ne*nus*np.power(jnp.sqrt(X)+np.power(2., 11./12.)*np.power(X,1./6.),2.)/(special.kn(2,1./thetae))\n",
      "100%|██████████| 10001/10001 [00:06<00:00, 1573.47it/s]\n",
      "  0%|          | 0/10001 [00:00<?, ?it/s]/home/george/sites/liamedeiros/Mahakala/mahakala/transfer.py:64: RuntimeWarning: divide by zero encountered in divide\n",
      "  B_nu = (2*HPL*nu**3/CL**2)/(pow(np.e,HPL*nu/(KB*t_electron)) - 1)\n",
      "100%|██████████| 10001/10001 [00:00<00:00, 15488.66it/s]\n"
     ]
    }
   ],
   "source": [
    "nsteps, npx, _ = S.shape\n",
    "\n",
    "synemiss_data = np.empty((nsteps, npx))\n",
    "for i in tqdm(range(nsteps)):\n",
    "    synemiss_data[i] = mahakala.transfer.emission_coefficient(ne_data[i], t_electron[i], bfield[i], local_nu[i], beta_data[i], tensorial_data['pitch_angle'][i])\n",
    "index = np.where(np.isnan(synemiss_data) == True)  # is the == True needed?\n",
    "synemiss_data[index[0], index[1]] = 0.0\n",
    "del index\n",
    "\n",
    "absorption_data = np.zeros((nsteps, npx))\n",
    "for i in tqdm(range(nsteps)):\n",
    "    absorption_data[i] = mahakala.transfer.absorption_coefficient(t_electron[i,:], synemiss_data[i,:], local_nu[i,:], beta_data[i,:])\n",
    "index = np.where(np.isnan(absorption_data) == True)\n",
    "absorption_data[index[0], index[1]] = 0.0\n",
    "del index"
   ]
  },
  {
   "cell_type": "code",
   "execution_count": 20,
   "metadata": {},
   "outputs": [],
   "source": [
    "final_I = mahakala.transfer.solve_specific_intensity(nsteps, synemiss_data, absorption_data, local_nu, tensorial_data['kdotu'], final_dt, M_BH)"
   ]
  },
  {
   "cell_type": "code",
   "execution_count": 22,
   "metadata": {},
   "outputs": [],
   "source": [
    "final_image = final_I.reshape((40, 40))"
   ]
  },
  {
   "cell_type": "code",
   "execution_count": 42,
   "metadata": {},
   "outputs": [
    {
     "ename": "UnboundLocalError",
     "evalue": "cannot access local variable 'val' where it is not associated with a value",
     "output_type": "error",
     "traceback": [
      "\u001b[0;31m---------------------------------------------------------------------------\u001b[0m",
      "\u001b[0;31mUnboundLocalError\u001b[0m                         Traceback (most recent call last)",
      "Cell \u001b[0;32mIn[42], line 1\u001b[0m\n\u001b[0;32m----> 1\u001b[0m final_I2 \u001b[38;5;241m=\u001b[39m mahakala\u001b[38;5;241m.\u001b[39mtransfer\u001b[38;5;241m.\u001b[39msolve_specific_intensity_new2(nsteps, synemiss_data, absorption_data, tensorial_data[\u001b[38;5;124m'\u001b[39m\u001b[38;5;124mkdotu\u001b[39m\u001b[38;5;124m'\u001b[39m], final_dt, M_BH)\n",
      "File \u001b[0;32m~/sites/liamedeiros/Mahakala/mahakala/transfer.py:49\u001b[0m, in \u001b[0;36msolve_specific_intensity_new2\u001b[0;34m(N, synemiss_data, absorption_data, KuUu, dt, M_BH)\u001b[0m\n\u001b[1;32m     45\u001b[0m def emission_coefficient(Ne, t_electron, B, nu, beta, angle):\n\u001b[1;32m     47\u001b[0m     thetae = (KB * t_electron)/( ME * CL**2)\n\u001b[0;32m---> 49\u001b[0m     # Eq [2]\n\u001b[1;32m     50\u001b[0m     nuc = 2.79925e6*B\n\u001b[1;32m     51\u001b[0m     nus = (2./9.)*nuc*thetae*thetae*np.sin(angle)\n",
      "\u001b[0;31mUnboundLocalError\u001b[0m: cannot access local variable 'val' where it is not associated with a value"
     ]
    }
   ],
   "source": [
    "final_I2 = mahakala.transfer.solve_specific_intensity_new2(nsteps, synemiss_data, absorption_data, tensorial_data['kdotu'], final_dt, M_BH)"
   ]
  },
  {
   "cell_type": "code",
   "execution_count": 33,
   "metadata": {},
   "outputs": [
    {
     "data": {
      "text/plain": [
       "<matplotlib.image.AxesImage at 0x7fa333df1ad0>"
      ]
     },
     "execution_count": 33,
     "metadata": {},
     "output_type": "execute_result"
    },
    {
     "data": {
      "image/png": "[encoded data removed]",
      "text/plain": [
       "<Figure size 800x800 with 1 Axes>"
      ]
     },
     "metadata": {},
     "output_type": "display_data"
    }
   ],
   "source": [
    "fig = plt.figure(figsize=(8, 8), facecolor='w')\n",
    "\n",
    "final_image = final_image / np.max(final_image)\n",
    "\n",
    "ax1 = plt.subplot(1, 1, 1)\n",
    "ax1.imshow(np.log10(final_image).T, cmap='afmhot', vmin=-4, vmax=0, origin='lower')"
   ]
  },
  {
   "cell_type": "markdown",
   "metadata": {},
   "source": [
    "# tests below"
   ]
  },
  {
   "cell_type": "code",
   "execution_count": null,
   "metadata": {},
   "outputs": [],
   "source": []
  },
  {
   "cell_type": "code",
   "execution_count": 228,
   "metadata": {},
   "outputs": [
    {
     "data": {
      "text/plain": [
       "<matplotlib.image.AxesImage at 0x7fd32e76aa30>"
      ]
     },
     "execution_count": 228,
     "metadata": {},
     "output_type": "execute_result"
    },
    {
     "data": {
      "image/png": "[encoded data removed]",
      "text/plain": [
       "<Figure size 432x288 with 1 Axes>"
      ]
     },
     "metadata": {
      "needs_background": "light"
     },
     "output_type": "display_data"
    }
   ],
   "source": [
    "ax1 = plt.subplot(1, 1, 1)\n",
    "\n",
    "ax1.imshow(tensorial_data['pitch_angle'].min(axis=0).reshape((10, 10)))"
   ]
  },
  {
   "cell_type": "code",
   "execution_count": null,
   "metadata": {},
   "outputs": [],
   "source": []
  },
  {
   "cell_type": "code",
   "execution_count": 101,
   "metadata": {},
   "outputs": [],
   "source": [
    "from jax import jit, vmap\n",
    "\n",
    "@jit\n",
    "def vec_metric(X, bhspin):\n",
    "    return vmap(mahakala.geodesics.metric, in_axes=(0, None))(X, bhspin)\n",
    "\n",
    "@jit\n",
    "def vec_imetric(X, bhspin):\n",
    "    return vmap(mahakala.geodesics.imetric, in_axes=(0, None))(X, bhspin)"
   ]
  },
  {
   "cell_type": "code",
   "execution_count": null,
   "metadata": {},
   "outputs": [],
   "source": []
  },
  {
   "cell_type": "code",
   "execution_count": 102,
   "metadata": {},
   "outputs": [
    {
     "name": "stderr",
     "output_type": "stream",
     "text": [
      "100%|██████████| 10001/10001 [00:04<00:00, 2123.72it/s]\n"
     ]
    }
   ],
   "source": [
    "final_M = np.zeros((len(S),len(S[0]),4))\n",
    "for i in tqdm(range(0,len(S))):\n",
    "    final_M[i,:,:] = vec_imetric(S[i,:,:4], bhspin)[:,0,:]"
   ]
  },
  {
   "cell_type": "code",
   "execution_count": 205,
   "metadata": {},
   "outputs": [
    {
     "name": "stdout",
     "output_type": "stream",
     "text": [
      "65\n",
      "74\n"
     ]
    }
   ],
   "source": [
    "xpos_vec = S[:, :, :4]\n",
    "\n",
    "xs = xpos_vec[:, :, 1]\n",
    "ys = xpos_vec[:, :, 2]\n",
    "zs = xpos_vec[:, :, 3]\n",
    "\n",
    "for j in range(100):\n",
    "    if np.isnan(np.min(xs[:, j])):\n",
    "        print(j)\n",
    "    #print(j, np.min(xs[:, j]))"
   ]
  },
  {
   "cell_type": "code",
   "execution_count": 206,
   "metadata": {},
   "outputs": [
    {
     "data": {
      "text/plain": [
       "419"
      ]
     },
     "execution_count": 206,
     "metadata": {},
     "output_type": "execute_result"
    }
   ],
   "source": [
    "len(select_geodesic[:, 0, 1])"
   ]
  },
  {
   "cell_type": "code",
   "execution_count": 207,
   "metadata": {},
   "outputs": [
    {
     "data": {
      "text/plain": [
       "10000"
      ]
     },
     "execution_count": 207,
     "metadata": {},
     "output_type": "execute_result"
    }
   ],
   "source": [
    "len(final_dt[:, 64])"
   ]
  },
  {
   "cell_type": "code",
   "execution_count": 208,
   "metadata": {},
   "outputs": [
    {
     "data": {
      "text/plain": [
       "(-1.8132638931274414, 0.0)"
      ]
     },
     "execution_count": 208,
     "metadata": {},
     "output_type": "execute_result"
    }
   ],
   "source": [
    "tidx = 417\n",
    "xs[tidx, 65], final_dt[tidx, 65]"
   ]
  },
  {
   "cell_type": "code",
   "execution_count": 211,
   "metadata": {},
   "outputs": [
    {
     "data": {
      "text/plain": [
       "array([-24.96421991, -24.34260941, -23.7364769 , ...,          nan,\n",
       "                nan,          nan])"
      ]
     },
     "execution_count": 211,
     "metadata": {},
     "output_type": "execute_result"
    }
   ],
   "source": [
    "final_dt[:, 65]"
   ]
  },
  {
   "cell_type": "code",
   "execution_count": 232,
   "metadata": {},
   "outputs": [
    {
     "data": {
      "text/plain": [
       "(410.0, 425.0)"
      ]
     },
     "execution_count": 232,
     "metadata": {},
     "output_type": "execute_result"
    },
    {
     "data": {
      "image/png": "[encoded data removed]",
      "text/plain": [
       "<Figure size 432x288 with 2 Axes>"
      ]
     },
     "metadata": {
      "needs_background": "light"
     },
     "output_type": "display_data"
    }
   ],
   "source": [
    "ax1 = plt.subplot(2, 1, 1)\n",
    "ax2 = plt.subplot(2, 1, 2)\n",
    "\n",
    "ax1.plot(xs[:, 65])\n",
    "ax2.plot(final_dt[:, 65])\n",
    "ax1.plot(select_geodesic[:, 0, 1])\n",
    "ax2.plot(select_dt_final[:, 0])\n",
    "\n",
    "xlim = [410, 425]\n",
    "\n",
    "ax1.set_xlim(*xlim)\n",
    "ax2.set_xlim(*xlim)"
   ]
  },
  {
   "cell_type": "code",
   "execution_count": 152,
   "metadata": {},
   "outputs": [
    {
     "data": {
      "text/plain": [
       "(419, 1, 8)"
      ]
     },
     "execution_count": 152,
     "metadata": {},
     "output_type": "execute_result"
    }
   ],
   "source": [
    "select_geodesic.shape"
   ]
  },
  {
   "cell_type": "code",
   "execution_count": 155,
   "metadata": {},
   "outputs": [
    {
     "data": {
      "text/plain": [
       "-1.7934848070144653"
      ]
     },
     "execution_count": 155,
     "metadata": {},
     "output_type": "execute_result"
    }
   ],
   "source": [
    "np.nanmin(select_geodesic[:, 0, 1])"
   ]
  },
  {
   "cell_type": "code",
   "execution_count": 233,
   "metadata": {},
   "outputs": [
    {
     "data": {
      "image/png": "[encoded data removed]",
      "text/plain": [
       "<Figure size 720x720 with 1 Axes>"
      ]
     },
     "metadata": {},
     "output_type": "display_data"
    }
   ],
   "source": [
    "plt.figure(figsize=(10, 10), facecolor='w')\n",
    "\n",
    "ax1 = plt.subplot(1, 1, 1)\n",
    "\n",
    "ax1.plot(xs[:, 65], ys[:, 65], '-o')\n",
    "\n",
    "plim = 10\n",
    "ax1.set_xlim(-plim, plim)\n",
    "ax1.set_ylim(-plim, plim)\n",
    "\n",
    "ax1.set_aspect('equal')"
   ]
  },
  {
   "cell_type": "code",
   "execution_count": 142,
   "metadata": {},
   "outputs": [
    {
     "name": "stderr",
     "output_type": "stream",
     "text": [
      "100%|██████████| 10000/10000 [00:26<00:00, 371.17it/s]\n"
     ]
    }
   ],
   "source": [
    "bhspin = 0.9\n",
    "inclination_in_degrees = 60\n",
    "distance_in_rg = 1000\n",
    "\n",
    "fov = 10\n",
    "number_pixels_across = 10\n",
    "\n",
    "s0 = ma.initialize_geodesics_at_camera(bhspin, inclination_in_degrees, distance_in_rg, -fov, fov, number_pixels_across)\n",
    "S, final_dt = ma.geodesic_integrator(10000, s0, 40, 1e-4, bhspin, use_tqdm=True)"
   ]
  },
  {
   "cell_type": "code",
   "execution_count": 129,
   "metadata": {},
   "outputs": [
    {
     "data": {
      "text/plain": [
       "array([0.00000000e+00, 8.65525391e+02, 3.00000000e+00, 5.00866028e+02,\n",
       "       1.00000000e+00, 8.62568378e-01, 3.40527458e-06, 4.98003989e-01])"
      ]
     },
     "execution_count": 129,
     "metadata": {},
     "output_type": "execute_result"
    }
   ],
   "source": [
    "s0[65]"
   ]
  },
  {
   "cell_type": "code",
   "execution_count": 133,
   "metadata": {},
   "outputs": [
    {
     "name": "stderr",
     "output_type": "stream",
     "text": [
      "  4%|▍         | 418/10000 [00:00<00:18, 522.74it/s]\n"
     ]
    }
   ],
   "source": [
    "select_geodesic, select_dt_final = ma.geodesic_integrator(10000, np.array([s0[65]]), 40, 1e-4, bhspin, use_tqdm=True)"
   ]
  },
  {
   "cell_type": "code",
   "execution_count": 137,
   "metadata": {},
   "outputs": [
    {
     "data": {
      "text/plain": [
       "[<matplotlib.lines.Line2D at 0x7fd332826eb0>]"
      ]
     },
     "execution_count": 137,
     "metadata": {},
     "output_type": "execute_result"
    },
    {
     "data": {
      "image/png": "[encoded data removed]",
      "text/plain": [
       "<Figure size 432x288 with 1 Axes>"
      ]
     },
     "metadata": {
      "needs_background": "light"
     },
     "output_type": "display_data"
    }
   ],
   "source": [
    "ax1 = plt.subplot(1, 1, 1)\n",
    "\n",
    "ax1.plot(np.isnan(select_geodesic[:, 0, 1]))"
   ]
  },
  {
   "cell_type": "code",
   "execution_count": 139,
   "metadata": {},
   "outputs": [
    {
     "data": {
      "text/plain": [
       "-1.7934848070144653"
      ]
     },
     "execution_count": 139,
     "metadata": {},
     "output_type": "execute_result"
    }
   ],
   "source": [
    "np.min(select_geodesic[:, 0, 1])"
   ]
  },
  {
   "cell_type": "code",
   "execution_count": 234,
   "metadata": {},
   "outputs": [
    {
     "data": {
      "image/png": "[encoded data removed]",
      "text/plain": [
       "<Figure size 720x720 with 1 Axes>"
      ]
     },
     "metadata": {},
     "output_type": "display_data"
    }
   ],
   "source": [
    "fig = plt.figure(figsize=(10, 10), facecolor='w')\n",
    "\n",
    "ax1 = plt.subplot(1, 1, 1)\n",
    "\n",
    "ax1.imshow(xpos_vec[:, :, 0].T)\n",
    "ax1.set_aspect('auto')"
   ]
  },
  {
   "cell_type": "code",
   "execution_count": 106,
   "metadata": {},
   "outputs": [
    {
     "data": {
      "image/png": "[encoded data removed]",
      "text/plain": [
       "<Figure size 720x720 with 1 Axes>"
      ]
     },
     "metadata": {},
     "output_type": "display_data"
    }
   ],
   "source": [
    "fig = plt.figure(figsize=(10, 10), facecolor='w')\n",
    "\n",
    "ax1 = plt.subplot(1, 1, 1)\n",
    "\n",
    "ax1.imshow(final_M[:, :, 3].T)\n",
    "ax1.set_aspect('auto')"
   ]
  },
  {
   "cell_type": "code",
   "execution_count": 95,
   "metadata": {},
   "outputs": [
    {
     "data": {
      "image/png": "[encoded data removed]",
      "text/plain": [
       "<Figure size 720x720 with 1 Axes>"
      ]
     },
     "metadata": {},
     "output_type": "display_data"
    }
   ],
   "source": [
    "fig = plt.figure(figsize=(10, 10), facecolor='w')\n",
    "\n",
    "ax1 = plt.subplot(1, 1, 1)\n",
    "\n",
    "ax1.imshow(tensorial_data['ucon'][0].T)\n",
    "ax1.set_aspect('auto')"
   ]
  },
  {
   "cell_type": "code",
   "execution_count": null,
   "metadata": {},
   "outputs": [],
   "source": []
  },
  {
   "cell_type": "code",
   "execution_count": null,
   "metadata": {},
   "outputs": [],
   "source": []
  },
  {
   "cell_type": "code",
   "execution_count": 76,
   "metadata": {},
   "outputs": [
    {
     "data": {
      "text/plain": [
       "<matplotlib.image.AxesImage at 0x7fd32ac02e20>"
      ]
     },
     "execution_count": 76,
     "metadata": {},
     "output_type": "execute_result"
    },
    {
     "data": {
      "image/png": "[encoded data removed]",
      "text/plain": [
       "<Figure size 432x288 with 1 Axes>"
      ]
     },
     "metadata": {
      "needs_background": "light"
     },
     "output_type": "display_data"
    }
   ],
   "source": [
    "ax1 = plt.subplot(1, 1, 1)\n",
    "\n",
    "ax1.imshow(local_nu.sum(axis=0).reshape((10, 10)))"
   ]
  },
  {
   "cell_type": "code",
   "execution_count": null,
   "metadata": {},
   "outputs": [],
   "source": []
  },
  {
   "cell_type": "code",
   "execution_count": 204,
   "metadata": {},
   "outputs": [
    {
     "data": {
      "text/plain": [
       "<matplotlib.image.AxesImage at 0x7fd32cdb4940>"
      ]
     },
     "execution_count": 204,
     "metadata": {},
     "output_type": "execute_result"
    },
    {
     "data": {
      "image/png": "[encoded data removed]",
      "text/plain": [
       "<Figure size 576x576 with 1 Axes>"
      ]
     },
     "metadata": {},
     "output_type": "display_data"
    }
   ],
   "source": []
  },
  {
   "cell_type": "code",
   "execution_count": null,
   "metadata": {},
   "outputs": [],
   "source": []
  },
  {
   "cell_type": "code",
   "execution_count": null,
   "metadata": {},
   "outputs": [],
   "source": []
  },
  {
   "cell_type": "code",
   "execution_count": null,
   "metadata": {},
   "outputs": [],
   "source": []
  },
  {
   "cell_type": "code",
   "execution_count": null,
   "metadata": {},
   "outputs": [],
   "source": []
  },
  {
   "cell_type": "code",
   "execution_count": null,
   "metadata": {},
   "outputs": [],
   "source": [
    "\n",
    "        Mass_scale = 5e+24\n",
    "\n",
    "        bfield = np.sqrt(BuBu) *  c * np.sqrt(pow(G*M_BH/c**2,-3) * Mass_scale * 4 * np.pi)\n",
    "\n",
    "        ne_data = Mass_scale * densff_data * pow(G*M_BH/c**2,-3)  * 1/(1.67 * 1e-24 +  9.1094 * 1e-28)\n",
    "\n",
    "        R_imp = ((R_high * (beta_data)**2/(1 + (beta_data)**2)) + 1/(1+(beta_data)**2))\n",
    "\n",
    "        t_electron = c**2 * (m_p  * internal_u_data * (4/3 -1) * (5/3-1))/(Kb * densff_data * ((5/3-1) + (4/3-1) * R_imp))\n",
    "\n",
    "        thetae = Kb * t_electron/(m_e*c**2)\n",
    "\n",
    "        #index = np.where(np.isnan(t_electron)== True)\n",
    "        #t_electron[index[0],index[1]] = 0\n",
    "\n",
    "        del R_imp\n",
    "\n",
    "        synemiss_data = np.empty((len(S),LEN))\n",
    "\n",
    "        for i in range(len(S)):\n",
    "            synemiss_data[i,:] = synemiss(ne_data[i,:], t_electron[i,:],bfield[i,:],nu[i,:],beta_data[i,:], observer_angle[i,:])\n",
    "\n",
    "        index = np.where(np.isnan(synemiss_data)==True)\n",
    "        synemiss_data[index[0],index[1]] = 0.0\n",
    "\n",
    "        del index\n",
    "        absorption_data   = np.zeros((len(S), LEN))\n",
    "\n",
    "        #for i in range(len(S)):\n",
    "        #    absorption_data[i,:] = absorption_coeff(t_electron[i,:], synemiss_data[i,:], nu[i,:],beta_data[i,:])\n",
    "\n",
    "\n",
    "\n",
    "        index = np.where(np.isnan(absorption_data)==True)\n",
    "        absorption_data[index[0],index[1]] = 0.0\n",
    "\n",
    "        del index\n",
    "\n",
    "        grav_synchrotron = synemiss_data/nu**2\n",
    "\n",
    "        index = np.where(np.isnan(grav_synchrotron) == True)\n",
    "\n",
    "        grav_synchrotron[index[0],index[1]] = 0.0\n",
    "\n",
    "\n",
    "        index = np.where(np.isnan(gamma_inv_data) == True)\n",
    "        gamma_inv_data[index[0],index[1]] = 0.0\n",
    "\n",
    "\n",
    "        index = np.where(sigma_data > 1)\n",
    "        ne_data[index[0],index[1]] = 0.0\n",
    "        grav_synchrotron[index[0],index[1]] = 0.0\n",
    "        absorption_data[index[0],index[1]] = 0.0\n",
    "        synemiss_data[index[0],index[1]] = 0.0\n",
    "\n",
    "        index = np.where(nu < 0)\n",
    "        nu[index[0],index[1]] = 0.0\n",
    "\n",
    "        index = np.where(grav_synchrotron < 0)\n",
    "        grav_synchrotron[index[0],index[1]] = 0.0\n",
    "\n",
    "        index = np.where(absorption_data < 0)\n",
    "        absorption_data[index[0],index[1]] = 0.0\n",
    "\n",
    "        N = len(S)\n",
    "\n",
    "        final_I,I_list = specific_intensity(N,synemiss_data,absorption_data,nu,KuUu,final_dt)\n"
   ]
  },
  {
   "cell_type": "code",
   "execution_count": null,
   "metadata": {},
   "outputs": [],
   "source": []
  },
  {
   "cell_type": "code",
   "execution_count": null,
   "metadata": {},
   "outputs": [],
   "source": []
  },
  {
   "cell_type": "code",
   "execution_count": 45,
   "metadata": {},
   "outputs": [],
   "source": [
    "local_nu = -tensorial_data['kdotu'] * 230e9\n",
    "gamma_inv_data = local_nu / 230.e9\n",
    "\n",
    "\"\"\"\n",
    "beta_data       = internal_u_data/BuBu * (((fluid_gamma) - 1)/0.5)\n",
    "sigma_data      = BuBu/densff_data\n",
    "\n",
    "index = np.where(np.isnan(beta_data) == True)\n",
    "beta_data[index[0],index[1]] = 0\n",
    "index = np.where(np.isnan(sigma_data) == True)\n",
    "sigma_data[index[0],index[1]] = 0    \"\"\""
   ]
  },
  {
   "cell_type": "code",
   "execution_count": null,
   "metadata": {},
   "outputs": [],
   "source": [
    "\n",
    "    beta_data       = internal_u_data/BuBu * (((fluid_gamma) - 1)/0.5)\n",
    "    sigma_data      = BuBu/densff_data\n",
    "\n",
    "    index = np.where(np.isnan(beta_data) == True)\n",
    "    beta_data[index[0],index[1]] = 0\n",
    "    index = np.where(np.isnan(sigma_data) == True)\n",
    "    sigma_data[index[0],index[1]] = 0\n",
    "\n",
    "    #return S,ne_data,thetae,bfield_data_pmag,num.sqrt(BuBu),sigma_data,beta_data,-KuUu * 230e9\n",
    "\n",
    "    def pitch_angle(KuUu,KuBu,BuBu):\n",
    "\n",
    "        angle = KuBu/(abs(KuUu) * np.sqrt(BuBu))\n",
    "\n",
    "        index = np.where(BuBu == 0)\n",
    "        angle[index[0],index[1]] = np.cos(np.pi/2)\n",
    "\n",
    "        index = np.where(abs(angle) > 1.0)\n",
    "        angle[index[0],index[1]] = angle[index[0],index[1]]/abs(angle[index[0],index[1]])\n",
    "\n",
    "        return np.arccos(angle)\n",
    "\n",
    "    observer_angle = pitch_angle(KuUu,KuBu,BuBu)\n",
    "\n",
    "    del KuBu\n",
    "\n",
    "    nu = -KuUu * 230e9\n",
    "\n",
    "    gamma_inv_data = nu/230e9\n",
    "\n",
    "\n",
    "    R_high_list = [80]\n",
    "\n",
    "    for R_high in R_high_list:\n",
    "\n",
    "        Mass_scale = 5e+24\n",
    "\n",
    "        bfield = np.sqrt(BuBu) *  c * np.sqrt(pow(G*M_BH/c**2,-3) * Mass_scale * 4 * np.pi)\n",
    "\n",
    "        ne_data = Mass_scale * densff_data * pow(G*M_BH/c**2,-3)  * 1/(1.67 * 1e-24 +  9.1094 * 1e-28)\n",
    "\n",
    "        R_imp = ((R_high * (beta_data)**2/(1 + (beta_data)**2)) + 1/(1+(beta_data)**2))\n",
    "\n",
    "        t_electron = c**2 * (m_p  * internal_u_data * (4/3 -1) * (5/3-1))/(Kb * densff_data * ((5/3-1) + (4/3-1) * R_imp))\n",
    "\n",
    "        thetae = Kb * t_electron/(m_e*c**2)\n",
    "\n",
    "        #index = np.where(np.isnan(t_electron)== True)\n",
    "        #t_electron[index[0],index[1]] = 0\n",
    "\n",
    "        del R_imp\n",
    "\n",
    "        synemiss_data = np.empty((len(S),LEN))\n",
    "\n",
    "        for i in range(len(S)):\n",
    "            synemiss_data[i,:] = synemiss(ne_data[i,:], t_electron[i,:],bfield[i,:],nu[i,:],beta_data[i,:], observer_angle[i,:])\n",
    "\n",
    "        index = np.where(np.isnan(synemiss_data)==True)\n",
    "        synemiss_data[index[0],index[1]] = 0.0\n",
    "\n",
    "        del index\n",
    "        absorption_data   = np.zeros((len(S), LEN))\n",
    "\n",
    "        #for i in range(len(S)):\n",
    "        #    absorption_data[i,:] = absorption_coeff(t_electron[i,:], synemiss_data[i,:], nu[i,:],beta_data[i,:])\n",
    "\n",
    "\n",
    "\n",
    "        index = np.where(np.isnan(absorption_data)==True)\n",
    "        absorption_data[index[0],index[1]] = 0.0\n",
    "\n",
    "        del index\n",
    "\n",
    "        grav_synchrotron = synemiss_data/nu**2\n",
    "\n",
    "        index = np.where(np.isnan(grav_synchrotron) == True)\n",
    "\n",
    "        grav_synchrotron[index[0],index[1]] = 0.0\n",
    "\n",
    "\n",
    "        index = np.where(np.isnan(gamma_inv_data) == True)\n",
    "        gamma_inv_data[index[0],index[1]] = 0.0\n",
    "\n",
    "\n",
    "        index = np.where(sigma_data > 1)\n",
    "        ne_data[index[0],index[1]] = 0.0\n",
    "        grav_synchrotron[index[0],index[1]] = 0.0\n",
    "        absorption_data[index[0],index[1]] = 0.0\n",
    "        synemiss_data[index[0],index[1]] = 0.0\n",
    "\n",
    "        index = np.where(nu < 0)\n",
    "        nu[index[0],index[1]] = 0.0\n",
    "\n",
    "        index = np.where(grav_synchrotron < 0)\n",
    "        grav_synchrotron[index[0],index[1]] = 0.0\n",
    "\n",
    "        index = np.where(absorption_data < 0)\n",
    "        absorption_data[index[0],index[1]] = 0.0\n",
    "\n",
    "        N = len(S)\n",
    "\n",
    "        final_I,I_list = specific_intensity(N,synemiss_data,absorption_data,nu,KuUu,final_dt)\n",
    "\n",
    "        np.save(\"/xdisk/chanc/home/anikets/Checking_shell/I_inv_{}_SANE/I_trial_{}.npy\".format(R_high,lower_limit/8),final_I)\n",
    "\n",
    "        '''\n",
    "        I_inv_val = []\n",
    "        I_len_iteration = []\n",
    "        j_inv_val = []\n",
    "        j_len_iteration = []\n",
    "\n",
    "\n",
    "        for shell_radii_val in range(97):\n",
    "\n",
    "            shell_index = np.load(\"/xdisk/chanc/home/anikets/Checking_shell/new_sims/Radius_Shells/Radius_{}/Radii_Shell_i{}_{}.npy\".format(lower_limit/8, inclination, shell_radii_val))\n",
    "            j_inv_sum = sum(grav_synchrotron[shell_index[0], shell_index[1]])\n",
    "\n",
    "            if len(shell_index[0]) == 0:\n",
    "                j_inv_avg = 0\n",
    "            else:\n",
    "                j_inv_avg = j_inv_sum\n",
    "\n",
    "            j_len_iteration.append(len(shell_index[0]))\n",
    "            j_inv_val.append(j_inv_avg)\n",
    "\n",
    "            shell_index = np.load(\"/xdisk/chanc/home/anikets/Checking_shell/new_sims/Inv_Radius_Shells/Inv_Radius_{}/Inv_Radii_Shell_i{}_{}.npy\".format(lower_limit/8, inclination, shell_radii_val))\n",
    "\n",
    "            I_inv_sum = sum(I_list[shell_index[0], shell_index[1]])\n",
    "\n",
    "            if len(shell_index[0]) == 0:\n",
    "                I_inv_avg = 0\n",
    "            else:\n",
    "                I_inv_avg = I_inv_sum\n",
    "\n",
    "            I_len_iteration.append(len(shell_index[0]))\n",
    "            I_inv_val.append(I_inv_avg)\n",
    "\n",
    "        j_inv_val = np.array(j_inv_val)\n",
    "        j_len_iteration = np.array(j_len_iteration)\n",
    "\n",
    "        I_inv_val = np.array(I_inv_val)\n",
    "        I_len_iteration = np.array(I_len_iteration)\n",
    "\n",
    "        np.save(\"/xdisk/chanc/home/anikets/Checking_shell/j_inv_{}_SANE/GRMHD_000{}/j_inv_{}_RADIUS_i{}.npy\".format(R_high,GRMHD_file, lower_limit/8, inclination), j_inv_val)\n",
    "            # Now j_inv_val is an array of shape (485,)\n",
    "\n",
    "        np.save(\"/xdisk/chanc/home/anikets/Checking_shell/j_inv_{}_SANE/GRMHD_000{}/j_len_iteration_{}_RADIUS_i{}.npy\".format(R_high,GRMHD_file,lower_limit/8, inclination),j_len_iteration)\n",
    "\n",
    "\n",
    "        np.save(\"/xdisk/chanc/home/anikets/Checking_shell/I_inv_{}_SANE/GRMHD_000{}/I_inv_{}_RADIUS_i{}.npy\".format(R_high,GRMHD_file, lower_limit/8, inclination), I_inv_val)\n",
    "        # Now j_inv_val is an array of shape (485,)\n",
    "\n",
    "        np.save(\"/xdisk/chanc/home/anikets/Checking_shell/I_inv_{}_SANE/GRMHD_000{}/I_len_iteration_{}_RADIUS_i{}.npy\".format(R_high,GRMHD_file,lower_limit/8, inclination),I_len_iteration)\n",
    "\n",
    "\n",
    "        '''\n",
    "\n",
    "        I_inv_val = []\n",
    "        I_len_iteration = []\n",
    "        j_inv_val = []\n",
    "        j_len_iteration = []\n",
    "\n",
    "\n",
    "\n",
    "        for shell_theta_val in range(89):\n",
    "\n",
    "            shell_index = np.load(\"/xdisk/chanc/home/anikets/Checking_shell/new_sims/Theta_Shells/Theta_{}/Theta_Shell_i{}_{}.npy\".format(lower_limit/8,inclination,  shell_theta_val))\n",
    "            j_inv_sum = sum(grav_synchrotron[shell_index[0], shell_index[1]])\n",
    "\n",
    "            if len(shell_index[0]) == 0:\n",
    "                j_inv_avg = 0\n",
    "            else:\n",
    "                j_inv_avg = j_inv_sum\n",
    "\n",
    "            j_len_iteration.append(len(shell_index[0]))\n",
    "            j_inv_val.append(j_inv_avg)\n",
    "\n",
    "\n",
    "            shell_index = np.load(\"/xdisk/chanc/home/anikets/Checking_shell/new_sims/Inv_Theta_Shells/Inv_Theta_{}/Inv_Theta_Shell_i{}_{}.npy\".format(lower_limit/8, inclination, shell_theta_val))\n",
    "\n",
    "\n",
    "            I_inv_sum = sum(I_list[shell_index[0], shell_index[1]])\n",
    "\n",
    "            if len(shell_index[0]) == 0:\n",
    "                I_inv_avg = 0\n",
    "            else:\n",
    "                I_inv_avg = I_inv_sum\n",
    "\n",
    "            I_len_iteration.append(len(shell_index[0]))\n",
    "            I_inv_val.append(I_inv_avg)\n",
    "\n",
    "\n",
    "        j_inv_val = np.array(j_inv_val)\n",
    "        j_len_iteration = np.array(j_len_iteration)\n",
    "\n",
    "        I_inv_val = np.array(I_inv_val)\n",
    "        I_len_iteration = np.array(I_len_iteration)\n",
    "\n",
    "        np.save(\"/xdisk/chanc/home/anikets/Checking_shell/j_inv_{}_SANE/GRMHD_000{}/j_trial_inv_{}_THETA_i{}.npy\".format(R_high,GRMHD_file, lower_limit/8, inclination), j_inv_val)\n",
    "            # Now j_inv_val is an array of shape (485,)\n",
    "\n",
    "        np.save(\"/xdisk/chanc/home/anikets/Checking_shell/j_inv_{}_SANE/GRMHD_000{}/j_trial_len_iteration_{}_THETA_i{}.npy\".format(R_high,GRMHD_file,lower_limit/8, inclination),j_len_iteration)\n",
    "\n",
    "\n",
    "        np.save(\"/xdisk/chanc/home/anikets/Checking_shell/I_inv_{}_SANE/GRMHD_000{}/I_trial_inv_{}_THETA_i{}.npy\".format(R_high,GRMHD_file, lower_limit/8, inclination), I_inv_val)\n",
    "        # Now j_inv_val is an array of shape (485,)\n",
    "\n",
    "        np.save(\"/xdisk/chanc/home/anikets/Checking_shell/I_inv_{}_SANE/GRMHD_000{}/I_trial_len_iteration_{}_THETA_i{}.npy\".format(R_high,GRMHD_file,lower_limit/8, inclination),I_len_iteration)\n",
    "\n",
    "        del j_inv_val\n",
    "        del j_len_iteration\n",
    "        del I_inv_val\n",
    "        del I_len_iteration\n"
   ]
  },
  {
   "cell_type": "code",
   "execution_count": null,
   "metadata": {},
   "outputs": [],
   "source": []
  },
  {
   "cell_type": "code",
   "execution_count": null,
   "metadata": {},
   "outputs": [],
   "source": []
  },
  {
   "cell_type": "code",
   "execution_count": null,
   "metadata": {},
   "outputs": [],
   "source": []
  },
  {
   "cell_type": "code",
   "execution_count": null,
   "metadata": {},
   "outputs": [],
   "source": []
  },
  {
   "cell_type": "code",
   "execution_count": null,
   "metadata": {},
   "outputs": [],
   "source": []
  },
  {
   "cell_type": "code",
   "execution_count": null,
   "metadata": {},
   "outputs": [],
   "source": []
  },
  {
   "cell_type": "code",
   "execution_count": 39,
   "metadata": {},
   "outputs": [
    {
     "data": {
      "image/png": "[encoded data removed]",
      "text/plain": [
       "<Figure size 432x288 with 1 Axes>"
      ]
     },
     "metadata": {
      "needs_background": "light"
     },
     "output_type": "display_data"
    }
   ],
   "source": [
    "ax = plt.subplot(1, 1, 1)\n",
    "ax.imshow(tensorial_data['udotu'], vmin=-1.1, vmax=-0.9)\n",
    "ax.set_aspect('auto')"
   ]
  },
  {
   "cell_type": "code",
   "execution_count": 11,
   "metadata": {},
   "outputs": [
    {
     "data": {
      "text/plain": [
       "{'dens': array([[0.00035382, 0.00035143, 0.00034922, ..., 0.0003502 , 0.00034913,\n",
       "         0.00034809],\n",
       "        [0.00035363, 0.0003516 , 0.00034957, ..., 0.00035468, 0.00035259,\n",
       "         0.00035063],\n",
       "        [0.00036961, 0.00036636, 0.00036316, ..., 0.00036952, 0.000368  ,\n",
       "         0.00036669],\n",
       "        ...,\n",
       "        [0.        , 0.        , 0.        , ..., 0.00010271, 0.        ,\n",
       "         0.        ],\n",
       "        [0.        , 0.        , 0.        , ..., 0.00010271, 0.        ,\n",
       "         0.        ],\n",
       "        [0.        , 0.        , 0.        , ..., 0.00010271, 0.        ,\n",
       "         0.        ]]),\n",
       " 'u': array([[1.81947625e-07, 1.81436338e-07, 1.80930167e-07, ...,\n",
       "         1.80517710e-07, 1.80515483e-07, 1.80485449e-07],\n",
       "        [1.83419867e-07, 1.82482650e-07, 1.81472962e-07, ...,\n",
       "         1.82362056e-07, 1.81680947e-07, 1.80986693e-07],\n",
       "        [1.86342759e-07, 1.84656829e-07, 1.82999950e-07, ...,\n",
       "         1.83183285e-07, 1.82365834e-07, 1.81623227e-07],\n",
       "        ...,\n",
       "        [0.00000000e+00, 0.00000000e+00, 0.00000000e+00, ...,\n",
       "         1.74068241e-08, 0.00000000e+00, 0.00000000e+00],\n",
       "        [0.00000000e+00, 0.00000000e+00, 0.00000000e+00, ...,\n",
       "         1.74068241e-08, 0.00000000e+00, 0.00000000e+00],\n",
       "        [0.00000000e+00, 0.00000000e+00, 0.00000000e+00, ...,\n",
       "         1.74068241e-08, 0.00000000e+00, 0.00000000e+00]]),\n",
       " 'U1': array([[ 0.01824237,  0.01839613,  0.01853806, ...,  0.01794963,\n",
       "          0.01803534,  0.01811985],\n",
       "        [ 0.0186525 ,  0.01864488,  0.01863719, ...,  0.01710563,\n",
       "          0.01718614,  0.01725662],\n",
       "        [ 0.0181389 ,  0.01807687,  0.01801764, ...,  0.01697281,\n",
       "          0.01697101,  0.01697549],\n",
       "        ...,\n",
       "        [ 0.        ,  0.        ,  0.        , ..., -0.00972553,\n",
       "          0.        ,  0.        ],\n",
       "        [ 0.        ,  0.        ,  0.        , ..., -0.00972553,\n",
       "          0.        ,  0.        ],\n",
       "        [ 0.        ,  0.        ,  0.        , ..., -0.00972553,\n",
       "          0.        ,  0.        ]]),\n",
       " 'U2': array([[ 0.00895578,  0.00888047,  0.0088106 , ...,  0.00929357,\n",
       "          0.00920539,  0.00911749],\n",
       "        [ 0.0073601 ,  0.00730868,  0.00725284, ...,  0.00813175,\n",
       "          0.00802067,  0.0079134 ],\n",
       "        [ 0.00679162,  0.00673392,  0.00667343, ...,  0.00716003,\n",
       "          0.00706928,  0.00697914],\n",
       "        ...,\n",
       "        [ 0.        ,  0.        ,  0.        , ..., -0.02090335,\n",
       "          0.        ,  0.        ],\n",
       "        [ 0.        ,  0.        ,  0.        , ..., -0.02090335,\n",
       "          0.        ,  0.        ],\n",
       "        [ 0.        ,  0.        ,  0.        , ..., -0.02090335,\n",
       "          0.        ,  0.        ]]),\n",
       " 'U3': array([[ 0.00291816,  0.00292802,  0.00294037, ...,  0.00326592,\n",
       "          0.0032564 ,  0.00325012],\n",
       "        [ 0.0025738 ,  0.00262185,  0.00266571, ...,  0.00269454,\n",
       "          0.00271384,  0.00273526],\n",
       "        [ 0.00288733,  0.00290497,  0.00292098, ...,  0.00257411,\n",
       "          0.00256414,  0.00255373],\n",
       "        ...,\n",
       "        [ 0.        ,  0.        ,  0.        , ..., -0.01760322,\n",
       "          0.        ,  0.        ],\n",
       "        [ 0.        ,  0.        ,  0.        , ..., -0.01760322,\n",
       "          0.        ,  0.        ],\n",
       "        [ 0.        ,  0.        ,  0.        , ..., -0.01760322,\n",
       "          0.        ,  0.        ]]),\n",
       " 'B1': array([[5.35987528e-05, 5.26830853e-05, 5.18224518e-05, ...,\n",
       "         5.71952255e-05, 5.54188304e-05, 5.37315650e-05],\n",
       "        [3.60522829e-05, 3.64335601e-05, 3.68157627e-05, ...,\n",
       "         4.38477372e-05, 4.33958489e-05, 4.29811064e-05],\n",
       "        [2.91176872e-05, 3.07035916e-05, 3.22849739e-05, ...,\n",
       "         4.06005259e-05, 4.12917806e-05, 4.19866908e-05],\n",
       "        ...,\n",
       "        [0.00000000e+00, 0.00000000e+00, 0.00000000e+00, ...,\n",
       "         1.29959618e-04, 0.00000000e+00, 0.00000000e+00],\n",
       "        [0.00000000e+00, 0.00000000e+00, 0.00000000e+00, ...,\n",
       "         1.29959618e-04, 0.00000000e+00, 0.00000000e+00],\n",
       "        [0.00000000e+00, 0.00000000e+00, 0.00000000e+00, ...,\n",
       "         1.29959618e-04, 0.00000000e+00, 0.00000000e+00]]),\n",
       " 'B2': array([[-5.39981818e-05, -5.25777595e-05, -5.11803287e-05, ...,\n",
       "         -5.56178250e-05, -5.38828610e-05, -5.22308225e-05],\n",
       "        [-3.73719109e-05, -3.70869292e-05, -3.68244774e-05, ...,\n",
       "         -3.97764927e-05, -3.88951027e-05, -3.80917394e-05],\n",
       "        [-3.42548014e-05, -3.46576112e-05, -3.50374955e-05, ...,\n",
       "         -3.58911023e-05, -3.61281498e-05, -3.63680388e-05],\n",
       "        ...,\n",
       "        [ 0.00000000e+00,  0.00000000e+00,  0.00000000e+00, ...,\n",
       "         -7.37260254e-05,  0.00000000e+00,  0.00000000e+00],\n",
       "        [ 0.00000000e+00,  0.00000000e+00,  0.00000000e+00, ...,\n",
       "         -7.37260254e-05,  0.00000000e+00,  0.00000000e+00],\n",
       "        [ 0.00000000e+00,  0.00000000e+00,  0.00000000e+00, ...,\n",
       "         -7.37260254e-05,  0.00000000e+00,  0.00000000e+00]]),\n",
       " 'B3': array([[ 2.95625504e-05,  3.04799787e-05,  3.14237012e-05, ...,\n",
       "          2.11898557e-05,  2.17277237e-05,  2.22688010e-05],\n",
       "        [ 5.47673211e-05,  5.58063333e-05,  5.68835594e-05, ...,\n",
       "          4.26549797e-05,  4.36508163e-05,  4.46487537e-05],\n",
       "        [ 6.30112577e-05,  6.36378488e-05,  6.42842656e-05, ...,\n",
       "          5.19851143e-05,  5.22670806e-05,  5.25511356e-05],\n",
       "        ...,\n",
       "        [ 0.00000000e+00,  0.00000000e+00,  0.00000000e+00, ...,\n",
       "         -1.46906077e-05,  0.00000000e+00,  0.00000000e+00],\n",
       "        [ 0.00000000e+00,  0.00000000e+00,  0.00000000e+00, ...,\n",
       "         -1.46906077e-05,  0.00000000e+00,  0.00000000e+00],\n",
       "        [ 0.00000000e+00,  0.00000000e+00,  0.00000000e+00, ...,\n",
       "         -1.46906077e-05,  0.00000000e+00,  0.00000000e+00]])}"
      ]
     },
     "execution_count": 11,
     "metadata": {},
     "output_type": "execute_result"
    }
   ],
   "source": [
    "primitive_data"
   ]
  },
  {
   "cell_type": "code",
   "execution_count": null,
   "metadata": {},
   "outputs": [],
   "source": [
    "ne_along_S, B_along_S, ..."
   ]
  },
  {
   "cell_type": "code",
   "execution_count": null,
   "metadata": {},
   "outputs": [],
   "source": [
    "\n",
    "LEN = len(S[0])\n",
    "\n",
    "h_BL = np.sqrt(1 - a_spin**2)\n",
    "r_m = 1 - h_BL\n",
    "r_p = 1 + h_BL\n",
    "\n"
   ]
  },
  {
   "cell_type": "code",
   "execution_count": null,
   "metadata": {},
   "outputs": [],
   "source": []
  },
  {
   "cell_type": "code",
   "execution_count": null,
   "metadata": {},
   "outputs": [],
   "source": []
  },
  {
   "cell_type": "code",
   "execution_count": null,
   "metadata": {},
   "outputs": [],
   "source": []
  },
  {
   "cell_type": "code",
   "execution_count": null,
   "metadata": {},
   "outputs": [],
   "source": []
  },
  {
   "cell_type": "code",
   "execution_count": 15,
   "metadata": {},
   "outputs": [
    {
     "data": {
      "image/png": "[encoded data removed]",
      "text/plain": [
       "<Figure size 432x288 with 1 Axes>"
      ]
     },
     "metadata": {
      "needs_background": "light"
     },
     "output_type": "display_data"
    }
   ],
   "source": [
    "ax1 = plt.subplot(1, 1, 1)\n",
    "\n",
    "x = S[:, :, 1]\n",
    "y = S[:, :, 2]\n",
    "z = S[:, :, 3]\n",
    "\n",
    "ax1.plot(x, y)\n",
    "\n",
    "plim = [-10, 10]\n",
    "ax1.set_xlim(*plim)\n",
    "ax1.set_ylim(*plim)\n",
    "\n",
    "ax1.set_aspect('equal')"
   ]
  },
  {
   "cell_type": "code",
   "execution_count": null,
   "metadata": {},
   "outputs": [],
   "source": []
  },
  {
   "cell_type": "code",
   "execution_count": null,
   "metadata": {},
   "outputs": [],
   "source": [
    "\n",
    "LEN = len(S[0])\n",
    "\n",
    "h_BL = np.sqrt(1 - a_spin**2)\n",
    "r_m = 1 - h_BL\n",
    "r_p = 1 + h_BL\n",
    "\n",
    "densff_data     = np.zeros((len(S),LEN))\n",
    "B_1_data        = np.zeros((len(S),LEN))\n",
    "B_2_data        = np.zeros((len(S),LEN))\n",
    "B_3_data        = np.zeros((len(S),LEN))\n",
    "U_1_data        = np.zeros((len(S),LEN))\n",
    "U_2_data        = np.zeros((len(S),LEN))\n",
    "U_3_data        = np.zeros((len(S),LEN))\n",
    "internal_u_data = np.zeros((len(S),LEN))\n",
    "\n",
    "populated = np.zeros((len(S), LEN))\n",
    "prims = np.zeros((len(S), LEN, 8))\n",
    "\n",
    "for mbi in tqdm(mb_index_map.values()):\n",
    "\n",
    "    if mbi < nstart or mbi >= nend:\n",
    "        break\n",
    "\n",
    "    mb_x1min = x1f[mbi].min()\n",
    "    mb_x1max = x1f[mbi].max()\n",
    "    mb_x2min = x2f[mbi].min()\n",
    "    mb_x2max = x2f[mbi].max()\n",
    "    mb_x3min = x3f[mbi].min()\n",
    "    mb_x3max = x3f[mbi].max()\n",
    "\n",
    "    mb_mask = (mb_x1min < S[:,:,1]) & (S[:,:,1] <= mb_x1max)\n",
    "    mb_mask &= (mb_x2min < S[:,:,2]) & (S[:,:,2] <= mb_x2max)\n",
    "    mb_mask &= (mb_x3min < S[:,:,3]) & (S[:,:,3] <= mb_x3max)\n",
    "    mb_mask &= (populated == 0)\n",
    "\n",
    "    x1e = get_extended(x1v[mbi])\n",
    "    x2e = get_extended(x2v[mbi])\n",
    "    x3e = get_extended(x3v[mbi])\n",
    "\n",
    "    # get meshblock key information\n",
    "    tlevel = Levels[mbi]\n",
    "    ti, tj, tk = LogicalLocations[mbi]\n",
    "    key = tlevel, ti, tj, tk\n",
    "\n",
    "    if np.count_nonzero(mb_mask) == 0:\n",
    "        continue\n",
    "\n",
    "\n",
    "    # create and use the interpolation object\n",
    "    for nprm in range(nprim_all):\n",
    "        prm = all_meshblocks[mbi,nprm, :, :, :]\n",
    "        rgi = RegularGridInterpolator((x1e, x2e, x3e), prm.transpose((2,1,0)),\n",
    "                                        method=interp_method)\n",
    "\n",
    "        remapped = rgi((S[:,:,1][mb_mask], S[:,:,2][mb_mask], S[:,:,3][mb_mask]))\n",
    "        outidx, outval = athenak.map_prim_to_prim(remapped, nprm, variable_names, fluid_params)\n",
    "\n",
    "        prims[mb_mask, outidx] = outval\n",
    "\n",
    "    # ensure we don't accidentally overwrite already-populated\n",
    "    # cells (precision issues?)\n",
    "    populated[mb_mask] = 1\n",
    "\n",
    "\n",
    "densff_data     = prims[:,:,0]\n",
    "internal_u_data = prims[:,:,1]\n",
    "U_1_data        = prims[:,:,2]\n",
    "U_2_data        = prims[:,:,3]\n",
    "U_3_data        = prims[:,:,4]\n",
    "B_1_data        = prims[:,:,5]\n",
    "B_2_data        = prims[:,:,6]\n",
    "B_3_data        = prims[:,:,7]\n",
    "\n",
    "del prims\n",
    "del populated"
   ]
  },
  {
   "cell_type": "code",
   "execution_count": null,
   "metadata": {},
   "outputs": [],
   "source": []
  },
  {
   "cell_type": "code",
   "execution_count": null,
   "metadata": {},
   "outputs": [],
   "source": []
  },
  {
   "cell_type": "code",
   "execution_count": null,
   "metadata": {},
   "outputs": [],
   "source": []
  },
  {
   "cell_type": "code",
   "execution_count": null,
   "metadata": {},
   "outputs": [],
   "source": []
  },
  {
   "cell_type": "code",
   "execution_count": null,
   "metadata": {},
   "outputs": [],
   "source": [
    "\n",
    "    #########################\n",
    "    # We'll now convert these primtive variables into variables actually used by the Synchrotron functions.\n",
    "\n",
    "    #tgas_data = (pressff_data * c**2 * (m_p + m_e)) /(densff_data * Kb)\n",
    "\n",
    "\n",
    "    @jit\n",
    "\n",
    "    def another_metric(x):\n",
    "        eta = jnp.asarray([[1,0,0],[0,1,0],[0,0,1]])\n",
    "        a = a_spin\n",
    "        aa = a * a\n",
    "        zz = x[3]*x[3]\n",
    "        kk = 0.5 * (x[1]*x[1] + x[2]*x[2] + zz - aa)\n",
    "        rr = jnp.sqrt(kk * kk + aa * zz ) + kk\n",
    "        r = jnp.sqrt(rr)\n",
    "        f = (2.0 * rr * r)/(rr * rr + aa * zz)\n",
    "        l = jnp.array([(r * x[1] + a * x[2])/(rr + aa) , (r* x[2] - a * x[1])/(rr + aa) , x[3]/r])\n",
    "        return eta + f * (l[:,jnp.newaxis] * l[jnp.newaxis,:])\n",
    "\n",
    "\n",
    "    @jit\n",
    "\n",
    "    def vec_another_metric(X):\n",
    "        return vmap(another_metric)(X)\n",
    "\n",
    "\n",
    "\n",
    "    UuUu = np.zeros((len(S),LEN))\n",
    "\n",
    "    total_u = np.array([U_1_data,U_2_data,U_3_data])\n",
    "    total_u = np.transpose(total_u, (1,2,0))\n",
    "\n",
    "    for i in tqdm(range(len(S))):\n",
    "        UuUu[i,:] = ((vec_metric(S[i,:,:4])[:,1:,1:] @ total_u[i,:,:].reshape(LEN,3,1)).reshape(LEN,1,3) @ total_u[i,:,:].reshape(LEN,3,1)).reshape(LEN)\n",
    "    del total_u\n",
    "\n",
    "    GAMMA = np.sqrt(1 + UuUu)\n",
    "\n",
    "    del UuUu\n",
    "\n",
    "    final_M = np.zeros((len(S),LEN,4))\n",
    "    for i in tqdm(range(0,len(S))):\n",
    "\n",
    "        final_M[i,:,:] = vec_imetric(S[i,:,:4])[:,0,:]\n",
    "\n",
    "    u0_data = (GAMMA/pow(-final_M[:,:,0],-1/2))\n",
    "    u1_data = (U_1_data - (final_M[:,:,1] * GAMMA * pow(-final_M[:,:,0],-1/2)))\n",
    "    u2_data = (U_2_data - (final_M[:,:,2] * GAMMA * pow(-final_M[:,:,0],-1/2)))\n",
    "    u3_data = (U_3_data - (final_M[:,:,3] * GAMMA * pow(-final_M[:,:,0],-1/2)))\n",
    "\n",
    "\n",
    "\n",
    "    del final_M\n",
    "\n",
    "    #######################\n",
    "    # Now, for the magnetic field components\n",
    "\n",
    "    BuUu = np.zeros((len(S),LEN))\n",
    "\n",
    "    total_B = np.array([B_1_data,B_2_data,B_3_data])\n",
    "    total_B = np.transpose(total_B, (1,2,0))\n",
    "\n",
    "    total_u = np.array([u0_data,u1_data,u2_data,u3_data])\n",
    "    total_u = np.transpose(total_u, (1,2,0))\n",
    "\n",
    "    for i in tqdm(range(len(S))):\n",
    "\n",
    "        BuUu[i,:] = ((vec_metric(S[i,:,:4]) @ total_u[i,:,:].reshape(LEN,4,1)).reshape(LEN,1,4)[:,:,1:] @ total_B[i,:,:].reshape(LEN,3,1)).reshape(LEN)\n",
    "\n",
    "    del total_B\n",
    "    del total_u\n",
    "\n",
    "    B0_data = BuUu\n",
    "    del BuUu\n",
    "    B1_data = 1/u0_data * (B_1_data + B0_data * u1_data)\n",
    "    B2_data = 1/u0_data * (B_2_data + B0_data * u2_data)\n",
    "    B3_data = 1/u0_data * (B_3_data + B0_data * u3_data)\n"
   ]
  }
 ],
 "metadata": {
  "kernelspec": {
   "display_name": "base",
   "language": "python",
   "name": "python3"
  },
  "language_info": {
   "codemirror_mode": {
    "name": "ipython",
    "version": 3
   },
   "file_extension": ".py",
   "mimetype": "text/x-python",
   "name": "python",
   "nbconvert_exporter": "python",
   "pygments_lexer": "ipython3",
   "version": "3.11.5"
  }
 },
 "nbformat": 4,
 "nbformat_minor": 2
}
