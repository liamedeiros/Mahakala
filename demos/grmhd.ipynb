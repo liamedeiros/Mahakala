{
 "cells": [
  {
   "cell_type": "code",
   "execution_count": 1,
   "metadata": {},
   "outputs": [],
   "source": [
    "%load_ext autoreload\n",
    "%autoreload 2"
   ]
  },
  {
   "cell_type": "code",
   "execution_count": 10,
   "metadata": {},
   "outputs": [],
   "source": [
    "import numpy as np\n",
    "import matplotlib.pyplot as plt\n",
    "\n",
    "import mahakala as ma\n",
    "\n",
    "from mahakala.grmhd.athenak import AthenakFluidModel\n",
    "from mahakala.electrons import rlow_rhigh_model\n",
    "from mahakala.transfer import synchrotron_emissivity"
   ]
  },
  {
   "cell_type": "code",
   "execution_count": 3,
   "metadata": {},
   "outputs": [
    {
     "name": "stderr",
     "output_type": "stream",
     "text": [
      "100%|██████████| 456/456 [00:00<00:00, 476.04it/s]\n"
     ]
    }
   ],
   "source": [
    "fname = '../data/torus.mhd_w_bcc.01500.athdf'\n",
    "bhspin = 0.9\n",
    "fluid_gamma = 13./9\n",
    "\n",
    "fluid_model = AthenakFluidModel(fname, bhspin)"
   ]
  },
  {
   "cell_type": "code",
   "execution_count": 4,
   "metadata": {},
   "outputs": [],
   "source": [
    "observing_frequency = 230.e9\n",
    "Mass_scale = 5e+24\n",
    "M_bh = 6.2e9 * 1.989e33\n",
    "r_high = 40\n",
    "\n",
    "inclination_in_degrees = 60\n",
    "distance_in_rg = 1000\n",
    "\n",
    "fov = 10\n",
    "number_pixels_across = 80\n",
    "\n",
    "s0 = ma.initialize_geodesics_at_camera(bhspin, inclination_in_degrees, distance_in_rg, -fov, fov, number_pixels_across)"
   ]
  },
  {
   "cell_type": "code",
   "execution_count": 5,
   "metadata": {},
   "outputs": [],
   "source": [
    "S, final_dt = ma.geodesic_integrator(10000, s0, 40, 1e-4, bhspin)"
   ]
  },
  {
   "cell_type": "code",
   "execution_count": 6,
   "metadata": {},
   "outputs": [
    {
     "name": "stderr",
     "output_type": "stream",
     "text": [
      "  0%|          | 0/456 [00:00<?, ?it/s]"
     ]
    },
    {
     "name": "stderr",
     "output_type": "stream",
     "text": [
      "100%|██████████| 456/456 [00:05<00:00, 84.98it/s]\n"
     ]
    }
   ],
   "source": [
    "fluid_scalars = fluid_model.get_fluid_scalars_from_geodesics(S)"
   ]
  },
  {
   "cell_type": "code",
   "execution_count": 7,
   "metadata": {},
   "outputs": [],
   "source": [
    "# compute supplementary quantities from fluid data and scales\n",
    "\n",
    "bsq = fluid_scalars['b'] * fluid_scalars['b']\n",
    "\n",
    "beta = fluid_scalars['u'] * (fluid_gamma - 1.) / bsq / 0.5\n",
    "beta.at[np.isnan(beta)].set(0.)\n",
    "\n",
    "sigma = bsq / fluid_scalars['dens']\n",
    "sigma.at[np.isnan(sigma)].set(0.)\n",
    "\n",
    "Theta_e = rlow_rhigh_model(fluid_scalars['dens'], fluid_scalars['u'], beta, r_high=r_high)\n",
    "\n",
    "local_nu = - fluid_scalars['kdotu'] * observing_frequency\n",
    "gamma_inv_data = local_nu / observing_frequency\n",
    "\n",
    "units = fluid_model.get_units(M_bh, Mass_scale)\n",
    "\n",
    "B_in_gauss = units['B_unit'] * fluid_scalars['b']\n",
    "Ne_in_cgs = units['Ne_unit'] * fluid_scalars['dens']"
   ]
  },
  {
   "cell_type": "code",
   "execution_count": 13,
   "metadata": {},
   "outputs": [
    {
     "ename": "ValueError",
     "evalue": "too many values to unpack (expected 2)",
     "output_type": "error",
     "traceback": [
      "\u001b[0;31m---------------------------------------------------------------------------\u001b[0m",
      "\u001b[0;31mValueError\u001b[0m                                Traceback (most recent call last)",
      "Cell \u001b[0;32mIn[13], line 5\u001b[0m\n\u001b[1;32m      2\u001b[0m B \u001b[38;5;241m=\u001b[39m fluid_scalars[\u001b[38;5;124m'\u001b[39m\u001b[38;5;124mb\u001b[39m\u001b[38;5;124m'\u001b[39m] \u001b[38;5;241m*\u001b[39m units[\u001b[38;5;124m'\u001b[39m\u001b[38;5;124mB_unit\u001b[39m\u001b[38;5;124m'\u001b[39m]\n\u001b[1;32m      3\u001b[0m pitch_angle \u001b[38;5;241m=\u001b[39m fluid_scalars[\u001b[38;5;124m'\u001b[39m\u001b[38;5;124mpitch_angle\u001b[39m\u001b[38;5;124m'\u001b[39m]\n\u001b[0;32m----> 5\u001b[0m emissivity_jax, absorptivity_jax \u001b[38;5;241m=\u001b[39m synchrotron_emissivity(Ne, Theta_e, B, pitch_angle, local_nu)\n",
      "\u001b[0;31mValueError\u001b[0m: too many values to unpack (expected 2)"
     ]
    }
   ],
   "source": [
    "Ne = fluid_scalars['dens'] * units['Ne_unit']\n",
    "B = fluid_scalars['b'] * units['B_unit']\n",
    "pitch_angle = fluid_scalars['pitch_angle']\n",
    "\n",
    "emissivity_jax, absorptivity_jax = synchrotron_emissivity(Ne, Theta_e, B, pitch_angle, local_nu)"
   ]
  },
  {
   "cell_type": "code",
   "execution_count": 12,
   "metadata": {},
   "outputs": [
    {
     "data": {
      "text/plain": [
       "<matplotlib.image.AxesImage at 0x7ff074479fd0>"
      ]
     },
     "execution_count": 12,
     "metadata": {},
     "output_type": "execute_result"
    },
    {
     "data": {
      "image/png": "[encoded data removed]",
      "text/plain": [
       "<Figure size 640x480 with 1 Axes>"
      ]
     },
     "metadata": {},
     "output_type": "display_data"
    }
   ],
   "source": [
    "plt.imshow(synemiss_data_jax.sum(axis=0).reshape((number_pixels_across, number_pixels_across)), origin='lower', cmap='inferno')"
   ]
  },
  {
   "cell_type": "code",
   "execution_count": null,
   "metadata": {},
   "outputs": [],
   "source": []
  },
  {
   "cell_type": "code",
   "execution_count": null,
   "metadata": {},
   "outputs": [],
   "source": []
  },
  {
   "cell_type": "code",
   "execution_count": null,
   "metadata": {},
   "outputs": [
    {
     "name": "stderr",
     "output_type": "stream",
     "text": [
      "  0%|          | 0/2121 [00:00<?, ?it/s]"
     ]
    },
    {
     "name": "stderr",
     "output_type": "stream",
     "text": [
      "100%|██████████| 2121/2121 [00:11<00:00, 184.18it/s]\n",
      "/home/george/sites/liamedeiros/Mahakala/mahakala/transfer.py:87: RuntimeWarning: invalid value encountered in power\n",
      "  var = np.exp(-np.power(X, 1./3.))\n",
      "/home/george/sites/liamedeiros/Mahakala/mahakala/transfer.py:88: RuntimeWarning: invalid value encountered in power\n",
      "  emissivity = Ne*nus*np.power(jnp.sqrt(X)+np.power(2., 11./12.)*np.power(X, 1./6.), 2.)/(special.kn(2,1./Theta_e))\n"
     ]
    },
    {
     "name": "stdout",
     "output_type": "stream",
     "text": [
      "2.0017640590667725\n"
     ]
    }
   ],
   "source": [
    "nsteps, npx, _ = S.shape\n",
    "\n",
    "from tqdm import tqdm\n",
    "\n",
    "synemiss_data = np.empty((nsteps, npx))\n",
    "for i in tqdm(range(nsteps)):\n",
    "    synemiss_data[i] = synchrotron_emissivity_raw(Ne_in_cgs[i], Theta_e[i], B_in_gauss[i], local_nu[i], fluid_scalars['pitch_angle'][i])\n",
    "synemiss_data[np.isnan(synemiss_data)] = 0.\n",
    "# I fully expect this is correct"
   ]
  },
  {
   "cell_type": "code",
   "execution_count": 11,
   "metadata": {},
   "outputs": [
    {
     "ename": "TracerArrayConversionError",
     "evalue": "The numpy.ndarray conversion method __array__() was called on traced array with shape float32[2121,6400]\nThe error occurred while tracing the function synchrotron_emissivity at /home/george/sites/liamedeiros/Mahakala/mahakala/transfer.py:71 for jit. This concrete value was not available in Python because it depends on the values of the arguments Ne, Theta_e, B, pitch_angle, and nu.\nSee https://jax.readthedocs.io/en/latest/errors.html#jax.errors.TracerArrayConversionError",
     "output_type": "error",
     "traceback": [
      "\u001b[0;31m---------------------------------------------------------------------------\u001b[0m",
      "\u001b[0;31mTracerArrayConversionError\u001b[0m                Traceback (most recent call last)",
      "Cell \u001b[0;32mIn[11], line 4\u001b[0m\n\u001b[1;32m      2\u001b[0m B \u001b[38;5;241m=\u001b[39m fluid_scalars[\u001b[38;5;124m'\u001b[39m\u001b[38;5;124mb\u001b[39m\u001b[38;5;124m'\u001b[39m] \u001b[38;5;241m*\u001b[39m units[\u001b[38;5;124m'\u001b[39m\u001b[38;5;124mB_unit\u001b[39m\u001b[38;5;124m'\u001b[39m]\n\u001b[1;32m      3\u001b[0m pitch_angle \u001b[38;5;241m=\u001b[39m fluid_scalars[\u001b[38;5;124m'\u001b[39m\u001b[38;5;124mpitch_angle\u001b[39m\u001b[38;5;124m'\u001b[39m]\n\u001b[0;32m----> 4\u001b[0m synemiss_data_new \u001b[38;5;241m=\u001b[39m synchrotron_emissivity(Ne, Theta_e, B, pitch_angle, local_nu)\n",
      "    \u001b[0;31m[... skipping hidden 11 frame]\u001b[0m\n",
      "File \u001b[0;32m~/sites/liamedeiros/Mahakala/mahakala/transfer.py:95\u001b[0m, in \u001b[0;36msynchrotron_emissivity\u001b[0;34m(Ne, Theta_e, B, pitch_angle, nu)\u001b[0m\n\u001b[1;32m     92\u001b[0m emissivity \u001b[38;5;241m=\u001b[39m Ne \u001b[38;5;241m*\u001b[39m nus \u001b[38;5;241m*\u001b[39m term\u001b[38;5;241m*\u001b[39m\u001b[38;5;241m*\u001b[39m\u001b[38;5;241m2\u001b[39m \u001b[38;5;241m/\u001b[39m (\u001b[38;5;241m2.\u001b[39m\u001b[38;5;241m*\u001b[39mTheta_e\u001b[38;5;241m*\u001b[39m\u001b[38;5;241m*\u001b[39m\u001b[38;5;241m2.\u001b[39m)  \u001b[38;5;66;03m# approximation for K2\u001b[39;00m\n\u001b[1;32m     93\u001b[0m emissivity \u001b[38;5;241m=\u001b[39m emissivity \u001b[38;5;241m*\u001b[39m var \u001b[38;5;241m*\u001b[39m jnp\u001b[38;5;241m.\u001b[39msqrt(\u001b[38;5;241m2\u001b[39m) \u001b[38;5;241m*\u001b[39m jnp\u001b[38;5;241m.\u001b[39mpi \u001b[38;5;241m*\u001b[39m EC\u001b[38;5;241m*\u001b[39m\u001b[38;5;241m*\u001b[39m\u001b[38;5;241m2\u001b[39m \u001b[38;5;241m/\u001b[39m (\u001b[38;5;241m3.0\u001b[39m \u001b[38;5;241m*\u001b[39m CL)\n\u001b[0;32m---> 95\u001b[0m emissivity \u001b[38;5;241m=\u001b[39m emissivity\u001b[38;5;241m.\u001b[39mat[np\u001b[38;5;241m.\u001b[39misnan(emissivity)]\u001b[38;5;241m.\u001b[39mset(\u001b[38;5;241m0\u001b[39m)\n\u001b[1;32m     97\u001b[0m \u001b[38;5;28;01mreturn\u001b[39;00m emissivity\n",
      "File \u001b[0;32m~/miniconda3/envs/gnwong/lib/python3.11/site-packages/jax/_src/core.py:714\u001b[0m, in \u001b[0;36mTracer.__array__\u001b[0;34m(self, *args, **kw)\u001b[0m\n\u001b[1;32m    713\u001b[0m \u001b[38;5;28;01mdef\u001b[39;00m \u001b[38;5;21m__array__\u001b[39m(\u001b[38;5;28mself\u001b[39m, \u001b[38;5;241m*\u001b[39margs, \u001b[38;5;241m*\u001b[39m\u001b[38;5;241m*\u001b[39mkw):\n\u001b[0;32m--> 714\u001b[0m   \u001b[38;5;28;01mraise\u001b[39;00m TracerArrayConversionError(\u001b[38;5;28mself\u001b[39m)\n",
      "\u001b[0;31mTracerArrayConversionError\u001b[0m: The numpy.ndarray conversion method __array__() was called on traced array with shape float32[2121,6400]\nThe error occurred while tracing the function synchrotron_emissivity at /home/george/sites/liamedeiros/Mahakala/mahakala/transfer.py:71 for jit. This concrete value was not available in Python because it depends on the values of the arguments Ne, Theta_e, B, pitch_angle, and nu.\nSee https://jax.readthedocs.io/en/latest/errors.html#jax.errors.TracerArrayConversionError"
     ]
    }
   ],
   "source": []
  },
  {
   "cell_type": "code",
   "execution_count": 12,
   "metadata": {},
   "outputs": [
    {
     "ename": "TracerArrayConversionError",
     "evalue": "The numpy.ndarray conversion method __array__() was called on traced array with shape float32[2121,6400]\nThe error occurred while tracing the function synchrotron_emissivity at /home/george/sites/liamedeiros/Mahakala/mahakala/transfer.py:71 for jit. This concrete value was not available in Python because it depends on the values of the arguments Ne, Theta_e, B, pitch_angle, and nu.\nSee https://jax.readthedocs.io/en/latest/errors.html#jax.errors.TracerArrayConversionError",
     "output_type": "error",
     "traceback": [
      "\u001b[0;31m---------------------------------------------------------------------------\u001b[0m",
      "\u001b[0;31mTracerArrayConversionError\u001b[0m                Traceback (most recent call last)",
      "Cell \u001b[0;32mIn[12], line 11\u001b[0m\n\u001b[1;32m      9\u001b[0m nits \u001b[38;5;241m=\u001b[39m \u001b[38;5;241m10\u001b[39m\n\u001b[1;32m     10\u001b[0m \u001b[38;5;28;01mfor\u001b[39;00m _ \u001b[38;5;129;01min\u001b[39;00m \u001b[38;5;28mrange\u001b[39m(nits):\n\u001b[0;32m---> 11\u001b[0m     synemiss_data_jax \u001b[38;5;241m=\u001b[39m synchrotron_emissivity(Ne, Theta_e, B, pitch_angle, local_nu)\n\u001b[1;32m     13\u001b[0m t1 \u001b[38;5;241m=\u001b[39m time\u001b[38;5;241m.\u001b[39mtime()\n\u001b[1;32m     15\u001b[0m \u001b[38;5;28mprint\u001b[39m( (t1\u001b[38;5;241m-\u001b[39mt0) \u001b[38;5;241m/\u001b[39m nits )\n",
      "    \u001b[0;31m[... skipping hidden 11 frame]\u001b[0m\n",
      "File \u001b[0;32m~/sites/liamedeiros/Mahakala/mahakala/transfer.py:95\u001b[0m, in \u001b[0;36msynchrotron_emissivity\u001b[0;34m(Ne, Theta_e, B, pitch_angle, nu)\u001b[0m\n\u001b[1;32m     92\u001b[0m emissivity \u001b[38;5;241m=\u001b[39m Ne \u001b[38;5;241m*\u001b[39m nus \u001b[38;5;241m*\u001b[39m term\u001b[38;5;241m*\u001b[39m\u001b[38;5;241m*\u001b[39m\u001b[38;5;241m2\u001b[39m \u001b[38;5;241m/\u001b[39m (\u001b[38;5;241m2.\u001b[39m\u001b[38;5;241m*\u001b[39mTheta_e\u001b[38;5;241m*\u001b[39m\u001b[38;5;241m*\u001b[39m\u001b[38;5;241m2.\u001b[39m)  \u001b[38;5;66;03m# approximation for K2\u001b[39;00m\n\u001b[1;32m     93\u001b[0m emissivity \u001b[38;5;241m=\u001b[39m emissivity \u001b[38;5;241m*\u001b[39m var \u001b[38;5;241m*\u001b[39m jnp\u001b[38;5;241m.\u001b[39msqrt(\u001b[38;5;241m2\u001b[39m) \u001b[38;5;241m*\u001b[39m jnp\u001b[38;5;241m.\u001b[39mpi \u001b[38;5;241m*\u001b[39m EC\u001b[38;5;241m*\u001b[39m\u001b[38;5;241m*\u001b[39m\u001b[38;5;241m2\u001b[39m \u001b[38;5;241m/\u001b[39m (\u001b[38;5;241m3.0\u001b[39m \u001b[38;5;241m*\u001b[39m CL)\n\u001b[0;32m---> 95\u001b[0m emissivity \u001b[38;5;241m=\u001b[39m emissivity\u001b[38;5;241m.\u001b[39mat[np\u001b[38;5;241m.\u001b[39misnan(emissivity)]\u001b[38;5;241m.\u001b[39mset(\u001b[38;5;241m0\u001b[39m)\n\u001b[1;32m     97\u001b[0m \u001b[38;5;28;01mreturn\u001b[39;00m emissivity\n",
      "File \u001b[0;32m~/miniconda3/envs/gnwong/lib/python3.11/site-packages/jax/_src/core.py:714\u001b[0m, in \u001b[0;36mTracer.__array__\u001b[0;34m(self, *args, **kw)\u001b[0m\n\u001b[1;32m    713\u001b[0m \u001b[38;5;28;01mdef\u001b[39;00m \u001b[38;5;21m__array__\u001b[39m(\u001b[38;5;28mself\u001b[39m, \u001b[38;5;241m*\u001b[39margs, \u001b[38;5;241m*\u001b[39m\u001b[38;5;241m*\u001b[39mkw):\n\u001b[0;32m--> 714\u001b[0m   \u001b[38;5;28;01mraise\u001b[39;00m TracerArrayConversionError(\u001b[38;5;28mself\u001b[39m)\n",
      "\u001b[0;31mTracerArrayConversionError\u001b[0m: The numpy.ndarray conversion method __array__() was called on traced array with shape float32[2121,6400]\nThe error occurred while tracing the function synchrotron_emissivity at /home/george/sites/liamedeiros/Mahakala/mahakala/transfer.py:71 for jit. This concrete value was not available in Python because it depends on the values of the arguments Ne, Theta_e, B, pitch_angle, and nu.\nSee https://jax.readthedocs.io/en/latest/errors.html#jax.errors.TracerArrayConversionError"
     ]
    }
   ],
   "source": [
    "Ne = fluid_scalars['dens'] * units['Ne_unit']\n",
    "B = fluid_scalars['b'] * units['B_unit']\n",
    "pitch_angle = fluid_scalars['pitch_angle']\n",
    "\n",
    "import time\n",
    "\n",
    "t0 = time.time()\n",
    "\n",
    "nits = 10\n",
    "for _ in range(nits):\n",
    "    synemiss_data_jax = synchrotron_emissivity(Ne, Theta_e, B, pitch_angle, local_nu)\n",
    "\n",
    "t1 = time.time()\n",
    "\n",
    "print( (t1-t0) / nits )"
   ]
  },
  {
   "cell_type": "code",
   "execution_count": 58,
   "metadata": {},
   "outputs": [
    {
     "data": {
      "text/plain": [
       "[1.142668551998213,\n",
       " 1.074540164991049,\n",
       " 1.0141764720028732,\n",
       " 1.023303964000661,\n",
       " 1.0714832859812304]"
      ]
     },
     "execution_count": 58,
     "metadata": {},
     "output_type": "execute_result"
    }
   ],
   "source": []
  },
  {
   "cell_type": "code",
   "execution_count": 26,
   "metadata": {},
   "outputs": [
    {
     "data": {
      "text/plain": [
       "(1e-28, 1e-22)"
      ]
     },
     "execution_count": 26,
     "metadata": {},
     "output_type": "execute_result"
    },
    {
     "data": {
      "image/png": "[encoded data removed]",
      "text/plain": [
       "<Figure size 640x480 with 1 Axes>"
      ]
     },
     "metadata": {},
     "output_type": "display_data"
    }
   ],
   "source": [
    "pidx = 391\n",
    "\n",
    "plt.plot(synemiss_data_jax[:, pidx], '.')\n",
    "\n",
    "plt.yscale('log')\n",
    "\n",
    "plt.xlim(0, 300)\n",
    "plt.ylim(1.e-28, 1.e-22)"
   ]
  },
  {
   "cell_type": "code",
   "execution_count": 53,
   "metadata": {},
   "outputs": [
    {
     "data": {
      "text/plain": [
       "(1e-28, 1e-22)"
      ]
     },
     "execution_count": 53,
     "metadata": {},
     "output_type": "execute_result"
    },
    {
     "data": {
      "image/png": "[encoded data removed]",
      "text/plain": [
       "<Figure size 640x480 with 1 Axes>"
      ]
     },
     "metadata": {},
     "output_type": "display_data"
    }
   ],
   "source": [
    "pidx = 391\n",
    "\n",
    "plt.plot(synemiss_data[:, pidx])\n",
    "plt.plot(synemiss_data_new[:, pidx], '--')\n",
    "plt.plot(synemiss_data_jax[:, pidx], '.')\n",
    "\n",
    "plt.yscale('log')\n",
    "\n",
    "plt.xlim(0, 300)\n",
    "plt.ylim(1.e-28, 1.e-22)"
   ]
  },
  {
   "cell_type": "code",
   "execution_count": null,
   "metadata": {},
   "outputs": [],
   "source": []
  },
  {
   "cell_type": "code",
   "execution_count": null,
   "metadata": {},
   "outputs": [],
   "source": []
  },
  {
   "cell_type": "code",
   "execution_count": null,
   "metadata": {},
   "outputs": [],
   "source": []
  },
  {
   "cell_type": "code",
   "execution_count": 35,
   "metadata": {},
   "outputs": [
    {
     "data": {
      "image/png": "[encoded data removed]",
      "text/plain": [
       "<Figure size 640x480 with 1 Axes>"
      ]
     },
     "metadata": {},
     "output_type": "display_data"
    }
   ],
   "source": [
    "pidx = 183\n",
    "\n",
    "plt.plot(synemiss_data_jax[:, pidx])\n",
    "plt.plot(synemiss_data[:, pidx])\n",
    "plt.plot(synemiss_data_new[:, pidx])\n",
    "\n",
    "plt.yscale('log')"
   ]
  },
  {
   "cell_type": "code",
   "execution_count": null,
   "metadata": {},
   "outputs": [],
   "source": []
  },
  {
   "cell_type": "code",
   "execution_count": null,
   "metadata": {},
   "outputs": [],
   "source": []
  },
  {
   "cell_type": "code",
   "execution_count": null,
   "metadata": {},
   "outputs": [],
   "source": []
  },
  {
   "cell_type": "code",
   "execution_count": 29,
   "metadata": {},
   "outputs": [
    {
     "name": "stderr",
     "output_type": "stream",
     "text": [
      "/home/george/sites/liamedeiros/Mahakala/mahakala/transfer.py:87: RuntimeWarning: invalid value encountered in power\n",
      "  var = np.exp(-np.power(X, 1./3.))\n",
      "/home/george/sites/liamedeiros/Mahakala/mahakala/transfer.py:88: RuntimeWarning: invalid value encountered in power\n",
      "  emissivity = Ne*nus*np.power(jnp.sqrt(X)+np.power(2., 11./12.)*np.power(X, 1./6.), 2.)/(special.kn(2,1./Theta_e))\n"
     ]
    },
    {
     "name": "stdout",
     "output_type": "stream",
     "text": [
      "2.34358811378479\n"
     ]
    }
   ],
   "source": [
    "Ne = fluid_scalars['dens'] * units['Ne_unit']\n",
    "B = fluid_scalars['b'] * units['B_unit']\n",
    "pitch_angle = fluid_scalars['pitch_angle']\n",
    "\n",
    "synemiss_data_new = synchrotron_emissivity(Ne, Theta_e, B, pitch_angle, local_nu)"
   ]
  },
  {
   "cell_type": "code",
   "execution_count": 479,
   "metadata": {},
   "outputs": [
    {
     "name": "stdout",
     "output_type": "stream",
     "text": [
      "Unexpected exception formatting exception. Falling back to standard exception\n"
     ]
    },
    {
     "name": "stderr",
     "output_type": "stream",
     "text": [
      "Traceback (most recent call last):\n",
      "  File \"/home/george/miniconda3/envs/gnwong/lib/python3.11/site-packages/IPython/core/interactiveshell.py\", line 3526, in run_code\n",
      "    exec(code_obj, self.user_global_ns, self.user_ns)\n",
      "  File \"/tmp/ipykernel_173961/3281164780.py\", line 5, in <module>\n",
      "    synemiss_data_jax = synchrotron_emissivity_jax(Ne, Theta_e, B, pitch_angle, local_nu)\n",
      "                        ^^^^^^^^^^^^^^^^^^^^^^^^^^^^^^^^^^^^^^^^^^^^^^^^^^^^^^^^^^^^^^^^^\n",
      "  File \"/home/george/miniconda3/envs/gnwong/lib/python3.11/site-packages/jax/_src/traceback_util.py\", line 180, in reraise_with_filtered_traceback\n",
      "    return fun(*args, **kwargs)\n",
      "           ^^^^^^^^^^^^^^^^^^^^\n",
      "  File \"/home/george/miniconda3/envs/gnwong/lib/python3.11/site-packages/jax/_src/pjit.py\", line 356, in cache_miss\n",
      "    outs, out_flat, out_tree, args_flat, jaxpr, attrs_tracked = _python_pjit_helper(\n",
      "                                                                ^^^^^^^^^^^^^^^^^^^^\n",
      "  File \"/home/george/miniconda3/envs/gnwong/lib/python3.11/site-packages/jax/_src/pjit.py\", line 179, in _python_pjit_helper\n",
      "    p, args_flat = _infer_params(fun, jit_info, args, kwargs)\n",
      "                   ^^^^^^^^^^^^^^^^^^^^^^^^^^^^^^^^^^^^^^^^^^\n",
      "  File \"/home/george/miniconda3/envs/gnwong/lib/python3.11/site-packages/jax/_src/pjit.py\", line 773, in _infer_params\n",
      "    p, args_flat = _infer_params_impl(\n",
      "                   ^^^^^^^^^^^^^^^^^^^\n",
      "  File \"/home/george/miniconda3/envs/gnwong/lib/python3.11/site-packages/jax/_src/pjit.py\", line 670, in _infer_params_impl\n",
      "    jaxpr, consts, out_avals, attrs_tracked = _create_pjit_jaxpr(\n",
      "                                              ^^^^^^^^^^^^^^^^^^^\n",
      "  File \"/home/george/miniconda3/envs/gnwong/lib/python3.11/site-packages/jax/_src/linear_util.py\", line 352, in memoized_fun\n",
      "    ans = call(fun, *args)\n",
      "          ^^^^^^^^^^^^^^^^\n",
      "  File \"/home/george/miniconda3/envs/gnwong/lib/python3.11/site-packages/jax/_src/pjit.py\", line 1314, in _create_pjit_jaxpr\n",
      "    jaxpr, global_out_avals, consts, attrs_tracked = pe.trace_to_jaxpr_dynamic(\n",
      "                                                     ^^^^^^^^^^^^^^^^^^^^^^^^^^\n",
      "  File \"/home/george/miniconda3/envs/gnwong/lib/python3.11/site-packages/jax/_src/profiler.py\", line 333, in wrapper\n",
      "    return func(*args, **kwargs)\n",
      "           ^^^^^^^^^^^^^^^^^^^^^\n",
      "  File \"/home/george/miniconda3/envs/gnwong/lib/python3.11/site-packages/jax/_src/interpreters/partial_eval.py\", line 2278, in trace_to_jaxpr_dynamic\n",
      "    jaxpr, out_avals, consts, attrs_tracked = trace_to_subjaxpr_dynamic(\n",
      "                                              ^^^^^^^^^^^^^^^^^^^^^^^^^^\n",
      "  File \"/home/george/miniconda3/envs/gnwong/lib/python3.11/site-packages/jax/_src/interpreters/partial_eval.py\", line 2301, in trace_to_subjaxpr_dynamic\n",
      "    ans = fun.call_wrapped(*in_tracers_)\n",
      "          ^^^^^^^^^^^^^^^^^^^^^^^^^^^^^^\n",
      "  File \"/home/george/miniconda3/envs/gnwong/lib/python3.11/site-packages/jax/_src/linear_util.py\", line 193, in call_wrapped\n",
      "    ans = self.f(*args, **dict(self.params, **kwargs))\n",
      "          ^^^^^^^^^^^^^^^^^^^^^^^^^^^^^^^^^^^^^^^^^^^^\n",
      "  File \"/home/george/sites/liamedeiros/Mahakala/mahakala/transfer.py\", line 114, in synchrotron_emissivity_jax\n",
      "    emissivity = jnp.where(jnp.isnan(emissivity), 0.0, emissivity)\n",
      "                                      ^^^\n",
      "NameError: name 'jsc' is not defined\n",
      "\n",
      "During handling of the above exception, another exception occurred:\n",
      "\n",
      "Traceback (most recent call last):\n",
      "  File \"/home/george/miniconda3/envs/gnwong/lib/python3.11/site-packages/IPython/core/interactiveshell.py\", line 2120, in showtraceback\n",
      "    stb = self.InteractiveTB.structured_traceback(\n",
      "          ^^^^^^^^^^^^^^^^^^^^^^^^^^^^^^^^^^^^^^^^\n",
      "  File \"/home/george/miniconda3/envs/gnwong/lib/python3.11/site-packages/IPython/core/ultratb.py\", line 1435, in structured_traceback\n",
      "    return FormattedTB.structured_traceback(\n",
      "           ^^^^^^^^^^^^^^^^^^^^^^^^^^^^^^^^^\n",
      "  File \"/home/george/miniconda3/envs/gnwong/lib/python3.11/site-packages/IPython/core/ultratb.py\", line 1326, in structured_traceback\n",
      "    return VerboseTB.structured_traceback(\n",
      "           ^^^^^^^^^^^^^^^^^^^^^^^^^^^^^^^\n",
      "  File \"/home/george/miniconda3/envs/gnwong/lib/python3.11/site-packages/IPython/core/ultratb.py\", line 1173, in structured_traceback\n",
      "    formatted_exception = self.format_exception_as_a_whole(etype, evalue, etb, number_of_lines_of_context,\n",
      "                          ^^^^^^^^^^^^^^^^^^^^^^^^^^^^^^^^^^^^^^^^^^^^^^^^^^^^^^^^^^^^^^^^^^^^^^^^^^^^^^^^\n",
      "  File \"/home/george/miniconda3/envs/gnwong/lib/python3.11/site-packages/IPython/core/ultratb.py\", line 1088, in format_exception_as_a_whole\n",
      "    frames.append(self.format_record(record))\n",
      "                  ^^^^^^^^^^^^^^^^^^^^^^^^^^\n",
      "  File \"/home/george/miniconda3/envs/gnwong/lib/python3.11/site-packages/IPython/core/ultratb.py\", line 970, in format_record\n",
      "    frame_info.lines, Colors, self.has_colors, lvals\n",
      "    ^^^^^^^^^^^^^^^^\n",
      "  File \"/home/george/miniconda3/envs/gnwong/lib/python3.11/site-packages/IPython/core/ultratb.py\", line 792, in lines\n",
      "    return self._sd.lines\n",
      "           ^^^^^^^^^^^^^^\n",
      "  File \"/home/george/miniconda3/envs/gnwong/lib/python3.11/site-packages/stack_data/utils.py\", line 145, in cached_property_wrapper\n",
      "    value = obj.__dict__[self.func.__name__] = self.func(obj)\n",
      "                                               ^^^^^^^^^^^^^^\n",
      "  File \"/home/george/miniconda3/envs/gnwong/lib/python3.11/site-packages/stack_data/core.py\", line 698, in lines\n",
      "    pieces = self.included_pieces\n",
      "             ^^^^^^^^^^^^^^^^^^^^\n",
      "  File \"/home/george/miniconda3/envs/gnwong/lib/python3.11/site-packages/stack_data/utils.py\", line 145, in cached_property_wrapper\n",
      "    value = obj.__dict__[self.func.__name__] = self.func(obj)\n",
      "                                               ^^^^^^^^^^^^^^\n",
      "  File \"/home/george/miniconda3/envs/gnwong/lib/python3.11/site-packages/stack_data/core.py\", line 649, in included_pieces\n",
      "    pos = scope_pieces.index(self.executing_piece)\n",
      "                             ^^^^^^^^^^^^^^^^^^^^\n",
      "  File \"/home/george/miniconda3/envs/gnwong/lib/python3.11/site-packages/stack_data/utils.py\", line 145, in cached_property_wrapper\n",
      "    value = obj.__dict__[self.func.__name__] = self.func(obj)\n",
      "                                               ^^^^^^^^^^^^^^\n",
      "  File \"/home/george/miniconda3/envs/gnwong/lib/python3.11/site-packages/stack_data/core.py\", line 628, in executing_piece\n",
      "    return only(\n",
      "           ^^^^^\n",
      "  File \"/home/george/miniconda3/envs/gnwong/lib/python3.11/site-packages/executing/executing.py\", line 164, in only\n",
      "    raise NotOneValueFound('Expected one value, found 0')\n",
      "executing.executing.NotOneValueFound: Expected one value, found 0\n"
     ]
    }
   ],
   "source": [
    "Ne = fluid_scalars['dens'] * units['Ne_unit']\n",
    "B = fluid_scalars['b'] * units['B_unit']\n",
    "pitch_angle = fluid_scalars['pitch_angle']\n",
    "\n",
    "synemiss_data_jax = synchrotron_emissivity_jax(Ne, Theta_e, B, pitch_angle, local_nu)"
   ]
  },
  {
   "cell_type": "code",
   "execution_count": 454,
   "metadata": {},
   "outputs": [
    {
     "data": {
      "text/plain": [
       "True"
      ]
     },
     "execution_count": 454,
     "metadata": {},
     "output_type": "execute_result"
    }
   ],
   "source": []
  },
  {
   "cell_type": "code",
   "execution_count": 429,
   "metadata": {},
   "outputs": [
    {
     "data": {
      "text/plain": [
       "((2121, 6400), (2121, 6400))"
      ]
     },
     "execution_count": 429,
     "metadata": {},
     "output_type": "execute_result"
    }
   ],
   "source": [
    "synemiss_data.shape, synemiss_data_old.shape"
   ]
  },
  {
   "cell_type": "code",
   "execution_count": 441,
   "metadata": {},
   "outputs": [
    {
     "data": {
      "text/plain": [
       "True"
      ]
     },
     "execution_count": 441,
     "metadata": {},
     "output_type": "execute_result"
    }
   ],
   "source": [
    "np.allclose(synemiss_data, synemiss_data_old)"
   ]
  },
  {
   "cell_type": "code",
   "execution_count": 446,
   "metadata": {},
   "outputs": [
    {
     "data": {
      "text/plain": [
       "False"
      ]
     },
     "execution_count": 446,
     "metadata": {},
     "output_type": "execute_result"
    }
   ],
   "source": [
    "np.allclose(synemiss_data, synemiss_data_new2)"
   ]
  },
  {
   "cell_type": "code",
   "execution_count": 397,
   "metadata": {},
   "outputs": [
    {
     "data": {
      "text/plain": [
       "<matplotlib.image.AxesImage at 0x7f791ac345d0>"
      ]
     },
     "execution_count": 397,
     "metadata": {},
     "output_type": "execute_result"
    },
    {
     "data": {
      "image/png": "[encoded data removed]",
      "text/plain": [
       "<Figure size 640x480 with 1 Axes>"
      ]
     },
     "metadata": {},
     "output_type": "display_data"
    }
   ],
   "source": [
    "plt.imshow(synemiss_data.sum(axis=0).reshape((80, 80)))"
   ]
  },
  {
   "cell_type": "code",
   "execution_count": null,
   "metadata": {},
   "outputs": [],
   "source": []
  },
  {
   "cell_type": "code",
   "execution_count": null,
   "metadata": {},
   "outputs": [],
   "source": [
    "\n",
    "absorption_data = np.zeros((nsteps, npx))\n",
    "for i in tqdm(range(nsteps)):\n",
    "    absorption_data[i] = mahakala.transfer.absorption_coefficient(t_electron[i,:], synemiss_data[i,:], local_nu[i,:], beta_data[i,:])\n",
    "index = np.where(np.isnan(absorption_data) == True)\n",
    "absorption_data[index[0], index[1]] = 0.0\n",
    "del index"
   ]
  },
  {
   "cell_type": "code",
   "execution_count": 465,
   "metadata": {},
   "outputs": [
    {
     "data": {
      "text/plain": [
       "array([ 1.        ,  1.04811313,  1.09854114,  1.1513954 ,  1.20679264,\n",
       "        1.26485522,  1.32571137,  1.38949549,  1.45634848,  1.52641797,\n",
       "        1.59985872,  1.67683294,  1.75751062,  1.84206997,  1.93069773,\n",
       "        2.02358965,  2.12095089,  2.22299648,  2.32995181,  2.44205309,\n",
       "        2.55954792,  2.6826958 ,  2.8117687 ,  2.9470517 ,  3.0888436 ,\n",
       "        3.23745754,  3.39322177,  3.55648031,  3.72759372,  3.90693994,\n",
       "        4.09491506,  4.29193426,  4.49843267,  4.71486636,  4.94171336,\n",
       "        5.17947468,  5.42867544,  5.68986603,  5.96362332,  6.25055193,\n",
       "        6.55128557,  6.86648845,  7.19685673,  7.54312006,  7.90604321,\n",
       "        8.28642773,  8.68511374,  9.10298178,  9.54095476, 10.        ])"
      ]
     },
     "execution_count": 465,
     "metadata": {},
     "output_type": "execute_result"
    }
   ],
   "source": []
  },
  {
   "cell_type": "code",
   "execution_count": 473,
   "metadata": {},
   "outputs": [
    {
     "name": "stdout",
     "output_type": "stream",
     "text": [
      "Help on PjitFunction in module jax._src.scipy.special:\n",
      "\n",
      "bessel_jn(z: 'ArrayLike', *, v: 'int', n_iter: 'int' = 50) -> 'Array'\n",
      "    Bessel function of the first kind of integer order and real argument.\n",
      "    \n",
      "    Reference:\n",
      "    Shanjie Zhang and Jian-Ming Jin. Computation of special functions.\n",
      "    Wiley-Interscience, 1996.\n",
      "    \n",
      "    Args:\n",
      "      z: The sampling point(s) at which the Bessel function of the first kind are\n",
      "        computed.\n",
      "      v: The order (int) of the Bessel function.\n",
      "      n_iter: The number of iterations required for updating the function\n",
      "        values. As a rule of thumb, `n_iter` is the smallest nonnegative integer\n",
      "        that satisfies the condition\n",
      "        `int(0.5 * log10(6.28 + n_iter) - n_iter *  log10(1.36 + abs(z) / n_iter)) > 20`.\n",
      "        Details in `BJNDD` (https://people.sc.fsu.edu/~jburkardt/f77_src/special_functions/special_functions.f)\n",
      "    \n",
      "    Returns:\n",
      "      An array of shape `(v+1, *z.shape)` containing the values of the Bessel\n",
      "      function of orders 0, 1, ..., v. The return type matches the type of `z`.\n",
      "    \n",
      "    Raises:\n",
      "      TypeError if `v` is not integer.\n",
      "      ValueError if elements of array `z` are not float.\n",
      "\n"
     ]
    }
   ],
   "source": [
    "help(bessel_jn)"
   ]
  },
  {
   "cell_type": "code",
   "execution_count": null,
   "metadata": {},
   "outputs": [],
   "source": []
  },
  {
   "cell_type": "code",
   "execution_count": null,
   "metadata": {},
   "outputs": [],
   "source": []
  },
  {
   "cell_type": "code",
   "execution_count": null,
   "metadata": {},
   "outputs": [],
   "source": []
  },
  {
   "cell_type": "code",
   "execution_count": 383,
   "metadata": {},
   "outputs": [
    {
     "data": {
      "image/png": "[encoded data removed]",
      "text/plain": [
       "<Figure size 640x480 with 1 Axes>"
      ]
     },
     "metadata": {},
     "output_type": "display_data"
    }
   ],
   "source": [
    "pidx = 174\n",
    "\n",
    "plt.plot(ne_data[:, pidx], '.')\n",
    "plt.plot(Ne_in_cgs[:, pidx], '.')\n",
    "\n",
    "#plt.plot(B_in_gauss[:, pidx])\n",
    "#plt.plot(bfield[:, pidx])\n",
    "\n",
    "#plt.plot(beta[:, pidx])\n",
    "#plt.plot(beta_data[:, pidx])\n",
    "\n",
    "plt.yscale('log')\n",
    "#plt.ylim(1.e2, 3)"
   ]
  },
  {
   "cell_type": "code",
   "execution_count": null,
   "metadata": {},
   "outputs": [],
   "source": []
  },
  {
   "cell_type": "code",
   "execution_count": null,
   "metadata": {},
   "outputs": [],
   "source": []
  },
  {
   "cell_type": "code",
   "execution_count": null,
   "metadata": {},
   "outputs": [],
   "source": []
  },
  {
   "cell_type": "code",
   "execution_count": null,
   "metadata": {},
   "outputs": [],
   "source": []
  },
  {
   "cell_type": "code",
   "execution_count": 325,
   "metadata": {},
   "outputs": [
    {
     "name": "stderr",
     "output_type": "stream",
     "text": [
      "100%|██████████| 456/456 [00:05<00:00, 89.85it/s]\n"
     ]
    },
    {
     "name": "stdout",
     "output_type": "stream",
     "text": [
      "Time to compute meshblock indices: 5.092602968215942\n",
      "Time to compute primitives: 0.5080239772796631\n"
     ]
    }
   ],
   "source": [
    "prim_data = fluid_model.get_prims_from_geodesics(S, profile=True)"
   ]
  },
  {
   "cell_type": "code",
   "execution_count": 342,
   "metadata": {},
   "outputs": [
    {
     "ename": "AttributeError",
     "evalue": "'AthenakFluidModel' object has no attribute 'compute_tensorial'",
     "output_type": "error",
     "traceback": [
      "\u001b[0;31m---------------------------------------------------------------------------\u001b[0m",
      "\u001b[0;31mAttributeError\u001b[0m                            Traceback (most recent call last)",
      "Cell \u001b[0;32mIn[342], line 1\u001b[0m\n\u001b[0;32m----> 1\u001b[0m tensorial_data \u001b[38;5;241m=\u001b[39m fluid_model\u001b[38;5;241m.\u001b[39mcompute_tensorial(S, prim_data)\n",
      "\u001b[0;31mAttributeError\u001b[0m: 'AthenakFluidModel' object has no attribute 'compute_tensorial'"
     ]
    }
   ],
   "source": [
    "tensorial_data = fluid_model.compute_tensorial(S, prim_data)"
   ]
  },
  {
   "cell_type": "code",
   "execution_count": 326,
   "metadata": {},
   "outputs": [
    {
     "name": "stderr",
     "output_type": "stream",
     "text": [
      "  0%|          | 0/456 [00:00<?, ?it/s]"
     ]
    },
    {
     "name": "stderr",
     "output_type": "stream",
     "text": [
      "100%|██████████| 456/456 [00:05<00:00, 85.63it/s]\n"
     ]
    },
    {
     "name": "stdout",
     "output_type": "stream",
     "text": [
      "Time to compute meshblock indices: 5.343536853790283\n",
      "Time to compute scalar data: 0.7264771461486816\n"
     ]
    }
   ],
   "source": [
    "fluid_scalars = fluid_model.get_fluid_scalars_from_geodesics(S, profile=True)\n",
    "\n",
    "# [prims[:, irho], prims[:, iu], pitch_angle, kdotu, kdotb, bdotb]\n",
    "# checked: kdotu, kdotb, bdotb"
   ]
  },
  {
   "cell_type": "code",
   "execution_count": 200,
   "metadata": {},
   "outputs": [
    {
     "data": {
      "text/plain": [
       "dict_keys(['dens', 'u', 'pitch_angle', 'kdotu', 'b'])"
      ]
     },
     "execution_count": 200,
     "metadata": {},
     "output_type": "execute_result"
    }
   ],
   "source": [
    "fluid_scalars.keys()"
   ]
  },
  {
   "cell_type": "code",
   "execution_count": null,
   "metadata": {},
   "outputs": [],
   "source": []
  },
  {
   "cell_type": "code",
   "execution_count": 201,
   "metadata": {},
   "outputs": [
    {
     "data": {
      "text/plain": [
       "dict_keys(['ucon', 'bcon', 'pitch_angle', 'udotu', 'kdotu', 'kdotb', 'bdotb', 'UuUu', 'final_M'])"
      ]
     },
     "execution_count": 201,
     "metadata": {},
     "output_type": "execute_result"
    }
   ],
   "source": [
    "tensorial_data.keys()"
   ]
  },
  {
   "cell_type": "code",
   "execution_count": 205,
   "metadata": {},
   "outputs": [
    {
     "data": {
      "text/plain": [
       "((1588, 1600), (1588, 1600))"
      ]
     },
     "execution_count": 205,
     "metadata": {},
     "output_type": "execute_result"
    }
   ],
   "source": [
    "tensorial_data['pitch_angle'].shape, fluid_scalars['pitch_angle'].shape"
   ]
  },
  {
   "cell_type": "code",
   "execution_count": 265,
   "metadata": {},
   "outputs": [
    {
     "name": "stdout",
     "output_type": "stream",
     "text": [
      "70 False True True\n"
     ]
    }
   ],
   "source": [
    "for step in range(1588):\n",
    "    diff_pa = np.allclose(tensorial_data['pitch_angle'][step], fluid_scalars['pitch_angle'][step])\n",
    "    diff_kdotu = np.allclose(tensorial_data['kdotu'][step], fluid_scalars['kdotu'][step])\n",
    "    diff_b = np.allclose(np.sqrt(tensorial_data['bdotb'][step]), fluid_scalars['b'][step])\n",
    "\n",
    "    if not diff_pa or not diff_kdotu or not diff_b:\n",
    "        print(step, diff_pa, diff_kdotu, diff_b)\n",
    "        \n",
    "        break"
   ]
  },
  {
   "cell_type": "code",
   "execution_count": 274,
   "metadata": {},
   "outputs": [
    {
     "data": {
      "text/plain": [
       "[<matplotlib.lines.Line2D at 0x7f741f0f0e10>]"
      ]
     },
     "execution_count": 274,
     "metadata": {},
     "output_type": "execute_result"
    },
    {
     "data": {
      "image/png": "[encoded data removed]",
      "text/plain": [
       "<Figure size 640x480 with 1 Axes>"
      ]
     },
     "metadata": {},
     "output_type": "display_data"
    }
   ],
   "source": [
    "diffs = []\n",
    "for step in range(tensorial_data['bdotb'].shape[0]):\n",
    "    diffs.append(np.max(np.abs(tensorial_data['kdotu'][step] - fluid_scalars['kdotu'][step])))\n",
    "    #diffs.append(np.max(np.abs(tensorial_data['pitch_angle'][step] - fluid_scalars['pitch_angle'][step])))\n",
    "    #diffs.append(np.max(np.abs(np.sqrt(tensorial_data['bdotb'][step]) - fluid_scalars['b'][step])))\n",
    "plt.plot(diffs)"
   ]
  },
  {
   "cell_type": "code",
   "execution_count": 288,
   "metadata": {},
   "outputs": [
    {
     "data": {
      "text/plain": [
       "(0.0, 2.0)"
      ]
     },
     "execution_count": 288,
     "metadata": {},
     "output_type": "execute_result"
    },
    {
     "data": {
      "image/png": "[encoded data removed]",
      "text/plain": [
       "<Figure size 640x480 with 2 Axes>"
      ]
     },
     "metadata": {},
     "output_type": "display_data"
    }
   ],
   "source": [
    "ax1 = plt.subplot(2, 1, 1)\n",
    "ax2 = plt.subplot(2, 1, 2)\n",
    "\n",
    "ax1.plot(tensorial_data['kdotu'][:, 1024])\n",
    "ax1.plot(fluid_scalars['kdotu'][:, 1024])\n",
    "\n",
    "ax1.set_ylim(-20000, 0)\n",
    "\n",
    "#ax2.plot(S[:, 1024, 0])\n",
    "\n",
    "ax2.plot(fluid_scalars['dens'][:, 1024])\n",
    "\n",
    "ax2.plot(S[:, 1024, 1])\n",
    "ax2.set_ylim(0, 2)\n"
   ]
  },
  {
   "cell_type": "code",
   "execution_count": 280,
   "metadata": {},
   "outputs": [
    {
     "data": {
      "text/plain": [
       "(1020.0, 1040.0)"
      ]
     },
     "execution_count": 280,
     "metadata": {},
     "output_type": "execute_result"
    },
    {
     "data": {
      "image/png": "[encoded data removed]",
      "text/plain": [
       "<Figure size 640x480 with 1 Axes>"
      ]
     },
     "metadata": {},
     "output_type": "display_data"
    }
   ],
   "source": [
    "step = 600\n",
    "plt.plot(tensorial_data['kdotu'][step] - fluid_scalars['kdotu'][step])\n",
    "plt.xlim(1020, 1040)\n",
    "\n",
    "#tensorial_data['pitch_angle'][step] - fluid_scalars['pitch_angle'][step].shape\n",
    "\n",
    "#fluid_scalars['pitch_angle'][step][1058]"
   ]
  },
  {
   "cell_type": "code",
   "execution_count": 262,
   "metadata": {},
   "outputs": [
    {
     "data": {
      "text/plain": [
       "(0.0, Array(0.00034527, dtype=float32))"
      ]
     },
     "execution_count": 262,
     "metadata": {},
     "output_type": "execute_result"
    }
   ],
   "source": [
    "npx = 1058\n",
    "tensorial_data['pitch_angle'][step][npx], fluid_scalars['pitch_angle'][step][npx]"
   ]
  },
  {
   "cell_type": "code",
   "execution_count": null,
   "metadata": {},
   "outputs": [],
   "source": []
  },
  {
   "cell_type": "code",
   "execution_count": null,
   "metadata": {},
   "outputs": [],
   "source": []
  },
  {
   "cell_type": "code",
   "execution_count": 231,
   "metadata": {},
   "outputs": [
    {
     "name": "stdout",
     "output_type": "stream",
     "text": [
      "False\n",
      "False\n"
     ]
    }
   ],
   "source": [
    "\n",
    "ipx = 400\n",
    "\n",
    "for key in ['pitch_angle', 'kdotu']:\n",
    "    print(np.allclose(tensorial_data[key][:ipx], fluid_scalars[key][:ipx], atol=1e-5))"
   ]
  },
  {
   "cell_type": "code",
   "execution_count": 226,
   "metadata": {},
   "outputs": [],
   "source": [
    "for i in range(1600):\n",
    "    if not np.allclose(tensorial_data['pitch_angle'][70][i], fluid_scalars['pitch_angle'][70][i], atol=1e-4):\n",
    "        print(i, tensorial_data['pitch_angle'][70][i], fluid_scalars['pitch_angle'][70][i])"
   ]
  },
  {
   "cell_type": "code",
   "execution_count": null,
   "metadata": {},
   "outputs": [],
   "source": []
  },
  {
   "cell_type": "code",
   "execution_count": 174,
   "metadata": {},
   "outputs": [
    {
     "data": {
      "text/plain": [
       "Array(-0.8300037, dtype=float32)"
      ]
     },
     "execution_count": 174,
     "metadata": {},
     "output_type": "execute_result"
    }
   ],
   "source": [
    "fluid_scalars[:, :, 2][10, 254]"
   ]
  },
  {
   "cell_type": "code",
   "execution_count": 173,
   "metadata": {},
   "outputs": [
    {
     "data": {
      "text/plain": [
       "2.549910327614144"
      ]
     },
     "execution_count": 173,
     "metadata": {},
     "output_type": "execute_result"
    }
   ],
   "source": [
    "tensorial_data['pitch_angle'][10, 254]"
   ]
  },
  {
   "cell_type": "code",
   "execution_count": null,
   "metadata": {},
   "outputs": [],
   "source": []
  },
  {
   "cell_type": "code",
   "execution_count": 162,
   "metadata": {},
   "outputs": [
    {
     "data": {
      "text/plain": [
       "dict_keys(['ucon', 'bcon', 'pitch_angle', 'udotu', 'kdotu', 'kdotb', 'bdotb', 'UuUu', 'final_M'])"
      ]
     },
     "execution_count": 162,
     "metadata": {},
     "output_type": "execute_result"
    }
   ],
   "source": [
    "tensorial_data.keys()"
   ]
  },
  {
   "cell_type": "code",
   "execution_count": 161,
   "metadata": {},
   "outputs": [
    {
     "data": {
      "text/plain": [
       "(Array([-1.4163232e-06, -1.3280218e-04, -5.2296702e-05, -3.0110543e-06,\n",
       "         1.1159096e-06, -1.3306091e-04, -5.2293599e-05, -3.1636741e-06],      dtype=float32),\n",
       " array([-1.41632347e-06, -1.32802175e-04, -5.22966984e-05, -3.01105410e-06]))"
      ]
     },
     "execution_count": 161,
     "metadata": {},
     "output_type": "execute_result"
    }
   ],
   "source": [
    "istep = 10\n",
    "ipx = 234\n",
    "\n",
    "fluid_scalars['prims'][istep, ipx], tensorial_data['bcon'][:, istep, ipx]"
   ]
  },
  {
   "cell_type": "code",
   "execution_count": null,
   "metadata": {},
   "outputs": [],
   "source": []
  },
  {
   "cell_type": "code",
   "execution_count": null,
   "metadata": {},
   "outputs": [],
   "source": [
    "## end scratch"
   ]
  },
  {
   "cell_type": "code",
   "execution_count": 398,
   "metadata": {},
   "outputs": [],
   "source": [
    "import mahakala.transfer\n",
    "\n",
    "from tqdm import tqdm"
   ]
  },
  {
   "cell_type": "code",
   "execution_count": 409,
   "metadata": {},
   "outputs": [
    {
     "name": "stderr",
     "output_type": "stream",
     "text": [
      "  0%|          | 0/2121 [00:00<?, ?it/s]"
     ]
    },
    {
     "name": "stderr",
     "output_type": "stream",
     "text": [
      " 17%|█▋        | 363/2121 [00:01<00:08, 198.74it/s]/home/george/sites/liamedeiros/Mahakala/mahakala/transfer.py:98: RuntimeWarning: invalid value encountered in power\n",
      "  var = np.exp(-np.power(X,1./3.))\n",
      "/home/george/sites/liamedeiros/Mahakala/mahakala/transfer.py:99: RuntimeWarning: invalid value encountered in power\n",
      "  synemiss = Ne*nus*np.power(jnp.sqrt(X)+np.power(2., 11./12.)*np.power(X,1./6.),2.)/(special.kn(2,1./thetae))\n",
      "100%|██████████| 2121/2121 [00:08<00:00, 240.63it/s]\n",
      "100%|██████████| 2121/2121 [00:05<00:00, 353.60it/s]\n"
     ]
    }
   ],
   "source": [
    "nsteps, npx, _ = S.shape\n",
    "\n",
    "synemiss_data = np.empty((nsteps, npx))\n",
    "for i in tqdm(range(nsteps)):\n",
    "    synemiss_data[i] = mahakala.transfer.emission_coefficient_old(ne_data[i], t_electron[i], bfield[i], local_nu[i], beta_data[i], fluid_scalars['pitch_angle'][i])\n",
    "index = np.where(np.isnan(synemiss_data) == True)  # is the == True needed?\n",
    "synemiss_data[index[0], index[1]] = 0.0\n",
    "del index\n",
    "\n",
    "absorption_data = np.zeros((nsteps, npx))\n",
    "for i in tqdm(range(nsteps)):\n",
    "    absorption_data[i] = mahakala.transfer.absorption_coefficient(t_electron[i,:], synemiss_data[i,:], local_nu[i,:], beta_data[i,:])\n",
    "index = np.where(np.isnan(absorption_data) == True)\n",
    "absorption_data[index[0], index[1]] = 0.0\n",
    "del index"
   ]
  },
  {
   "cell_type": "code",
   "execution_count": 410,
   "metadata": {},
   "outputs": [],
   "source": [
    "synemiss_data_old = synemiss_data.copy()"
   ]
  },
  {
   "cell_type": "code",
   "execution_count": null,
   "metadata": {},
   "outputs": [],
   "source": []
  },
  {
   "cell_type": "code",
   "execution_count": 406,
   "metadata": {},
   "outputs": [
    {
     "data": {
      "text/plain": [
       "<matplotlib.image.AxesImage at 0x7f791ab20ad0>"
      ]
     },
     "execution_count": 406,
     "metadata": {},
     "output_type": "execute_result"
    },
    {
     "data": {
      "image/png": "[encoded data removed]",
      "text/plain": [
       "<Figure size 640x480 with 1 Axes>"
      ]
     },
     "metadata": {},
     "output_type": "display_data"
    }
   ],
   "source": [
    "plt.imshow(synemiss_data.sum(axis=0).reshape((80, 80)))\n",
    "plt.imshow(absorption_data.sum(axis=0).reshape((80, 80)))"
   ]
  },
  {
   "cell_type": "code",
   "execution_count": null,
   "metadata": {},
   "outputs": [],
   "source": []
  },
  {
   "cell_type": "code",
   "execution_count": null,
   "metadata": {},
   "outputs": [],
   "source": []
  },
  {
   "cell_type": "code",
   "execution_count": 19,
   "metadata": {},
   "outputs": [
    {
     "name": "stderr",
     "output_type": "stream",
     "text": [
      "  0%|          | 0/10001 [00:00<?, ?it/s]"
     ]
    },
    {
     "name": "stderr",
     "output_type": "stream",
     "text": [
      "  3%|▎         | 318/10001 [00:00<00:15, 629.66it/s]/home/george/sites/liamedeiros/Mahakala/mahakala/transfer.py:56: RuntimeWarning: invalid value encountered in power\n",
      "  var = np.exp(-np.power(X,1./3.))\n",
      "/home/george/sites/liamedeiros/Mahakala/mahakala/transfer.py:57: RuntimeWarning: invalid value encountered in power\n",
      "  synemiss = Ne*nus*np.power(jnp.sqrt(X)+np.power(2., 11./12.)*np.power(X,1./6.),2.)/(special.kn(2,1./thetae))\n",
      "/home/george/sites/liamedeiros/Mahakala/mahakala/transfer.py:54: RuntimeWarning: divide by zero encountered in divide\n",
      "  X=nu/nus\n",
      "/home/george/sites/liamedeiros/Mahakala/mahakala/transfer.py:57: RuntimeWarning: invalid value encountered in multiply\n",
      "  synemiss = Ne*nus*np.power(jnp.sqrt(X)+np.power(2., 11./12.)*np.power(X,1./6.),2.)/(special.kn(2,1./thetae))\n",
      "100%|██████████| 10001/10001 [00:06<00:00, 1573.47it/s]\n",
      "  0%|          | 0/10001 [00:00<?, ?it/s]/home/george/sites/liamedeiros/Mahakala/mahakala/transfer.py:64: RuntimeWarning: divide by zero encountered in divide\n",
      "  B_nu = (2*HPL*nu**3/CL**2)/(pow(np.e,HPL*nu/(KB*t_electron)) - 1)\n",
      "100%|██████████| 10001/10001 [00:00<00:00, 15488.66it/s]\n"
     ]
    }
   ],
   "source": [
    "nsteps, npx, _ = S.shape\n",
    "\n",
    "synemiss_data = np.empty((nsteps, npx))\n",
    "for i in tqdm(range(nsteps)):\n",
    "    synemiss_data[i] = mahakala.transfer.emission_coefficient(ne_data[i], t_electron[i], bfield[i], local_nu[i], beta_data[i], tensorial_data['pitch_angle'][i])\n",
    "index = np.where(np.isnan(synemiss_data) == True)  # is the == True needed?\n",
    "synemiss_data[index[0], index[1]] = 0.0\n",
    "del index\n",
    "\n",
    "absorption_data = np.zeros((nsteps, npx))\n",
    "for i in tqdm(range(nsteps)):\n",
    "    absorption_data[i] = mahakala.transfer.absorption_coefficient(t_electron[i,:], synemiss_data[i,:], local_nu[i,:], beta_data[i,:])\n",
    "index = np.where(np.isnan(absorption_data) == True)\n",
    "absorption_data[index[0], index[1]] = 0.0\n",
    "del index"
   ]
  },
  {
   "cell_type": "code",
   "execution_count": 20,
   "metadata": {},
   "outputs": [],
   "source": [
    "final_I = mahakala.transfer.solve_specific_intensity(nsteps, synemiss_data, absorption_data, local_nu, tensorial_data['kdotu'], final_dt, M_BH)"
   ]
  },
  {
   "cell_type": "code",
   "execution_count": 22,
   "metadata": {},
   "outputs": [],
   "source": [
    "final_image = final_I.reshape((40, 40))"
   ]
  },
  {
   "cell_type": "code",
   "execution_count": 42,
   "metadata": {},
   "outputs": [
    {
     "ename": "UnboundLocalError",
     "evalue": "cannot access local variable 'val' where it is not associated with a value",
     "output_type": "error",
     "traceback": [
      "\u001b[0;31m---------------------------------------------------------------------------\u001b[0m",
      "\u001b[0;31mUnboundLocalError\u001b[0m                         Traceback (most recent call last)",
      "Cell \u001b[0;32mIn[42], line 1\u001b[0m\n\u001b[0;32m----> 1\u001b[0m final_I2 \u001b[38;5;241m=\u001b[39m mahakala\u001b[38;5;241m.\u001b[39mtransfer\u001b[38;5;241m.\u001b[39msolve_specific_intensity_new2(nsteps, synemiss_data, absorption_data, tensorial_data[\u001b[38;5;124m'\u001b[39m\u001b[38;5;124mkdotu\u001b[39m\u001b[38;5;124m'\u001b[39m], final_dt, M_BH)\n",
      "File \u001b[0;32m~/sites/liamedeiros/Mahakala/mahakala/transfer.py:49\u001b[0m, in \u001b[0;36msolve_specific_intensity_new2\u001b[0;34m(N, synemiss_data, absorption_data, KuUu, dt, M_BH)\u001b[0m\n\u001b[1;32m     45\u001b[0m def emission_coefficient(Ne, t_electron, B, nu, beta, angle):\n\u001b[1;32m     47\u001b[0m     thetae = (KB * t_electron)/( ME * CL**2)\n\u001b[0;32m---> 49\u001b[0m     # Eq [2]\n\u001b[1;32m     50\u001b[0m     nuc = 2.79925e6*B\n\u001b[1;32m     51\u001b[0m     nus = (2./9.)*nuc*thetae*thetae*np.sin(angle)\n",
      "\u001b[0;31mUnboundLocalError\u001b[0m: cannot access local variable 'val' where it is not associated with a value"
     ]
    }
   ],
   "source": [
    "final_I2 = mahakala.transfer.solve_specific_intensity_new2(nsteps, synemiss_data, absorption_data, tensorial_data['kdotu'], final_dt, M_BH)"
   ]
  },
  {
   "cell_type": "code",
   "execution_count": 33,
   "metadata": {},
   "outputs": [
    {
     "data": {
      "text/plain": [
       "<matplotlib.image.AxesImage at 0x7fa333df1ad0>"
      ]
     },
     "execution_count": 33,
     "metadata": {},
     "output_type": "execute_result"
    },
    {
     "data": {
      "image/png": "[encoded data removed]",
      "text/plain": [
       "<Figure size 800x800 with 1 Axes>"
      ]
     },
     "metadata": {},
     "output_type": "display_data"
    }
   ],
   "source": [
    "fig = plt.figure(figsize=(8, 8), facecolor='w')\n",
    "\n",
    "final_image = final_image / np.max(final_image)\n",
    "\n",
    "ax1 = plt.subplot(1, 1, 1)\n",
    "ax1.imshow(np.log10(final_image).T, cmap='afmhot', vmin=-4, vmax=0, origin='lower')"
   ]
  },
  {
   "cell_type": "markdown",
   "metadata": {},
   "source": [
    "# tests below"
   ]
  },
  {
   "cell_type": "code",
   "execution_count": null,
   "metadata": {},
   "outputs": [],
   "source": []
  },
  {
   "cell_type": "code",
   "execution_count": 228,
   "metadata": {},
   "outputs": [
    {
     "data": {
      "text/plain": [
       "<matplotlib.image.AxesImage at 0x7fd32e76aa30>"
      ]
     },
     "execution_count": 228,
     "metadata": {},
     "output_type": "execute_result"
    },
    {
     "data": {
      "image/png": "[encoded data removed]",
      "text/plain": [
       "<Figure size 432x288 with 1 Axes>"
      ]
     },
     "metadata": {
      "needs_background": "light"
     },
     "output_type": "display_data"
    }
   ],
   "source": [
    "ax1 = plt.subplot(1, 1, 1)\n",
    "\n",
    "ax1.imshow(tensorial_data['pitch_angle'].min(axis=0).reshape((10, 10)))"
   ]
  },
  {
   "cell_type": "code",
   "execution_count": null,
   "metadata": {},
   "outputs": [],
   "source": []
  },
  {
   "cell_type": "code",
   "execution_count": 101,
   "metadata": {},
   "outputs": [],
   "source": [
    "from jax import jit, vmap\n",
    "\n",
    "@jit\n",
    "def vec_metric(X, bhspin):\n",
    "    return vmap(mahakala.geodesics.metric, in_axes=(0, None))(X, bhspin)\n",
    "\n",
    "@jit\n",
    "def vec_imetric(X, bhspin):\n",
    "    return vmap(mahakala.geodesics.imetric, in_axes=(0, None))(X, bhspin)"
   ]
  },
  {
   "cell_type": "code",
   "execution_count": null,
   "metadata": {},
   "outputs": [],
   "source": []
  },
  {
   "cell_type": "code",
   "execution_count": 102,
   "metadata": {},
   "outputs": [
    {
     "name": "stderr",
     "output_type": "stream",
     "text": [
      "100%|██████████| 10001/10001 [00:04<00:00, 2123.72it/s]\n"
     ]
    }
   ],
   "source": [
    "final_M = np.zeros((len(S),len(S[0]),4))\n",
    "for i in tqdm(range(0,len(S))):\n",
    "    final_M[i,:,:] = vec_imetric(S[i,:,:4], bhspin)[:,0,:]"
   ]
  },
  {
   "cell_type": "code",
   "execution_count": 205,
   "metadata": {},
   "outputs": [
    {
     "name": "stdout",
     "output_type": "stream",
     "text": [
      "65\n",
      "74\n"
     ]
    }
   ],
   "source": [
    "xpos_vec = S[:, :, :4]\n",
    "\n",
    "xs = xpos_vec[:, :, 1]\n",
    "ys = xpos_vec[:, :, 2]\n",
    "zs = xpos_vec[:, :, 3]\n",
    "\n",
    "for j in range(100):\n",
    "    if np.isnan(np.min(xs[:, j])):\n",
    "        print(j)\n",
    "    #print(j, np.min(xs[:, j]))"
   ]
  },
  {
   "cell_type": "code",
   "execution_count": 206,
   "metadata": {},
   "outputs": [
    {
     "data": {
      "text/plain": [
       "419"
      ]
     },
     "execution_count": 206,
     "metadata": {},
     "output_type": "execute_result"
    }
   ],
   "source": [
    "len(select_geodesic[:, 0, 1])"
   ]
  },
  {
   "cell_type": "code",
   "execution_count": 207,
   "metadata": {},
   "outputs": [
    {
     "data": {
      "text/plain": [
       "10000"
      ]
     },
     "execution_count": 207,
     "metadata": {},
     "output_type": "execute_result"
    }
   ],
   "source": [
    "len(final_dt[:, 64])"
   ]
  },
  {
   "cell_type": "code",
   "execution_count": 208,
   "metadata": {},
   "outputs": [
    {
     "data": {
      "text/plain": [
       "(-1.8132638931274414, 0.0)"
      ]
     },
     "execution_count": 208,
     "metadata": {},
     "output_type": "execute_result"
    }
   ],
   "source": [
    "tidx = 417\n",
    "xs[tidx, 65], final_dt[tidx, 65]"
   ]
  },
  {
   "cell_type": "code",
   "execution_count": 211,
   "metadata": {},
   "outputs": [
    {
     "data": {
      "text/plain": [
       "array([-24.96421991, -24.34260941, -23.7364769 , ...,          nan,\n",
       "                nan,          nan])"
      ]
     },
     "execution_count": 211,
     "metadata": {},
     "output_type": "execute_result"
    }
   ],
   "source": [
    "final_dt[:, 65]"
   ]
  },
  {
   "cell_type": "code",
   "execution_count": 232,
   "metadata": {},
   "outputs": [
    {
     "data": {
      "text/plain": [
       "(410.0, 425.0)"
      ]
     },
     "execution_count": 232,
     "metadata": {},
     "output_type": "execute_result"
    },
    {
     "data": {
      "image/png": "[encoded data removed]",
      "text/plain": [
       "<Figure size 432x288 with 2 Axes>"
      ]
     },
     "metadata": {
      "needs_background": "light"
     },
     "output_type": "display_data"
    }
   ],
   "source": [
    "ax1 = plt.subplot(2, 1, 1)\n",
    "ax2 = plt.subplot(2, 1, 2)\n",
    "\n",
    "ax1.plot(xs[:, 65])\n",
    "ax2.plot(final_dt[:, 65])\n",
    "ax1.plot(select_geodesic[:, 0, 1])\n",
    "ax2.plot(select_dt_final[:, 0])\n",
    "\n",
    "xlim = [410, 425]\n",
    "\n",
    "ax1.set_xlim(*xlim)\n",
    "ax2.set_xlim(*xlim)"
   ]
  },
  {
   "cell_type": "code",
   "execution_count": 152,
   "metadata": {},
   "outputs": [
    {
     "data": {
      "text/plain": [
       "(419, 1, 8)"
      ]
     },
     "execution_count": 152,
     "metadata": {},
     "output_type": "execute_result"
    }
   ],
   "source": [
    "select_geodesic.shape"
   ]
  },
  {
   "cell_type": "code",
   "execution_count": 155,
   "metadata": {},
   "outputs": [
    {
     "data": {
      "text/plain": [
       "-1.7934848070144653"
      ]
     },
     "execution_count": 155,
     "metadata": {},
     "output_type": "execute_result"
    }
   ],
   "source": [
    "np.nanmin(select_geodesic[:, 0, 1])"
   ]
  },
  {
   "cell_type": "code",
   "execution_count": 233,
   "metadata": {},
   "outputs": [
    {
     "data": {
      "image/png": "[encoded data removed]",
      "text/plain": [
       "<Figure size 720x720 with 1 Axes>"
      ]
     },
     "metadata": {},
     "output_type": "display_data"
    }
   ],
   "source": [
    "plt.figure(figsize=(10, 10), facecolor='w')\n",
    "\n",
    "ax1 = plt.subplot(1, 1, 1)\n",
    "\n",
    "ax1.plot(xs[:, 65], ys[:, 65], '-o')\n",
    "\n",
    "plim = 10\n",
    "ax1.set_xlim(-plim, plim)\n",
    "ax1.set_ylim(-plim, plim)\n",
    "\n",
    "ax1.set_aspect('equal')"
   ]
  },
  {
   "cell_type": "code",
   "execution_count": null,
   "metadata": {},
   "outputs": [],
   "source": []
  },
  {
   "cell_type": "code",
   "execution_count": null,
   "metadata": {},
   "outputs": [],
   "source": []
  },
  {
   "cell_type": "code",
   "execution_count": 76,
   "metadata": {},
   "outputs": [
    {
     "data": {
      "text/plain": [
       "<matplotlib.image.AxesImage at 0x7fd32ac02e20>"
      ]
     },
     "execution_count": 76,
     "metadata": {},
     "output_type": "execute_result"
    },
    {
     "data": {
      "image/png": "[encoded data removed]",
      "text/plain": [
       "<Figure size 432x288 with 1 Axes>"
      ]
     },
     "metadata": {
      "needs_background": "light"
     },
     "output_type": "display_data"
    }
   ],
   "source": [
    "ax1 = plt.subplot(1, 1, 1)\n",
    "\n",
    "ax1.imshow(local_nu.sum(axis=0).reshape((10, 10)))"
   ]
  },
  {
   "cell_type": "code",
   "execution_count": null,
   "metadata": {},
   "outputs": [],
   "source": []
  },
  {
   "cell_type": "code",
   "execution_count": 204,
   "metadata": {},
   "outputs": [
    {
     "data": {
      "text/plain": [
       "<matplotlib.image.AxesImage at 0x7fd32cdb4940>"
      ]
     },
     "execution_count": 204,
     "metadata": {},
     "output_type": "execute_result"
    },
    {
     "data": {
      "image/png": "[encoded data removed]",
      "text/plain": [
       "<Figure size 576x576 with 1 Axes>"
      ]
     },
     "metadata": {},
     "output_type": "display_data"
    }
   ],
   "source": []
  },
  {
   "cell_type": "code",
   "execution_count": null,
   "metadata": {},
   "outputs": [],
   "source": []
  },
  {
   "cell_type": "code",
   "execution_count": null,
   "metadata": {},
   "outputs": [],
   "source": []
  },
  {
   "cell_type": "code",
   "execution_count": null,
   "metadata": {},
   "outputs": [],
   "source": []
  },
  {
   "cell_type": "code",
   "execution_count": null,
   "metadata": {},
   "outputs": [],
   "source": []
  },
  {
   "cell_type": "code",
   "execution_count": null,
   "metadata": {},
   "outputs": [],
   "source": [
    "\n",
    "        Mass_scale = 5e+24\n",
    "\n",
    "        bfield = np.sqrt(BuBu) *  c * np.sqrt(pow(G*M_BH/c**2,-3) * Mass_scale * 4 * np.pi)\n",
    "\n",
    "        ne_data = Mass_scale * densff_data * pow(G*M_BH/c**2,-3)  * 1/(1.67 * 1e-24 +  9.1094 * 1e-28)\n",
    "\n",
    "        R_imp = ((R_high * (beta_data)**2/(1 + (beta_data)**2)) + 1/(1+(beta_data)**2))\n",
    "\n",
    "        t_electron = c**2 * (m_p  * internal_u_data * (4/3 -1) * (5/3-1))/(Kb * densff_data * ((5/3-1) + (4/3-1) * R_imp))\n",
    "\n",
    "        thetae = Kb * t_electron/(m_e*c**2)\n",
    "\n",
    "        #index = np.where(np.isnan(t_electron)== True)\n",
    "        #t_electron[index[0],index[1]] = 0\n",
    "\n",
    "        del R_imp\n",
    "\n",
    "        synemiss_data = np.empty((len(S),LEN))\n",
    "\n",
    "        for i in range(len(S)):\n",
    "            synemiss_data[i,:] = synemiss(ne_data[i,:], t_electron[i,:],bfield[i,:],nu[i,:],beta_data[i,:], observer_angle[i,:])\n",
    "\n",
    "        index = np.where(np.isnan(synemiss_data)==True)\n",
    "        synemiss_data[index[0],index[1]] = 0.0\n",
    "\n",
    "        del index\n",
    "        absorption_data   = np.zeros((len(S), LEN))\n",
    "\n",
    "        #for i in range(len(S)):\n",
    "        #    absorption_data[i,:] = absorption_coeff(t_electron[i,:], synemiss_data[i,:], nu[i,:],beta_data[i,:])\n",
    "\n",
    "\n",
    "\n",
    "        index = np.where(np.isnan(absorption_data)==True)\n",
    "        absorption_data[index[0],index[1]] = 0.0\n",
    "\n",
    "        del index\n",
    "\n",
    "        grav_synchrotron = synemiss_data/nu**2\n",
    "\n",
    "        index = np.where(np.isnan(grav_synchrotron) == True)\n",
    "\n",
    "        grav_synchrotron[index[0],index[1]] = 0.0\n",
    "\n",
    "\n",
    "        index = np.where(np.isnan(gamma_inv_data) == True)\n",
    "        gamma_inv_data[index[0],index[1]] = 0.0\n",
    "\n",
    "\n",
    "        index = np.where(sigma_data > 1)\n",
    "        ne_data[index[0],index[1]] = 0.0\n",
    "        grav_synchrotron[index[0],index[1]] = 0.0\n",
    "        absorption_data[index[0],index[1]] = 0.0\n",
    "        synemiss_data[index[0],index[1]] = 0.0\n",
    "\n",
    "        index = np.where(nu < 0)\n",
    "        nu[index[0],index[1]] = 0.0\n",
    "\n",
    "        index = np.where(grav_synchrotron < 0)\n",
    "        grav_synchrotron[index[0],index[1]] = 0.0\n",
    "\n",
    "        index = np.where(absorption_data < 0)\n",
    "        absorption_data[index[0],index[1]] = 0.0\n",
    "\n",
    "        N = len(S)\n",
    "\n",
    "        final_I,I_list = specific_intensity(N,synemiss_data,absorption_data,nu,KuUu,final_dt)\n"
   ]
  },
  {
   "cell_type": "code",
   "execution_count": null,
   "metadata": {},
   "outputs": [],
   "source": []
  },
  {
   "cell_type": "code",
   "execution_count": null,
   "metadata": {},
   "outputs": [],
   "source": []
  },
  {
   "cell_type": "code",
   "execution_count": 45,
   "metadata": {},
   "outputs": [],
   "source": [
    "local_nu = -tensorial_data['kdotu'] * 230e9\n",
    "gamma_inv_data = local_nu / 230.e9\n",
    "\n",
    "\"\"\"\n",
    "beta_data       = internal_u_data/BuBu * (((fluid_gamma) - 1)/0.5)\n",
    "sigma_data      = BuBu/densff_data\n",
    "\n",
    "index = np.where(np.isnan(beta_data) == True)\n",
    "beta_data[index[0],index[1]] = 0\n",
    "index = np.where(np.isnan(sigma_data) == True)\n",
    "sigma_data[index[0],index[1]] = 0    \"\"\""
   ]
  },
  {
   "cell_type": "code",
   "execution_count": null,
   "metadata": {},
   "outputs": [],
   "source": [
    "\n",
    "    beta_data       = internal_u_data/BuBu * (((fluid_gamma) - 1)/0.5)\n",
    "    sigma_data      = BuBu/densff_data\n",
    "\n",
    "    index = np.where(np.isnan(beta_data) == True)\n",
    "    beta_data[index[0],index[1]] = 0\n",
    "    index = np.where(np.isnan(sigma_data) == True)\n",
    "    sigma_data[index[0],index[1]] = 0\n",
    "\n",
    "    #return S,ne_data,thetae,bfield_data_pmag,num.sqrt(BuBu),sigma_data,beta_data,-KuUu * 230e9\n",
    "\n",
    "    def pitch_angle(KuUu,KuBu,BuBu):\n",
    "\n",
    "        angle = KuBu/(abs(KuUu) * np.sqrt(BuBu))\n",
    "\n",
    "        index = np.where(BuBu == 0)\n",
    "        angle[index[0],index[1]] = np.cos(np.pi/2)\n",
    "\n",
    "        index = np.where(abs(angle) > 1.0)\n",
    "        angle[index[0],index[1]] = angle[index[0],index[1]]/abs(angle[index[0],index[1]])\n",
    "\n",
    "        return np.arccos(angle)\n",
    "\n",
    "    observer_angle = pitch_angle(KuUu,KuBu,BuBu)\n",
    "\n",
    "    del KuBu\n",
    "\n",
    "    nu = -KuUu * 230e9\n",
    "\n",
    "    gamma_inv_data = nu/230e9\n",
    "\n",
    "\n",
    "    R_high_list = [80]\n",
    "\n",
    "    for R_high in R_high_list:\n",
    "\n",
    "        Mass_scale = 5e+24\n",
    "\n",
    "        bfield = np.sqrt(BuBu) *  c * np.sqrt(pow(G*M_BH/c**2,-3) * Mass_scale * 4 * np.pi)\n",
    "\n",
    "        ne_data = Mass_scale * densff_data * pow(G*M_BH/c**2,-3)  * 1/(1.67 * 1e-24 +  9.1094 * 1e-28)\n",
    "\n",
    "        R_imp = ((R_high * (beta_data)**2/(1 + (beta_data)**2)) + 1/(1+(beta_data)**2))\n",
    "\n",
    "        t_electron = c**2 * (m_p  * internal_u_data * (4/3 -1) * (5/3-1))/(Kb * densff_data * ((5/3-1) + (4/3-1) * R_imp))\n",
    "\n",
    "        thetae = Kb * t_electron/(m_e*c**2)\n",
    "\n",
    "        #index = np.where(np.isnan(t_electron)== True)\n",
    "        #t_electron[index[0],index[1]] = 0\n",
    "\n",
    "        del R_imp\n",
    "\n",
    "        synemiss_data = np.empty((len(S),LEN))\n",
    "\n",
    "        for i in range(len(S)):\n",
    "            synemiss_data[i,:] = synemiss(ne_data[i,:], t_electron[i,:],bfield[i,:],nu[i,:],beta_data[i,:], observer_angle[i,:])\n",
    "\n",
    "        index = np.where(np.isnan(synemiss_data)==True)\n",
    "        synemiss_data[index[0],index[1]] = 0.0\n",
    "\n",
    "        del index\n",
    "        absorption_data   = np.zeros((len(S), LEN))\n",
    "\n",
    "        #for i in range(len(S)):\n",
    "        #    absorption_data[i,:] = absorption_coeff(t_electron[i,:], synemiss_data[i,:], nu[i,:],beta_data[i,:])\n",
    "\n",
    "\n",
    "\n",
    "        index = np.where(np.isnan(absorption_data)==True)\n",
    "        absorption_data[index[0],index[1]] = 0.0\n",
    "\n",
    "        del index\n",
    "\n",
    "        grav_synchrotron = synemiss_data/nu**2\n",
    "\n",
    "        index = np.where(np.isnan(grav_synchrotron) == True)\n",
    "\n",
    "        grav_synchrotron[index[0],index[1]] = 0.0\n",
    "\n",
    "\n",
    "        index = np.where(np.isnan(gamma_inv_data) == True)\n",
    "        gamma_inv_data[index[0],index[1]] = 0.0\n",
    "\n",
    "\n",
    "        index = np.where(sigma_data > 1)\n",
    "        ne_data[index[0],index[1]] = 0.0\n",
    "        grav_synchrotron[index[0],index[1]] = 0.0\n",
    "        absorption_data[index[0],index[1]] = 0.0\n",
    "        synemiss_data[index[0],index[1]] = 0.0\n",
    "\n",
    "        index = np.where(nu < 0)\n",
    "        nu[index[0],index[1]] = 0.0\n",
    "\n",
    "        index = np.where(grav_synchrotron < 0)\n",
    "        grav_synchrotron[index[0],index[1]] = 0.0\n",
    "\n",
    "        index = np.where(absorption_data < 0)\n",
    "        absorption_data[index[0],index[1]] = 0.0\n",
    "\n",
    "        N = len(S)\n",
    "\n",
    "        final_I,I_list = specific_intensity(N,synemiss_data,absorption_data,nu,KuUu,final_dt)\n",
    "\n",
    "        np.save(\"/xdisk/chanc/home/anikets/Checking_shell/I_inv_{}_SANE/I_trial_{}.npy\".format(R_high,lower_limit/8),final_I)\n",
    "\n",
    "        '''\n",
    "        I_inv_val = []\n",
    "        I_len_iteration = []\n",
    "        j_inv_val = []\n",
    "        j_len_iteration = []\n",
    "\n",
    "\n",
    "        for shell_radii_val in range(97):\n",
    "\n",
    "            shell_index = np.load(\"/xdisk/chanc/home/anikets/Checking_shell/new_sims/Radius_Shells/Radius_{}/Radii_Shell_i{}_{}.npy\".format(lower_limit/8, inclination, shell_radii_val))\n",
    "            j_inv_sum = sum(grav_synchrotron[shell_index[0], shell_index[1]])\n",
    "\n",
    "            if len(shell_index[0]) == 0:\n",
    "                j_inv_avg = 0\n",
    "            else:\n",
    "                j_inv_avg = j_inv_sum\n",
    "\n",
    "            j_len_iteration.append(len(shell_index[0]))\n",
    "            j_inv_val.append(j_inv_avg)\n",
    "\n",
    "            shell_index = np.load(\"/xdisk/chanc/home/anikets/Checking_shell/new_sims/Inv_Radius_Shells/Inv_Radius_{}/Inv_Radii_Shell_i{}_{}.npy\".format(lower_limit/8, inclination, shell_radii_val))\n",
    "\n",
    "            I_inv_sum = sum(I_list[shell_index[0], shell_index[1]])\n",
    "\n",
    "            if len(shell_index[0]) == 0:\n",
    "                I_inv_avg = 0\n",
    "            else:\n",
    "                I_inv_avg = I_inv_sum\n",
    "\n",
    "            I_len_iteration.append(len(shell_index[0]))\n",
    "            I_inv_val.append(I_inv_avg)\n",
    "\n",
    "        j_inv_val = np.array(j_inv_val)\n",
    "        j_len_iteration = np.array(j_len_iteration)\n",
    "\n",
    "        I_inv_val = np.array(I_inv_val)\n",
    "        I_len_iteration = np.array(I_len_iteration)\n",
    "\n",
    "        np.save(\"/xdisk/chanc/home/anikets/Checking_shell/j_inv_{}_SANE/GRMHD_000{}/j_inv_{}_RADIUS_i{}.npy\".format(R_high,GRMHD_file, lower_limit/8, inclination), j_inv_val)\n",
    "            # Now j_inv_val is an array of shape (485,)\n",
    "\n",
    "        np.save(\"/xdisk/chanc/home/anikets/Checking_shell/j_inv_{}_SANE/GRMHD_000{}/j_len_iteration_{}_RADIUS_i{}.npy\".format(R_high,GRMHD_file,lower_limit/8, inclination),j_len_iteration)\n",
    "\n",
    "\n",
    "        np.save(\"/xdisk/chanc/home/anikets/Checking_shell/I_inv_{}_SANE/GRMHD_000{}/I_inv_{}_RADIUS_i{}.npy\".format(R_high,GRMHD_file, lower_limit/8, inclination), I_inv_val)\n",
    "        # Now j_inv_val is an array of shape (485,)\n",
    "\n",
    "        np.save(\"/xdisk/chanc/home/anikets/Checking_shell/I_inv_{}_SANE/GRMHD_000{}/I_len_iteration_{}_RADIUS_i{}.npy\".format(R_high,GRMHD_file,lower_limit/8, inclination),I_len_iteration)\n",
    "\n",
    "\n",
    "        '''\n",
    "\n",
    "        I_inv_val = []\n",
    "        I_len_iteration = []\n",
    "        j_inv_val = []\n",
    "        j_len_iteration = []\n",
    "\n",
    "\n",
    "\n",
    "        for shell_theta_val in range(89):\n",
    "\n",
    "            shell_index = np.load(\"/xdisk/chanc/home/anikets/Checking_shell/new_sims/Theta_Shells/Theta_{}/Theta_Shell_i{}_{}.npy\".format(lower_limit/8,inclination,  shell_theta_val))\n",
    "            j_inv_sum = sum(grav_synchrotron[shell_index[0], shell_index[1]])\n",
    "\n",
    "            if len(shell_index[0]) == 0:\n",
    "                j_inv_avg = 0\n",
    "            else:\n",
    "                j_inv_avg = j_inv_sum\n",
    "\n",
    "            j_len_iteration.append(len(shell_index[0]))\n",
    "            j_inv_val.append(j_inv_avg)\n",
    "\n",
    "\n",
    "            shell_index = np.load(\"/xdisk/chanc/home/anikets/Checking_shell/new_sims/Inv_Theta_Shells/Inv_Theta_{}/Inv_Theta_Shell_i{}_{}.npy\".format(lower_limit/8, inclination, shell_theta_val))\n",
    "\n",
    "\n",
    "            I_inv_sum = sum(I_list[shell_index[0], shell_index[1]])\n",
    "\n",
    "            if len(shell_index[0]) == 0:\n",
    "                I_inv_avg = 0\n",
    "            else:\n",
    "                I_inv_avg = I_inv_sum\n",
    "\n",
    "            I_len_iteration.append(len(shell_index[0]))\n",
    "            I_inv_val.append(I_inv_avg)\n",
    "\n",
    "\n",
    "        j_inv_val = np.array(j_inv_val)\n",
    "        j_len_iteration = np.array(j_len_iteration)\n",
    "\n",
    "        I_inv_val = np.array(I_inv_val)\n",
    "        I_len_iteration = np.array(I_len_iteration)\n",
    "\n",
    "        np.save(\"/xdisk/chanc/home/anikets/Checking_shell/j_inv_{}_SANE/GRMHD_000{}/j_trial_inv_{}_THETA_i{}.npy\".format(R_high,GRMHD_file, lower_limit/8, inclination), j_inv_val)\n",
    "            # Now j_inv_val is an array of shape (485,)\n",
    "\n",
    "        np.save(\"/xdisk/chanc/home/anikets/Checking_shell/j_inv_{}_SANE/GRMHD_000{}/j_trial_len_iteration_{}_THETA_i{}.npy\".format(R_high,GRMHD_file,lower_limit/8, inclination),j_len_iteration)\n",
    "\n",
    "\n",
    "        np.save(\"/xdisk/chanc/home/anikets/Checking_shell/I_inv_{}_SANE/GRMHD_000{}/I_trial_inv_{}_THETA_i{}.npy\".format(R_high,GRMHD_file, lower_limit/8, inclination), I_inv_val)\n",
    "        # Now j_inv_val is an array of shape (485,)\n",
    "\n",
    "        np.save(\"/xdisk/chanc/home/anikets/Checking_shell/I_inv_{}_SANE/GRMHD_000{}/I_trial_len_iteration_{}_THETA_i{}.npy\".format(R_high,GRMHD_file,lower_limit/8, inclination),I_len_iteration)\n",
    "\n",
    "        del j_inv_val\n",
    "        del j_len_iteration\n",
    "        del I_inv_val\n",
    "        del I_len_iteration\n"
   ]
  },
  {
   "cell_type": "code",
   "execution_count": null,
   "metadata": {},
   "outputs": [],
   "source": []
  },
  {
   "cell_type": "code",
   "execution_count": null,
   "metadata": {},
   "outputs": [],
   "source": []
  },
  {
   "cell_type": "code",
   "execution_count": null,
   "metadata": {},
   "outputs": [],
   "source": []
  },
  {
   "cell_type": "code",
   "execution_count": null,
   "metadata": {},
   "outputs": [],
   "source": []
  },
  {
   "cell_type": "code",
   "execution_count": null,
   "metadata": {},
   "outputs": [],
   "source": []
  },
  {
   "cell_type": "code",
   "execution_count": null,
   "metadata": {},
   "outputs": [],
   "source": []
  },
  {
   "cell_type": "code",
   "execution_count": null,
   "metadata": {},
   "outputs": [],
   "source": []
  },
  {
   "cell_type": "code",
   "execution_count": null,
   "metadata": {},
   "outputs": [],
   "source": []
  },
  {
   "cell_type": "code",
   "execution_count": null,
   "metadata": {},
   "outputs": [],
   "source": []
  },
  {
   "cell_type": "code",
   "execution_count": null,
   "metadata": {},
   "outputs": [],
   "source": []
  },
  {
   "cell_type": "markdown",
   "metadata": {},
   "source": [
    "# checks"
   ]
  },
  {
   "cell_type": "code",
   "execution_count": null,
   "metadata": {},
   "outputs": [],
   "source": [
    "primitive_data_og_40sq = np.load('prim_data_og_40sq.npy', allow_pickle=True).item()\n",
    "\n",
    "print(np.allclose(primitive_data_og_40sq['dens'], prim_data['dens'], atol=1e-3))\n",
    "print(np.allclose(primitive_data_og_40sq['u'], prim_data['u'], atol=1e-3))\n",
    "print(np.allclose(primitive_data_og_40sq['U1'], prim_data['U1'], atol=1e-3))\n",
    "print(np.allclose(primitive_data_og_40sq['U2'], prim_data['U2'], atol=1e-3))\n",
    "print(np.allclose(primitive_data_og_40sq['U3'], prim_data['U3'], atol=1e-3))\n",
    "print(np.allclose(primitive_data_og_40sq['B1'], prim_data['B1'], atol=1e-3))\n",
    "print(np.allclose(primitive_data_og_40sq['B2'], prim_data['B2'], atol=1e-3))\n",
    "print(np.allclose(primitive_data_og_40sq['B3'], prim_data['B3'], atol=1e-3))"
   ]
  }
 ],
 "metadata": {
  "kernelspec": {
   "display_name": "base",
   "language": "python",
   "name": "python3"
  },
  "language_info": {
   "codemirror_mode": {
    "name": "ipython",
    "version": 3
   },
   "file_extension": ".py",
   "mimetype": "text/x-python",
   "name": "python",
   "nbconvert_exporter": "python",
   "pygments_lexer": "ipython3",
   "version": "3.11.5"
  }
 },
 "nbformat": 4,
 "nbformat_minor": 2
}
