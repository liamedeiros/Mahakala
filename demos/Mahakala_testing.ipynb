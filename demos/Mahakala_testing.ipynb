{
 "cells": [
  {
   "cell_type": "code",
   "execution_count": 1,
   "id": "9dcdc2e4",
   "metadata": {},
   "outputs": [],
   "source": [
    "%reload_ext autoreload\n",
    "%autoreload 2"
   ]
  },
  {
   "cell_type": "markdown",
   "id": "0784751a",
   "metadata": {},
   "source": [
    "# Mahakala"
   ]
  },
  {
   "cell_type": "code",
   "execution_count": 2,
   "id": "88cfb345",
   "metadata": {},
   "outputs": [
    {
     "name": "stdout",
     "output_type": "stream",
     "text": [
      "cpu\n"
     ]
    }
   ],
   "source": [
    "import mahakala as ma\n",
    "\n",
    "import numpy as np\n",
    "import matplotlib.pyplot as plt"
   ]
  },
  {
   "cell_type": "markdown",
   "id": "c0ee8fb7",
   "metadata": {},
   "source": [
    "## Geodesic trajectories\n",
    "example demo showing the geodesic trajectories for a non-spinning black hole"
   ]
  },
  {
   "cell_type": "code",
   "execution_count": 3,
   "id": "35321f52",
   "metadata": {},
   "outputs": [],
   "source": [
    "s0 = ma.initialize_geodesics_at_camera(60,1000,-20,20,50,'Grid',0.9)"
   ]
  },
  {
   "cell_type": "code",
   "execution_count": 4,
   "id": "f7bb84da",
   "metadata": {
    "scrolled": false
   },
   "outputs": [
    {
     "name": "stderr",
     "output_type": "stream",
     "text": [
      "  0%|                                                 | 0/10000 [00:00<?, ?it/s]\n"
     ]
    },
    {
     "ename": "TypeError",
     "evalue": "rhs() missing 1 required positional argument: 'bhspin'",
     "output_type": "error",
     "traceback": [
      "\u001b[0;31m---------------------------------------------------------------------------\u001b[0m",
      "\u001b[0;31mTypeError\u001b[0m                                 Traceback (most recent call last)",
      "Cell \u001b[0;32mIn[4], line 1\u001b[0m\n\u001b[0;32m----> 1\u001b[0m S,final_dt \u001b[38;5;241m=\u001b[39m ma\u001b[38;5;241m.\u001b[39mgeodesic_integrator(\u001b[38;5;241m10000\u001b[39m,s0,\u001b[38;5;241m40\u001b[39m,\u001b[38;5;241m1e-4\u001b[39m, \u001b[38;5;241m.9\u001b[39m)\n",
      "File \u001b[0;32m~/Mahakala_Final/Mahakala/mahakala/geodesics.py:221\u001b[0m, in \u001b[0;36mgeodesic_integrator\u001b[0;34m(N, s0, div, tol, bhspin)\u001b[0m\n\u001b[1;32m    218\u001b[0m \u001b[38;5;28;01mif\u001b[39;00m \u001b[38;5;28mlen\u001b[39m(np\u001b[38;5;241m.\u001b[39mwhere(dt \u001b[38;5;241m==\u001b[39m \u001b[38;5;241m0\u001b[39m)[\u001b[38;5;241m0\u001b[39m]) \u001b[38;5;241m==\u001b[39m \u001b[38;5;28mlen\u001b[39m(dt):\n\u001b[1;32m    219\u001b[0m     \u001b[38;5;28;01mbreak\u001b[39;00m\n\u001b[0;32m--> 221\u001b[0m result1 \u001b[38;5;241m=\u001b[39m RK4_gen(states1[\u001b[38;5;241m-\u001b[39m\u001b[38;5;241m1\u001b[39m],dt,bhspin)\n\u001b[1;32m    222\u001b[0m states1\u001b[38;5;241m.\u001b[39mappend(result1)\n\u001b[1;32m    223\u001b[0m \u001b[38;5;66;03m#states2.append(result2)\u001b[39;00m\n",
      "    \u001b[0;31m[... skipping hidden 12 frame]\u001b[0m\n",
      "File \u001b[0;32m~/Mahakala_Final/Mahakala/mahakala/geodesics.py:241\u001b[0m, in \u001b[0;36mRK4_gen\u001b[0;34m(state1, dt, bhspin)\u001b[0m\n\u001b[1;32m    238\u001b[0m \u001b[38;5;129m@jit\u001b[39m\n\u001b[1;32m    239\u001b[0m \u001b[38;5;28;01mdef\u001b[39;00m \u001b[38;5;21mRK4_gen\u001b[39m(state1,dt,bhspin):\n\u001b[1;32m    240\u001b[0m     val \u001b[38;5;241m=\u001b[39m \u001b[38;5;28mlen\u001b[39m(state1)\n\u001b[0;32m--> 241\u001b[0m     ans1 \u001b[38;5;241m=\u001b[39m vectorized_rhs(state1, bhspin)\n\u001b[1;32m    243\u001b[0m     k1  \u001b[38;5;241m=\u001b[39m jnp\u001b[38;5;241m.\u001b[39mmultiply(dt\u001b[38;5;241m.\u001b[39mreshape(val,\u001b[38;5;241m1\u001b[39m),ans1)\n\u001b[1;32m    245\u001b[0m     ans1 \u001b[38;5;241m=\u001b[39m vectorized_rhs(state1 \u001b[38;5;241m+\u001b[39m \u001b[38;5;241m0.5\u001b[39m \u001b[38;5;241m*\u001b[39m k1, bhspin)\n",
      "    \u001b[0;31m[... skipping hidden 12 frame]\u001b[0m\n",
      "File \u001b[0;32m~/Mahakala_Final/Mahakala/mahakala/geodesics.py:268\u001b[0m, in \u001b[0;36mvectorized_rhs\u001b[0;34m(s0, bhspin)\u001b[0m\n\u001b[1;32m    261\u001b[0m \u001b[38;5;129m@jit\u001b[39m\n\u001b[1;32m    262\u001b[0m \u001b[38;5;28;01mdef\u001b[39;00m \u001b[38;5;21mvectorized_rhs\u001b[39m(s0, bhspin):\n\u001b[1;32m    263\u001b[0m \u001b[38;5;250m    \u001b[39m\u001b[38;5;124;03m'''\u001b[39;00m\n\u001b[1;32m    264\u001b[0m \u001b[38;5;124;03m    !@brief This uses Jax vmap. It has the familiar semantics of mapping a function along array axes, but instead of \u001b[39;00m\n\u001b[1;32m    265\u001b[0m \u001b[38;5;124;03m    keeping the loop on the outside, it pushes the loop down into a function’s primitive operations for better \u001b[39;00m\n\u001b[1;32m    266\u001b[0m \u001b[38;5;124;03m    performance. When composed with jit(), it can be just as fast as adding the batch dimensions by hand.\u001b[39;00m\n\u001b[1;32m    267\u001b[0m \u001b[38;5;124;03m    '''\u001b[39;00m\n\u001b[0;32m--> 268\u001b[0m     \u001b[38;5;28;01mreturn\u001b[39;00m vmap(rhs)(s0)(bhspin)\n",
      "    \u001b[0;31m[... skipping hidden 14 frame]\u001b[0m\n",
      "File \u001b[0;32m~/anaconda3/lib/python3.11/site-packages/jax/_src/linear_util.py:191\u001b[0m, in \u001b[0;36mWrappedFun.call_wrapped\u001b[0;34m(self, *args, **kwargs)\u001b[0m\n\u001b[1;32m    188\u001b[0m gen \u001b[38;5;241m=\u001b[39m gen_static_args \u001b[38;5;241m=\u001b[39m out_store \u001b[38;5;241m=\u001b[39m \u001b[38;5;28;01mNone\u001b[39;00m\n\u001b[1;32m    190\u001b[0m \u001b[38;5;28;01mtry\u001b[39;00m:\n\u001b[0;32m--> 191\u001b[0m   ans \u001b[38;5;241m=\u001b[39m \u001b[38;5;28mself\u001b[39m\u001b[38;5;241m.\u001b[39mf(\u001b[38;5;241m*\u001b[39margs, \u001b[38;5;241m*\u001b[39m\u001b[38;5;241m*\u001b[39m\u001b[38;5;28mdict\u001b[39m(\u001b[38;5;28mself\u001b[39m\u001b[38;5;241m.\u001b[39mparams, \u001b[38;5;241m*\u001b[39m\u001b[38;5;241m*\u001b[39mkwargs))\n\u001b[1;32m    192\u001b[0m \u001b[38;5;28;01mexcept\u001b[39;00m:\n\u001b[1;32m    193\u001b[0m   \u001b[38;5;66;03m# Some transformations yield from inside context managers, so we have to\u001b[39;00m\n\u001b[1;32m    194\u001b[0m   \u001b[38;5;66;03m# interrupt them before reraising the exception. Otherwise they will only\u001b[39;00m\n\u001b[1;32m    195\u001b[0m   \u001b[38;5;66;03m# get garbage-collected at some later time, running their cleanup tasks\u001b[39;00m\n\u001b[1;32m    196\u001b[0m   \u001b[38;5;66;03m# only after this exception is handled, which can corrupt the global\u001b[39;00m\n\u001b[1;32m    197\u001b[0m   \u001b[38;5;66;03m# state.\u001b[39;00m\n\u001b[1;32m    198\u001b[0m   \u001b[38;5;28;01mwhile\u001b[39;00m stack:\n",
      "\u001b[0;31mTypeError\u001b[0m: rhs() missing 1 required positional argument: 'bhspin'"
     ]
    }
   ],
   "source": [
    "S,final_dt = ma.geodesic_integrator(10000,s0,40,1e-4, .9)\n"
   ]
  },
  {
   "cell_type": "code",
   "execution_count": null,
   "id": "946ced91",
   "metadata": {},
   "outputs": [],
   "source": [
    "geodesic_slices_Schwarschild()"
   ]
  },
  {
   "cell_type": "markdown",
   "id": "a78dcceb",
   "metadata": {},
   "source": [
    "## Shadows\n",
    "example demo of generating a few Kerr shadows for different inclinations and spins"
   ]
  },
  {
   "cell_type": "code",
   "execution_count": null,
   "id": "dcf24c5b",
   "metadata": {},
   "outputs": [],
   "source": [
    "fig, (ax1,ax2) = plt.subplots(2,1)\n",
    "\n",
    "inc = 30\n",
    "for a in [0,.3,.5,.7,.9]:\n",
    "    radii, phi = kerr_shadow(a, inc)\n",
    "    x = radii*np.cos(phi)\n",
    "    y = radii*np.sin(phi)\n",
    "    ax1.plot(x,y, label = r'$a=$'+str(a))\n",
    "ax1.legend(frameon=False)\n",
    "\n",
    "\n",
    "for inc in [0,30,60,90]:\n",
    "    radii, phi = kerr_shadow(a, inc)\n",
    "    x = radii*np.cos(phi)\n",
    "    y = radii*np.sin(phi)\n",
    "    ax2.plot(x,y, label = r'$i=$'+str(inc))\n",
    "ax2.legend(frameon=False)\n",
    "\n"
   ]
  },
  {
   "cell_type": "markdown",
   "id": "7f4dff16",
   "metadata": {},
   "source": [
    "## Analytic Accretion Model\n",
    "example demo of generating an image of an accretion flow based on an analytic accretion model"
   ]
  },
  {
   "cell_type": "code",
   "execution_count": null,
   "id": "59bc77a4",
   "metadata": {},
   "outputs": [],
   "source": [
    "# Take in initial parameters, camera position, and parameters\n",
    "\n",
    "grid_photons = make_grid_photons(inclination_angle, spin, distance)\n",
    "\n",
    "my_geodesics = geodesics(grid_photons, inclination_angle, spin, distance)\n",
    "\n",
    "fluid = get_fluid_grid(GRMHD or analytic?)\n",
    "\n",
    "image = synemiss(my_geodesics, R_high, R_low, Mscale, fluid, ...)"
   ]
  },
  {
   "cell_type": "markdown",
   "id": "779d70d3",
   "metadata": {},
   "source": [
    "## Simulation Image\n",
    "example demo of generating an image based on an example GRMHD snapshot"
   ]
  },
  {
   "cell_type": "code",
   "execution_count": null,
   "id": "616d4c83",
   "metadata": {},
   "outputs": [],
   "source": []
  },
  {
   "cell_type": "code",
   "execution_count": null,
   "id": "73ae0713",
   "metadata": {},
   "outputs": [],
   "source": []
  },
  {
   "cell_type": "code",
   "execution_count": null,
   "id": "f059789f",
   "metadata": {},
   "outputs": [],
   "source": []
  },
  {
   "cell_type": "code",
   "execution_count": null,
   "id": "342a17d5",
   "metadata": {},
   "outputs": [],
   "source": []
  },
  {
   "cell_type": "code",
   "execution_count": null,
   "id": "8b945fa0",
   "metadata": {},
   "outputs": [],
   "source": [
    "\n"
   ]
  },
  {
   "cell_type": "code",
   "execution_count": null,
   "id": "0a09eb84",
   "metadata": {},
   "outputs": [],
   "source": []
  }
 ],
 "metadata": {
  "kernelspec": {
   "display_name": "Python 3 (ipykernel)",
   "language": "python",
   "name": "python3"
  },
  "language_info": {
   "codemirror_mode": {
    "name": "ipython",
    "version": 3
   },
   "file_extension": ".py",
   "mimetype": "text/x-python",
   "name": "python",
   "nbconvert_exporter": "python",
   "pygments_lexer": "ipython3",
   "version": "3.11.5"
  }
 },
 "nbformat": 4,
 "nbformat_minor": 5
}
