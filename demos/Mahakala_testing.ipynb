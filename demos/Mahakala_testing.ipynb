{
 "cells": [
  {
   "cell_type": "markdown",
   "id": "0784751a",
   "metadata": {},
   "source": [
    "# Mahakala"
   ]
  },
  {
   "cell_type": "code",
   "execution_count": 5,
   "id": "88cfb345",
   "metadata": {},
   "outputs": [
    {
     "name": "stdout",
     "output_type": "stream",
     "text": [
      "cpu\n",
      "cpu\n",
      "cpu\n"
     ]
    }
   ],
   "source": [
    "%reload_ext autoreload\n",
    "%autoreload 2\n",
    "\n",
    "import mahakala as ma\n",
    "\n",
    "import numpy as np\n",
    "import matplotlib.pyplot as plt"
   ]
  },
  {
   "cell_type": "markdown",
   "id": "c0ee8fb7",
   "metadata": {},
   "source": [
    "## Geodesic trajectories\n",
    "example demo showing the geodesic trajectories for a non-spinning black hole"
   ]
  },
  {
   "cell_type": "code",
   "execution_count": 8,
   "id": "f7bb84da",
   "metadata": {
    "scrolled": false
   },
   "outputs": [
    {
     "name": "stdout",
     "output_type": "stream",
     "text": [
      "Enter the spin: .9\n",
      "Unexpected exception formatting exception. Falling back to standard exception\n"
     ]
    },
    {
     "name": "stderr",
     "output_type": "stream",
     "text": [
      "Traceback (most recent call last):\n",
      "  File \"/Users/lia/anaconda3/lib/python3.11/site-packages/IPython/core/interactiveshell.py\", line 3526, in run_code\n",
      "    exec(code_obj, self.user_global_ns, self.user_ns)\n",
      "  File \"/var/folders/l9/752ffvpj5rz2rlf_8ssr96_c0000gn/T/ipykernel_80806/915105276.py\", line 7, in <module>\n",
      "    s0 = ma.initialize_geodesics_at_camera(60,100,-20,20,1,'Grid')\n",
      "         ^^^^^^^^^^^^^^^^^^^^^^^^^^^^^^^^^^^^^^^^^^^^^^^^^^^^^^^^^\n",
      "  File \"/Users/lia/Mahakala_Final/Mahakala/mahakala/geodesics.py\", line 46, in initialize_geodesics_at_camera\n",
      "    return init_cond(s0_x,s0_v)\n",
      "           ^^^^^^^^^^^^^^^^^^^^\n",
      "  File \"/Users/lia/Mahakala_Final/Mahakala/mahakala/geodesics.py\", line 197, in init_cond\n",
      "    v = nullify(s0_x[:,i],s0_v[:,i])\n",
      "        ^^^^^^^^^^^^^^^^^^^^^^^^^^^^\n",
      "  File \"/Users/lia/anaconda3/lib/python3.11/site-packages/jax/_src/traceback_util.py\", line 179, in reraise_with_filtered_traceback\n",
      "    return fun(*args, **kwargs)\n",
      "           ^^^^^^^^^^^^^^^^^^^^\n",
      "  File \"/Users/lia/anaconda3/lib/python3.11/site-packages/jax/_src/pjit.py\", line 257, in cache_miss\n",
      "    outs, out_flat, out_tree, args_flat, jaxpr = _python_pjit_helper(\n",
      "                                                 ^^^^^^^^^^^^^^^^^^^^\n",
      "  File \"/Users/lia/anaconda3/lib/python3.11/site-packages/jax/_src/pjit.py\", line 163, in _python_pjit_helper\n",
      "    args_flat, _, params, in_tree, out_tree, _, _, _ = infer_params_fn(\n",
      "                                                       ^^^^^^^^^^^^^^^^\n",
      "  File \"/Users/lia/anaconda3/lib/python3.11/site-packages/jax/_src/api.py\", line 317, in infer_params\n",
      "    return pjit.common_infer_params(pjit_info_args, *args, **kwargs)\n",
      "           ^^^^^^^^^^^^^^^^^^^^^^^^^^^^^^^^^^^^^^^^^^^^^^^^^^^^^^^^^\n",
      "  File \"/Users/lia/anaconda3/lib/python3.11/site-packages/jax/_src/pjit.py\", line 493, in common_infer_params\n",
      "    jaxpr, consts, canonicalized_out_shardings_flat, out_layouts_flat = _pjit_jaxpr(\n",
      "                                                                        ^^^^^^^^^^^^\n",
      "  File \"/Users/lia/anaconda3/lib/python3.11/site-packages/jax/_src/pjit.py\", line 996, in _pjit_jaxpr\n",
      "    jaxpr, final_consts, out_type = _create_pjit_jaxpr(\n",
      "                                    ^^^^^^^^^^^^^^^^^^^\n",
      "  File \"/Users/lia/anaconda3/lib/python3.11/site-packages/jax/_src/linear_util.py\", line 349, in memoized_fun\n",
      "    ans = call(fun, *args)\n",
      "          ^^^^^^^^^^^^^^^^\n",
      "  File \"/Users/lia/anaconda3/lib/python3.11/site-packages/jax/_src/pjit.py\", line 936, in _create_pjit_jaxpr\n",
      "    jaxpr, global_out_avals, consts = pe.trace_to_jaxpr_dynamic(\n",
      "                                      ^^^^^^^^^^^^^^^^^^^^^^^^^^\n",
      "  File \"/Users/lia/anaconda3/lib/python3.11/site-packages/jax/_src/profiler.py\", line 336, in wrapper\n",
      "    return func(*args, **kwargs)\n",
      "           ^^^^^^^^^^^^^^^^^^^^^\n",
      "  File \"/Users/lia/anaconda3/lib/python3.11/site-packages/jax/_src/interpreters/partial_eval.py\", line 2288, in trace_to_jaxpr_dynamic\n",
      "    jaxpr, out_avals, consts = trace_to_subjaxpr_dynamic(\n",
      "                               ^^^^^^^^^^^^^^^^^^^^^^^^^^\n",
      "  File \"/Users/lia/anaconda3/lib/python3.11/site-packages/jax/_src/interpreters/partial_eval.py\", line 2310, in trace_to_subjaxpr_dynamic\n",
      "    ans = fun.call_wrapped(*in_tracers_)\n",
      "          ^^^^^^^^^^^^^^^^^^^^^^^^^^^^^^\n",
      "  File \"/Users/lia/anaconda3/lib/python3.11/site-packages/jax/_src/linear_util.py\", line 191, in call_wrapped\n",
      "    ans = self.f(*args, **dict(self.params, **kwargs))\n",
      "          ^^^^^^^^^^^^^^^^^^^^^^^^^^^^^^^^^^^^^^^^^^^^\n",
      "  File \"/Users/lia/Mahakala_Final/Mahakala/mahakala/geodesics.py\", line 60, in nullify\n",
      "    g = metric(x)\n",
      "        ^^^^^^^^^\n",
      "  File \"/Users/lia/anaconda3/lib/python3.11/site-packages/jax/_src/traceback_util.py\", line 179, in reraise_with_filtered_traceback\n",
      "    return fun(*args, **kwargs)\n",
      "           ^^^^^^^^^^^^^^^^^^^^\n",
      "  File \"/Users/lia/anaconda3/lib/python3.11/site-packages/jax/_src/pjit.py\", line 257, in cache_miss\n",
      "    outs, out_flat, out_tree, args_flat, jaxpr = _python_pjit_helper(\n",
      "                                                 ^^^^^^^^^^^^^^^^^^^^\n",
      "  File \"/Users/lia/anaconda3/lib/python3.11/site-packages/jax/_src/pjit.py\", line 163, in _python_pjit_helper\n",
      "    args_flat, _, params, in_tree, out_tree, _, _, _ = infer_params_fn(\n",
      "                                                       ^^^^^^^^^^^^^^^^\n",
      "  File \"/Users/lia/anaconda3/lib/python3.11/site-packages/jax/_src/api.py\", line 317, in infer_params\n",
      "    return pjit.common_infer_params(pjit_info_args, *args, **kwargs)\n",
      "           ^^^^^^^^^^^^^^^^^^^^^^^^^^^^^^^^^^^^^^^^^^^^^^^^^^^^^^^^^\n",
      "  File \"/Users/lia/anaconda3/lib/python3.11/site-packages/jax/_src/pjit.py\", line 493, in common_infer_params\n",
      "    jaxpr, consts, canonicalized_out_shardings_flat, out_layouts_flat = _pjit_jaxpr(\n",
      "                                                                        ^^^^^^^^^^^^\n",
      "  File \"/Users/lia/anaconda3/lib/python3.11/site-packages/jax/_src/pjit.py\", line 996, in _pjit_jaxpr\n",
      "    jaxpr, final_consts, out_type = _create_pjit_jaxpr(\n",
      "                                    ^^^^^^^^^^^^^^^^^^^\n",
      "  File \"/Users/lia/anaconda3/lib/python3.11/site-packages/jax/_src/linear_util.py\", line 349, in memoized_fun\n",
      "    ans = call(fun, *args)\n",
      "          ^^^^^^^^^^^^^^^^\n",
      "  File \"/Users/lia/anaconda3/lib/python3.11/site-packages/jax/_src/pjit.py\", line 936, in _create_pjit_jaxpr\n",
      "    jaxpr, global_out_avals, consts = pe.trace_to_jaxpr_dynamic(\n",
      "                                      ^^^^^^^^^^^^^^^^^^^^^^^^^^\n",
      "  File \"/Users/lia/anaconda3/lib/python3.11/site-packages/jax/_src/profiler.py\", line 336, in wrapper\n",
      "    return func(*args, **kwargs)\n",
      "           ^^^^^^^^^^^^^^^^^^^^^\n",
      "  File \"/Users/lia/anaconda3/lib/python3.11/site-packages/jax/_src/interpreters/partial_eval.py\", line 2288, in trace_to_jaxpr_dynamic\n",
      "    jaxpr, out_avals, consts = trace_to_subjaxpr_dynamic(\n",
      "                               ^^^^^^^^^^^^^^^^^^^^^^^^^^\n",
      "  File \"/Users/lia/anaconda3/lib/python3.11/site-packages/jax/_src/interpreters/partial_eval.py\", line 2310, in trace_to_subjaxpr_dynamic\n",
      "    ans = fun.call_wrapped(*in_tracers_)\n",
      "          ^^^^^^^^^^^^^^^^^^^^^^^^^^^^^^\n",
      "  File \"/Users/lia/anaconda3/lib/python3.11/site-packages/jax/_src/linear_util.py\", line 191, in call_wrapped\n",
      "    ans = self.f(*args, **dict(self.params, **kwargs))\n",
      "          ^^^^^^^^^^^^^^^^^^^^^^^^^^^^^^^^^^^^^^^^^^^^\n",
      "  File \"/Users/lia/Mahakala_Final/Mahakala/mahakala/geodesics.py\", line 99, in metric\n",
      "    a = a_spin\n",
      "        ^^^^^^\n",
      "NameError: name 'a_spin' is not defined\n",
      "\n",
      "During handling of the above exception, another exception occurred:\n",
      "\n",
      "Traceback (most recent call last):\n",
      "  File \"/Users/lia/anaconda3/lib/python3.11/site-packages/IPython/core/interactiveshell.py\", line 2120, in showtraceback\n",
      "    stb = self.InteractiveTB.structured_traceback(\n",
      "          ^^^^^^^^^^^^^^^^^^^^^^^^^^^^^^^^^^^^^^^^\n",
      "  File \"/Users/lia/anaconda3/lib/python3.11/site-packages/IPython/core/ultratb.py\", line 1435, in structured_traceback\n",
      "    return FormattedTB.structured_traceback(\n",
      "           ^^^^^^^^^^^^^^^^^^^^^^^^^^^^^^^^^\n",
      "  File \"/Users/lia/anaconda3/lib/python3.11/site-packages/IPython/core/ultratb.py\", line 1326, in structured_traceback\n",
      "    return VerboseTB.structured_traceback(\n",
      "           ^^^^^^^^^^^^^^^^^^^^^^^^^^^^^^^\n",
      "  File \"/Users/lia/anaconda3/lib/python3.11/site-packages/IPython/core/ultratb.py\", line 1173, in structured_traceback\n",
      "    formatted_exception = self.format_exception_as_a_whole(etype, evalue, etb, number_of_lines_of_context,\n",
      "                          ^^^^^^^^^^^^^^^^^^^^^^^^^^^^^^^^^^^^^^^^^^^^^^^^^^^^^^^^^^^^^^^^^^^^^^^^^^^^^^^^\n",
      "  File \"/Users/lia/anaconda3/lib/python3.11/site-packages/IPython/core/ultratb.py\", line 1088, in format_exception_as_a_whole\n",
      "    frames.append(self.format_record(record))\n",
      "                  ^^^^^^^^^^^^^^^^^^^^^^^^^^\n",
      "  File \"/Users/lia/anaconda3/lib/python3.11/site-packages/IPython/core/ultratb.py\", line 970, in format_record\n",
      "    frame_info.lines, Colors, self.has_colors, lvals\n",
      "    ^^^^^^^^^^^^^^^^\n",
      "  File \"/Users/lia/anaconda3/lib/python3.11/site-packages/IPython/core/ultratb.py\", line 792, in lines\n",
      "    return self._sd.lines\n",
      "           ^^^^^^^^^^^^^^\n",
      "  File \"/Users/lia/anaconda3/lib/python3.11/site-packages/stack_data/utils.py\", line 145, in cached_property_wrapper\n",
      "    value = obj.__dict__[self.func.__name__] = self.func(obj)\n",
      "                                               ^^^^^^^^^^^^^^\n",
      "  File \"/Users/lia/anaconda3/lib/python3.11/site-packages/stack_data/core.py\", line 698, in lines\n",
      "    pieces = self.included_pieces\n",
      "             ^^^^^^^^^^^^^^^^^^^^\n",
      "  File \"/Users/lia/anaconda3/lib/python3.11/site-packages/stack_data/utils.py\", line 145, in cached_property_wrapper\n",
      "    value = obj.__dict__[self.func.__name__] = self.func(obj)\n",
      "                                               ^^^^^^^^^^^^^^\n",
      "  File \"/Users/lia/anaconda3/lib/python3.11/site-packages/stack_data/core.py\", line 649, in included_pieces\n",
      "    pos = scope_pieces.index(self.executing_piece)\n",
      "                             ^^^^^^^^^^^^^^^^^^^^\n",
      "  File \"/Users/lia/anaconda3/lib/python3.11/site-packages/stack_data/utils.py\", line 145, in cached_property_wrapper\n",
      "    value = obj.__dict__[self.func.__name__] = self.func(obj)\n",
      "                                               ^^^^^^^^^^^^^^\n",
      "  File \"/Users/lia/anaconda3/lib/python3.11/site-packages/stack_data/core.py\", line 628, in executing_piece\n",
      "    return only(\n",
      "           ^^^^^\n",
      "  File \"/Users/lia/anaconda3/lib/python3.11/site-packages/executing/executing.py\", line 164, in only\n",
      "    raise NotOneValueFound('Expected one value, found 0')\n",
      "executing.executing.NotOneValueFound: Expected one value, found 0\n"
     ]
    }
   ],
   "source": [
    "\n",
    "def aspin():\n",
    "    a_spin = float(input(\"Enter the spin: \"))   \n",
    "    return a_spin\n",
    "\n",
    "a_spin = aspin()\n",
    "\n",
    "s0 = ma.initialize_geodesics_at_camera(60,100,-20,20,1,'Grid')"
   ]
  },
  {
   "cell_type": "code",
   "execution_count": null,
   "id": "946ced91",
   "metadata": {},
   "outputs": [],
   "source": [
    "geodesic_slices_Schwarschild()"
   ]
  },
  {
   "cell_type": "markdown",
   "id": "a78dcceb",
   "metadata": {},
   "source": [
    "## Shadows\n",
    "example demo of generating a few Kerr shadows for different inclinations and spins"
   ]
  },
  {
   "cell_type": "code",
   "execution_count": null,
   "id": "dcf24c5b",
   "metadata": {},
   "outputs": [],
   "source": [
    "fig, (ax1,ax2) = plt.subplots(2,1)\n",
    "\n",
    "inc = 30\n",
    "for a in [0,.3,.5,.7,.9]:\n",
    "    radii, phi = kerr_shadow(a, inc)\n",
    "    x = radii*np.cos(phi)\n",
    "    y = radii*np.sin(phi)\n",
    "    ax1.plot(x,y, label = r'$a=$'+str(a))\n",
    "ax1.legend(frameon=False)\n",
    "\n",
    "\n",
    "for inc in [0,30,60,90]:\n",
    "    radii, phi = kerr_shadow(a, inc)\n",
    "    x = radii*np.cos(phi)\n",
    "    y = radii*np.sin(phi)\n",
    "    ax2.plot(x,y, label = r'$i=$'+str(inc))\n",
    "ax2.legend(frameon=False)\n",
    "        \n",
    "    "
   ]
  },
  {
   "cell_type": "markdown",
   "id": "7f4dff16",
   "metadata": {},
   "source": [
    "## Analytic Accretion Model\n",
    "example demo of generating an image of an accretion flow based on an analytic accretion model"
   ]
  },
  {
   "cell_type": "code",
   "execution_count": null,
   "id": "59bc77a4",
   "metadata": {},
   "outputs": [],
   "source": [
    "# Take in initial parameters, camera position, and parameters\n",
    "\n",
    "grid_photons = make_grid_photons(inclination_angle, spin, distance)\n",
    "\n",
    "my_geodesics = geodesics(grid_photons, inclination_angle, spin, distance)\n",
    "\n",
    "fluid = get_fluid_grid(GRMHD or analytic?)\n",
    "\n",
    "image = synemiss(my_geodesics, R_high, R_low, Mscale, fluid, ...)"
   ]
  },
  {
   "cell_type": "markdown",
   "id": "779d70d3",
   "metadata": {},
   "source": [
    "## Simulation Image\n",
    "example demo of generating an image based on an example GRMHD snapshot"
   ]
  },
  {
   "cell_type": "code",
   "execution_count": null,
   "id": "616d4c83",
   "metadata": {},
   "outputs": [],
   "source": []
  },
  {
   "cell_type": "code",
   "execution_count": null,
   "id": "73ae0713",
   "metadata": {},
   "outputs": [],
   "source": []
  },
  {
   "cell_type": "code",
   "execution_count": null,
   "id": "f059789f",
   "metadata": {},
   "outputs": [],
   "source": []
  },
  {
   "cell_type": "code",
   "execution_count": null,
   "id": "342a17d5",
   "metadata": {},
   "outputs": [],
   "source": []
  },
  {
   "cell_type": "code",
   "execution_count": null,
   "id": "8b945fa0",
   "metadata": {},
   "outputs": [],
   "source": [
    "\n"
   ]
  },
  {
   "cell_type": "code",
   "execution_count": null,
   "id": "0a09eb84",
   "metadata": {},
   "outputs": [],
   "source": []
  }
 ],
 "metadata": {
  "kernelspec": {
   "display_name": "Python 3 (ipykernel)",
   "language": "python",
   "name": "python3"
  },
  "language_info": {
   "codemirror_mode": {
    "name": "ipython",
    "version": 3
   },
   "file_extension": ".py",
   "mimetype": "text/x-python",
   "name": "python",
   "nbconvert_exporter": "python",
   "pygments_lexer": "ipython3",
   "version": "3.11.5"
  }
 },
 "nbformat": 4,
 "nbformat_minor": 5
}
