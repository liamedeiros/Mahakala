{
 "cells": [
  {
   "cell_type": "code",
   "execution_count": 1,
   "id": "9dcdc2e4",
   "metadata": {},
   "outputs": [],
   "source": [
    "%reload_ext autoreload\n",
    "%autoreload 2"
   ]
  },
  {
   "cell_type": "markdown",
   "id": "0784751a",
   "metadata": {},
   "source": [
    "# Mahakala"
   ]
  },
  {
   "cell_type": "code",
   "execution_count": 2,
   "id": "88cfb345",
   "metadata": {},
   "outputs": [
    {
     "name": "stdout",
     "output_type": "stream",
     "text": [
      "cpu\n"
     ]
    }
   ],
   "source": [
    "import mahakala as ma\n",
    "\n",
    "import numpy as np\n",
    "import matplotlib.pyplot as plt"
   ]
  },
  {
   "cell_type": "markdown",
   "id": "c0ee8fb7",
   "metadata": {},
   "source": [
    "## Geodesic trajectories\n",
    "example demo showing the geodesic trajectories for a non-spinning black hole"
   ]
  },
  {
   "cell_type": "code",
   "execution_count": 3,
   "id": "35321f52",
   "metadata": {},
   "outputs": [],
   "source": [
    "s0 = ma.initialize_geodesics_at_camera(60,1000,-20,20,50,'Grid',0.9)"
   ]
  },
  {
   "cell_type": "code",
   "execution_count": 4,
   "id": "f7bb84da",
   "metadata": {
    "scrolled": false
   },
   "outputs": [
    {
     "name": "stderr",
     "output_type": "stream",
     "text": [
      " 11%|█         | 1115/10000 [00:16<02:08, 68.92it/s]\n"
     ]
    }
   ],
   "source": [
    "S,final_dt = ma.geodesic_integrator(10000,s0,40,1e-4, .9)\n"
   ]
  },
  {
   "cell_type": "code",
   "execution_count": null,
   "id": "562fd729",
   "metadata": {},
   "outputs": [],
   "source": []
  },
  {
   "cell_type": "code",
   "execution_count": null,
   "id": "cdb76ea5",
   "metadata": {},
   "outputs": [],
   "source": []
  },
  {
   "cell_type": "code",
   "execution_count": null,
   "id": "5fa52b81",
   "metadata": {},
   "outputs": [],
   "source": []
  },
  {
   "cell_type": "code",
   "execution_count": null,
   "id": "946ced91",
   "metadata": {},
   "outputs": [],
   "source": [
    "geodesic_slices_Schwarschild()"
   ]
  },
  {
   "cell_type": "markdown",
   "id": "a78dcceb",
   "metadata": {},
   "source": [
    "## Shadows\n",
    "example demo of generating a few Kerr shadows for different inclinations and spins"
   ]
  },
  {
   "cell_type": "code",
   "execution_count": null,
   "id": "dcf24c5b",
   "metadata": {},
   "outputs": [],
   "source": [
    "fig, (ax1,ax2) = plt.subplots(2,1)\n",
    "\n",
    "inc = 30\n",
    "for a in [0,.3,.5,.7,.9]:\n",
    "    radii, phi = kerr_shadow(a, inc)\n",
    "    x = radii*np.cos(phi)\n",
    "    y = radii*np.sin(phi)\n",
    "    ax1.plot(x,y, label = r'$a=$'+str(a))\n",
    "ax1.legend(frameon=False)\n",
    "\n",
    "\n",
    "for inc in [0,30,60,90]:\n",
    "    radii, phi = kerr_shadow(a, inc)\n",
    "    x = radii*np.cos(phi)\n",
    "    y = radii*np.sin(phi)\n",
    "    ax2.plot(x,y, label = r'$i=$'+str(inc))\n",
    "ax2.legend(frameon=False)\n",
    "\n"
   ]
  },
  {
   "cell_type": "markdown",
   "id": "7f4dff16",
   "metadata": {},
   "source": [
    "## Analytic Accretion Model\n",
    "example demo of generating an image of an accretion flow based on an analytic accretion model"
   ]
  },
  {
   "cell_type": "code",
   "execution_count": null,
   "id": "59bc77a4",
   "metadata": {},
   "outputs": [],
   "source": [
    "# Take in initial parameters, camera position, and parameters\n",
    "\n",
    "grid_photons = make_grid_photons(inclination_angle, spin, distance)\n",
    "\n",
    "my_geodesics = geodesics(grid_photons, inclination_angle, spin, distance)\n",
    "\n",
    "fluid = get_fluid_grid(GRMHD or analytic?)\n",
    "\n",
    "image = synemiss(my_geodesics, R_high, R_low, Mscale, fluid, ...)"
   ]
  },
  {
   "cell_type": "markdown",
   "id": "779d70d3",
   "metadata": {},
   "source": [
    "## Simulation Image\n",
    "example demo of generating an image based on an example GRMHD snapshot"
   ]
  },
  {
   "cell_type": "code",
   "execution_count": null,
   "id": "616d4c83",
   "metadata": {},
   "outputs": [],
   "source": []
  },
  {
   "cell_type": "code",
   "execution_count": null,
   "id": "73ae0713",
   "metadata": {},
   "outputs": [],
   "source": []
  },
  {
   "cell_type": "code",
   "execution_count": null,
   "id": "f059789f",
   "metadata": {},
   "outputs": [],
   "source": []
  },
  {
   "cell_type": "code",
   "execution_count": null,
   "id": "342a17d5",
   "metadata": {},
   "outputs": [],
   "source": []
  },
  {
   "cell_type": "code",
   "execution_count": null,
   "id": "8b945fa0",
   "metadata": {},
   "outputs": [],
   "source": [
    "\n"
   ]
  },
  {
   "cell_type": "code",
   "execution_count": null,
   "id": "0a09eb84",
   "metadata": {},
   "outputs": [],
   "source": []
  }
 ],
 "metadata": {
  "kernelspec": {
   "display_name": "Python 3 (ipykernel)",
   "language": "python",
   "name": "python3"
  },
  "language_info": {
   "codemirror_mode": {
    "name": "ipython",
    "version": 3
   },
   "file_extension": ".py",
   "mimetype": "text/x-python",
   "name": "python",
   "nbconvert_exporter": "python",
   "pygments_lexer": "ipython3",
   "version": "3.11.5"
  }
 },
 "nbformat": 4,
 "nbformat_minor": 5
}
